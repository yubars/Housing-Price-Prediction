{
  "cells": [
    {
      "cell_type": "code",
      "execution_count": null,
      "metadata": {
        "id": "j9ddCB0aHT0q"
      },
      "outputs": [],
      "source": [
        "import warnings\n",
        "warnings.filterwarnings(\"ignore\")"
      ]
    },
    {
      "cell_type": "code",
      "execution_count": null,
      "metadata": {
        "colab": {
          "base_uri": "https://localhost:8080/"
        },
        "id": "bMJeBQJyMvx8",
        "outputId": "f88a8f87-160d-4d4e-de27-02b839209a5f"
      },
      "outputs": [
        {
          "name": "stdout",
          "output_type": "stream",
          "text": [
            "Requirement already satisfied: tensorflow-io in /usr/local/lib/python3.7/dist-packages (0.22.0)\n",
            "Requirement already satisfied: tensorflow-io-gcs-filesystem==0.22.0 in /usr/local/lib/python3.7/dist-packages (from tensorflow-io) (0.22.0)\n",
            "Requirement already satisfied: tensorflow<2.8.0,>=2.7.0 in /usr/local/lib/python3.7/dist-packages (from tensorflow-io) (2.7.0)\n",
            "Requirement already satisfied: tensorflow-estimator<2.8,~=2.7.0rc0 in /usr/local/lib/python3.7/dist-packages (from tensorflow<2.8.0,>=2.7.0->tensorflow-io) (2.7.0)\n",
            "Requirement already satisfied: termcolor>=1.1.0 in /usr/local/lib/python3.7/dist-packages (from tensorflow<2.8.0,>=2.7.0->tensorflow-io) (1.1.0)\n",
            "Requirement already satisfied: absl-py>=0.4.0 in /usr/local/lib/python3.7/dist-packages (from tensorflow<2.8.0,>=2.7.0->tensorflow-io) (0.12.0)\n",
            "Requirement already satisfied: wrapt>=1.11.0 in /usr/local/lib/python3.7/dist-packages (from tensorflow<2.8.0,>=2.7.0->tensorflow-io) (1.13.3)\n",
            "Requirement already satisfied: tensorboard~=2.6 in /usr/local/lib/python3.7/dist-packages (from tensorflow<2.8.0,>=2.7.0->tensorflow-io) (2.7.0)\n",
            "Requirement already satisfied: wheel<1.0,>=0.32.0 in /usr/local/lib/python3.7/dist-packages (from tensorflow<2.8.0,>=2.7.0->tensorflow-io) (0.37.0)\n",
            "Requirement already satisfied: keras<2.8,>=2.7.0rc0 in /usr/local/lib/python3.7/dist-packages (from tensorflow<2.8.0,>=2.7.0->tensorflow-io) (2.7.0)\n",
            "Requirement already satisfied: libclang>=9.0.1 in /usr/local/lib/python3.7/dist-packages (from tensorflow<2.8.0,>=2.7.0->tensorflow-io) (12.0.0)\n",
            "Requirement already satisfied: grpcio<2.0,>=1.24.3 in /usr/local/lib/python3.7/dist-packages (from tensorflow<2.8.0,>=2.7.0->tensorflow-io) (1.42.0)\n",
            "Requirement already satisfied: six>=1.12.0 in /usr/local/lib/python3.7/dist-packages (from tensorflow<2.8.0,>=2.7.0->tensorflow-io) (1.15.0)\n",
            "Requirement already satisfied: numpy>=1.14.5 in /usr/local/lib/python3.7/dist-packages (from tensorflow<2.8.0,>=2.7.0->tensorflow-io) (1.19.5)\n",
            "Requirement already satisfied: protobuf>=3.9.2 in /usr/local/lib/python3.7/dist-packages (from tensorflow<2.8.0,>=2.7.0->tensorflow-io) (3.17.3)\n",
            "Requirement already satisfied: opt-einsum>=2.3.2 in /usr/local/lib/python3.7/dist-packages (from tensorflow<2.8.0,>=2.7.0->tensorflow-io) (3.3.0)\n",
            "Requirement already satisfied: gast<0.5.0,>=0.2.1 in /usr/local/lib/python3.7/dist-packages (from tensorflow<2.8.0,>=2.7.0->tensorflow-io) (0.4.0)\n",
            "Requirement already satisfied: typing-extensions>=3.6.6 in /usr/local/lib/python3.7/dist-packages (from tensorflow<2.8.0,>=2.7.0->tensorflow-io) (3.10.0.2)\n",
            "Requirement already satisfied: h5py>=2.9.0 in /usr/local/lib/python3.7/dist-packages (from tensorflow<2.8.0,>=2.7.0->tensorflow-io) (3.1.0)\n",
            "Requirement already satisfied: google-pasta>=0.1.1 in /usr/local/lib/python3.7/dist-packages (from tensorflow<2.8.0,>=2.7.0->tensorflow-io) (0.2.0)\n",
            "Requirement already satisfied: keras-preprocessing>=1.1.1 in /usr/local/lib/python3.7/dist-packages (from tensorflow<2.8.0,>=2.7.0->tensorflow-io) (1.1.2)\n",
            "Requirement already satisfied: astunparse>=1.6.0 in /usr/local/lib/python3.7/dist-packages (from tensorflow<2.8.0,>=2.7.0->tensorflow-io) (1.6.3)\n",
            "Requirement already satisfied: flatbuffers<3.0,>=1.12 in /usr/local/lib/python3.7/dist-packages (from tensorflow<2.8.0,>=2.7.0->tensorflow-io) (2.0)\n",
            "Requirement already satisfied: cached-property in /usr/local/lib/python3.7/dist-packages (from h5py>=2.9.0->tensorflow<2.8.0,>=2.7.0->tensorflow-io) (1.5.2)\n",
            "Requirement already satisfied: markdown>=2.6.8 in /usr/local/lib/python3.7/dist-packages (from tensorboard~=2.6->tensorflow<2.8.0,>=2.7.0->tensorflow-io) (3.3.6)\n",
            "Requirement already satisfied: google-auth<3,>=1.6.3 in /usr/local/lib/python3.7/dist-packages (from tensorboard~=2.6->tensorflow<2.8.0,>=2.7.0->tensorflow-io) (1.35.0)\n",
            "Requirement already satisfied: setuptools>=41.0.0 in /usr/local/lib/python3.7/dist-packages (from tensorboard~=2.6->tensorflow<2.8.0,>=2.7.0->tensorflow-io) (57.4.0)\n",
            "Requirement already satisfied: tensorboard-data-server<0.7.0,>=0.6.0 in /usr/local/lib/python3.7/dist-packages (from tensorboard~=2.6->tensorflow<2.8.0,>=2.7.0->tensorflow-io) (0.6.1)\n",
            "Requirement already satisfied: tensorboard-plugin-wit>=1.6.0 in /usr/local/lib/python3.7/dist-packages (from tensorboard~=2.6->tensorflow<2.8.0,>=2.7.0->tensorflow-io) (1.8.0)\n",
            "Requirement already satisfied: requests<3,>=2.21.0 in /usr/local/lib/python3.7/dist-packages (from tensorboard~=2.6->tensorflow<2.8.0,>=2.7.0->tensorflow-io) (2.23.0)\n",
            "Requirement already satisfied: google-auth-oauthlib<0.5,>=0.4.1 in /usr/local/lib/python3.7/dist-packages (from tensorboard~=2.6->tensorflow<2.8.0,>=2.7.0->tensorflow-io) (0.4.6)\n",
            "Requirement already satisfied: werkzeug>=0.11.15 in /usr/local/lib/python3.7/dist-packages (from tensorboard~=2.6->tensorflow<2.8.0,>=2.7.0->tensorflow-io) (1.0.1)\n",
            "Requirement already satisfied: rsa<5,>=3.1.4 in /usr/local/lib/python3.7/dist-packages (from google-auth<3,>=1.6.3->tensorboard~=2.6->tensorflow<2.8.0,>=2.7.0->tensorflow-io) (4.8)\n",
            "Requirement already satisfied: pyasn1-modules>=0.2.1 in /usr/local/lib/python3.7/dist-packages (from google-auth<3,>=1.6.3->tensorboard~=2.6->tensorflow<2.8.0,>=2.7.0->tensorflow-io) (0.2.8)\n",
            "Requirement already satisfied: cachetools<5.0,>=2.0.0 in /usr/local/lib/python3.7/dist-packages (from google-auth<3,>=1.6.3->tensorboard~=2.6->tensorflow<2.8.0,>=2.7.0->tensorflow-io) (4.2.4)\n",
            "Requirement already satisfied: requests-oauthlib>=0.7.0 in /usr/local/lib/python3.7/dist-packages (from google-auth-oauthlib<0.5,>=0.4.1->tensorboard~=2.6->tensorflow<2.8.0,>=2.7.0->tensorflow-io) (1.3.0)\n",
            "Requirement already satisfied: importlib-metadata>=4.4 in /usr/local/lib/python3.7/dist-packages (from markdown>=2.6.8->tensorboard~=2.6->tensorflow<2.8.0,>=2.7.0->tensorflow-io) (4.8.2)\n",
            "Requirement already satisfied: zipp>=0.5 in /usr/local/lib/python3.7/dist-packages (from importlib-metadata>=4.4->markdown>=2.6.8->tensorboard~=2.6->tensorflow<2.8.0,>=2.7.0->tensorflow-io) (3.6.0)\n",
            "Requirement already satisfied: pyasn1<0.5.0,>=0.4.6 in /usr/local/lib/python3.7/dist-packages (from pyasn1-modules>=0.2.1->google-auth<3,>=1.6.3->tensorboard~=2.6->tensorflow<2.8.0,>=2.7.0->tensorflow-io) (0.4.8)\n",
            "Requirement already satisfied: urllib3!=1.25.0,!=1.25.1,<1.26,>=1.21.1 in /usr/local/lib/python3.7/dist-packages (from requests<3,>=2.21.0->tensorboard~=2.6->tensorflow<2.8.0,>=2.7.0->tensorflow-io) (1.24.3)\n",
            "Requirement already satisfied: certifi>=2017.4.17 in /usr/local/lib/python3.7/dist-packages (from requests<3,>=2.21.0->tensorboard~=2.6->tensorflow<2.8.0,>=2.7.0->tensorflow-io) (2021.10.8)\n",
            "Requirement already satisfied: chardet<4,>=3.0.2 in /usr/local/lib/python3.7/dist-packages (from requests<3,>=2.21.0->tensorboard~=2.6->tensorflow<2.8.0,>=2.7.0->tensorflow-io) (3.0.4)\n",
            "Requirement already satisfied: idna<3,>=2.5 in /usr/local/lib/python3.7/dist-packages (from requests<3,>=2.21.0->tensorboard~=2.6->tensorflow<2.8.0,>=2.7.0->tensorflow-io) (2.10)\n",
            "Requirement already satisfied: oauthlib>=3.0.0 in /usr/local/lib/python3.7/dist-packages (from requests-oauthlib>=0.7.0->google-auth-oauthlib<0.5,>=0.4.1->tensorboard~=2.6->tensorflow<2.8.0,>=2.7.0->tensorflow-io) (3.1.1)\n",
            "Requirement already satisfied: kafka-python in /usr/local/lib/python3.7/dist-packages (2.0.2)\n"
          ]
        }
      ],
      "source": [
        "# Installing the packages\n",
        "\n",
        "!pip install tensorflow-io\n",
        "!pip install kafka-python"
      ]
    },
    {
      "cell_type": "code",
      "execution_count": null,
      "metadata": {
        "id": "eW0kxlBrH9Bx"
      },
      "outputs": [],
      "source": [
        "# Importing the packages\n",
        "\n",
        "from sklearn.ensemble import RandomForestRegressor\n",
        "from sklearn.model_selection import train_test_split\n",
        "import pandas as pd\n",
        "import matplotlib.pyplot as plt\n",
        "import numpy as np\n",
        "from sklearn.metrics import r2_score\n",
        "import time \n",
        "from kafka import KafkaProducer\n",
        "import tensorflow as tf\n",
        "import tensorflow_io as tfio\n",
        "# import pickle as pkl\n",
        "from joblib import load"
      ]
    },
    {
      "cell_type": "markdown",
      "metadata": {
        "id": "ULUi9ERLNJ4c"
      },
      "source": [
        "Download and setup Kafka for real time data stream simulation. \n"
      ]
    },
    {
      "cell_type": "code",
      "execution_count": null,
      "metadata": {
        "id": "2sivCt0xNIL5"
      },
      "outputs": [],
      "source": [
        "!curl -sSOL https://downloads.apache.org/kafka/2.8.1/kafka_2.12-2.8.1.tgz\n",
        "!tar -xzf kafka_2.12-2.8.1.tgz "
      ]
    },
    {
      "cell_type": "markdown",
      "metadata": {
        "id": "DadZAWGSNSzw"
      },
      "source": [
        "Start Kafka and Zookeeper servers as a daemon processes. Zookeeper is a centralized service for maintaing configuration information, naming, providing distributed synchronization, and providing group services."
      ]
    },
    {
      "cell_type": "code",
      "execution_count": null,
      "metadata": {
        "id": "0gXpOLebNPMJ"
      },
      "outputs": [],
      "source": [
        "!./kafka_2.12-2.8.1/bin/zookeeper-server-start.sh -daemon ./kafka_2.12-2.8.1/config/zookeeper.properties\n",
        "!./kafka_2.12-2.8.1/bin/kafka-server-start.sh -daemon ./kafka_2.12-2.8.1/config/server.properties"
      ]
    },
    {
      "cell_type": "markdown",
      "metadata": {
        "id": "CWUcesuvNcpw"
      },
      "source": [
        "### Create a topic to store partitions\n",
        "Create topic for train and test dataset to store events in Kafka. Kafka is a distributed event streaming platform that lets you read, write, store and process partitions. These events or messages are organized and stored in topics. In simple terms, topic is similar to a folder in a filesystem, and the message are the file in that folder."
      ]
    },
    {
      "cell_type": "code",
      "execution_count": null,
      "metadata": {
        "colab": {
          "base_uri": "https://localhost:8080/"
        },
        "id": "RjBUV3jKNf6D",
        "outputId": "fbcb3a29-3a42-4cff-d1cb-7787d28a3e13"
      },
      "outputs": [
        {
          "name": "stdout",
          "output_type": "stream",
          "text": [
            "Error while executing topic command : Topic 'home-train' already exists.\n",
            "[2021-12-09 17:04:16,907] ERROR org.apache.kafka.common.errors.TopicExistsException: Topic 'home-train' already exists.\n",
            " (kafka.admin.TopicCommand$)\n",
            "Error while executing topic command : Topic 'home-test' already exists.\n",
            "[2021-12-09 17:04:20,213] ERROR org.apache.kafka.common.errors.TopicExistsException: Topic 'home-test' already exists.\n",
            " (kafka.admin.TopicCommand$)\n"
          ]
        }
      ],
      "source": [
        "!./kafka_2.12-2.8.1/bin/kafka-topics.sh --create --topic home-train --bootstrap-server localhost:9092 --replication-factor 1 --partitions 1\n",
        "!./kafka_2.12-2.8.1/bin/kafka-topics.sh --create --topic home-test --bootstrap-server localhost:9092 --replication-factor 1 --partitions 2"
      ]
    },
    {
      "cell_type": "markdown",
      "metadata": {
        "id": "4-eMbie_N-As"
      },
      "source": [
        "### Describe the topic for details\n",
        "Describe command helps us gather details on topic, it's partitions, replicas, and other important information.\n"
      ]
    },
    {
      "cell_type": "code",
      "execution_count": null,
      "metadata": {
        "colab": {
          "base_uri": "https://localhost:8080/"
        },
        "id": "AHr69u5VNyIW",
        "outputId": "afdf258e-58f4-4481-dc86-0946c4d5aec7"
      },
      "outputs": [
        {
          "name": "stdout",
          "output_type": "stream",
          "text": [
            "Topic: home-train\tTopicId: 3wH1pcJbSpScV85RQ2OlZg\tPartitionCount: 1\tReplicationFactor: 1\tConfigs: segment.bytes=1073741824\n",
            "\tTopic: home-train\tPartition: 0\tLeader: 0\tReplicas: 0\tIsr: 0\n",
            "Topic: home-test\tTopicId: xCbuluo9Sh6Wa06eOUAqgQ\tPartitionCount: 2\tReplicationFactor: 1\tConfigs: segment.bytes=1073741824\n",
            "\tTopic: home-test\tPartition: 0\tLeader: 0\tReplicas: 0\tIsr: 0\n",
            "\tTopic: home-test\tPartition: 1\tLeader: 0\tReplicas: 0\tIsr: 0\n"
          ]
        }
      ],
      "source": [
        "!./kafka_2.12-2.8.1/bin/kafka-topics.sh --describe --topic home-train --bootstrap-server localhost:9092\n",
        "!./kafka_2.12-2.8.1/bin/kafka-topics.sh --describe --topic home-test --bootstrap-server localhost:9092"
      ]
    },
    {
      "cell_type": "code",
      "execution_count": null,
      "metadata": {
        "colab": {
          "base_uri": "https://localhost:8080/"
        },
        "id": "sSxvxDTtA5LO",
        "outputId": "dd5d8e45-8ed8-4cd7-d9a0-973014946028"
      },
      "outputs": [
        {
          "name": "stdout",
          "output_type": "stream",
          "text": [
            "Drive already mounted at /content/drive; to attempt to forcibly remount, call drive.mount(\"/content/drive\", force_remount=True).\n"
          ]
        }
      ],
      "source": [
        "from google.colab import drive\n",
        "drive.mount('/content/drive')"
      ]
    },
    {
      "cell_type": "markdown",
      "metadata": {},
      "source": [
        "# Error was observed in this section at today's demo. Rerunning the code section below solved the issue."
      ]
    },
    {
      "cell_type": "code",
      "execution_count": null,
      "metadata": {
        "id": "p8p1ipFpBJ9N"
      },
      "outputs": [],
      "source": [
        "data = pd.read_csv(\"/content/drive/MyDrive/Software Engg Regression Analysis/[LATEST] Manish New Data/onlineLearningData.csv\")"
      ]
    },
    {
      "cell_type": "code",
      "execution_count": null,
      "metadata": {
        "colab": {
          "base_uri": "https://localhost:8080/",
          "height": 383
        },
        "id": "N7oDil4JGdZ9",
        "outputId": "c3acc08c-e4b4-4f3d-bc3d-c1d53141735e"
      },
      "outputs": [
        {
          "data": {
            "text/html": [
              "<div>\n",
              "<style scoped>\n",
              "    .dataframe tbody tr th:only-of-type {\n",
              "        vertical-align: middle;\n",
              "    }\n",
              "\n",
              "    .dataframe tbody tr th {\n",
              "        vertical-align: top;\n",
              "    }\n",
              "\n",
              "    .dataframe thead th {\n",
              "        text-align: right;\n",
              "    }\n",
              "</style>\n",
              "<table border=\"1\" class=\"dataframe\">\n",
              "  <thead>\n",
              "    <tr style=\"text-align: right;\">\n",
              "      <th></th>\n",
              "      <th>city</th>\n",
              "      <th>state</th>\n",
              "      <th>street</th>\n",
              "      <th>streetSuffix</th>\n",
              "      <th>zip</th>\n",
              "      <th>latitude</th>\n",
              "      <th>longitude</th>\n",
              "      <th>landUseDescription</th>\n",
              "      <th>zoningDescription</th>\n",
              "      <th>lotSizeAcres</th>\n",
              "      <th>lotSizeSquareFeet</th>\n",
              "      <th>lotTopography</th>\n",
              "      <th>condition</th>\n",
              "      <th>architecturalStyle</th>\n",
              "      <th>yearBuilt</th>\n",
              "      <th>totalStories</th>\n",
              "      <th>totalRooms</th>\n",
              "      <th>bedrooms</th>\n",
              "      <th>baths</th>\n",
              "      <th>heating</th>\n",
              "      <th>airConditioning</th>\n",
              "      <th>foundation</th>\n",
              "      <th>fireplace</th>\n",
              "      <th>soldYear</th>\n",
              "      <th>housePrice</th>\n",
              "    </tr>\n",
              "  </thead>\n",
              "  <tbody>\n",
              "    <tr>\n",
              "      <th>0</th>\n",
              "      <td>0.55</td>\n",
              "      <td>0.183673</td>\n",
              "      <td>0.732941</td>\n",
              "      <td>0.738462</td>\n",
              "      <td>-0.427423</td>\n",
              "      <td>0.073222</td>\n",
              "      <td>-0.111884</td>\n",
              "      <td>0.8125</td>\n",
              "      <td>0.494253</td>\n",
              "      <td>-0.042721</td>\n",
              "      <td>-0.042721</td>\n",
              "      <td>0.2</td>\n",
              "      <td>0</td>\n",
              "      <td>0.8</td>\n",
              "      <td>-1.133603</td>\n",
              "      <td>-1.107410</td>\n",
              "      <td>0.325799</td>\n",
              "      <td>-0.689433</td>\n",
              "      <td>-1.007367</td>\n",
              "      <td>0.25</td>\n",
              "      <td>1</td>\n",
              "      <td>0</td>\n",
              "      <td>0</td>\n",
              "      <td>0</td>\n",
              "      <td>179300</td>\n",
              "    </tr>\n",
              "    <tr>\n",
              "      <th>1</th>\n",
              "      <td>0.55</td>\n",
              "      <td>0.183673</td>\n",
              "      <td>0.640179</td>\n",
              "      <td>0.569231</td>\n",
              "      <td>-0.427423</td>\n",
              "      <td>-10.080057</td>\n",
              "      <td>10.082796</td>\n",
              "      <td>0.8125</td>\n",
              "      <td>0.494253</td>\n",
              "      <td>-0.006182</td>\n",
              "      <td>-0.006182</td>\n",
              "      <td>0.2</td>\n",
              "      <td>0</td>\n",
              "      <td>0.4</td>\n",
              "      <td>-1.207690</td>\n",
              "      <td>0.876433</td>\n",
              "      <td>-0.742079</td>\n",
              "      <td>-0.689433</td>\n",
              "      <td>0.156434</td>\n",
              "      <td>0.25</td>\n",
              "      <td>1</td>\n",
              "      <td>1</td>\n",
              "      <td>0</td>\n",
              "      <td>0</td>\n",
              "      <td>210500</td>\n",
              "    </tr>\n",
              "    <tr>\n",
              "      <th>2</th>\n",
              "      <td>0.55</td>\n",
              "      <td>0.183673</td>\n",
              "      <td>0.489318</td>\n",
              "      <td>0.215385</td>\n",
              "      <td>-0.427423</td>\n",
              "      <td>0.074465</td>\n",
              "      <td>-0.112542</td>\n",
              "      <td>0.1875</td>\n",
              "      <td>0.482759</td>\n",
              "      <td>-0.015317</td>\n",
              "      <td>-0.015316</td>\n",
              "      <td>0.2</td>\n",
              "      <td>0</td>\n",
              "      <td>0.2</td>\n",
              "      <td>-1.207690</td>\n",
              "      <td>0.876433</td>\n",
              "      <td>0.325799</td>\n",
              "      <td>0.573313</td>\n",
              "      <td>0.156434</td>\n",
              "      <td>0.25</td>\n",
              "      <td>1</td>\n",
              "      <td>1</td>\n",
              "      <td>0</td>\n",
              "      <td>0</td>\n",
              "      <td>251400</td>\n",
              "    </tr>\n",
              "    <tr>\n",
              "      <th>3</th>\n",
              "      <td>0.55</td>\n",
              "      <td>0.183673</td>\n",
              "      <td>0.211031</td>\n",
              "      <td>0.646154</td>\n",
              "      <td>-0.427423</td>\n",
              "      <td>0.073769</td>\n",
              "      <td>-0.112294</td>\n",
              "      <td>0.8125</td>\n",
              "      <td>0.494253</td>\n",
              "      <td>-0.033586</td>\n",
              "      <td>-0.033586</td>\n",
              "      <td>0.2</td>\n",
              "      <td>0</td>\n",
              "      <td>1.0</td>\n",
              "      <td>-1.207690</td>\n",
              "      <td>-1.107410</td>\n",
              "      <td>-0.742079</td>\n",
              "      <td>-0.689433</td>\n",
              "      <td>-1.007367</td>\n",
              "      <td>0.25</td>\n",
              "      <td>1</td>\n",
              "      <td>1</td>\n",
              "      <td>0</td>\n",
              "      <td>0</td>\n",
              "      <td>215400</td>\n",
              "    </tr>\n",
              "    <tr>\n",
              "      <th>4</th>\n",
              "      <td>0.55</td>\n",
              "      <td>0.183673</td>\n",
              "      <td>0.198060</td>\n",
              "      <td>0.646154</td>\n",
              "      <td>-0.427423</td>\n",
              "      <td>0.073605</td>\n",
              "      <td>-0.112189</td>\n",
              "      <td>0.8125</td>\n",
              "      <td>0.482759</td>\n",
              "      <td>0.094302</td>\n",
              "      <td>0.094302</td>\n",
              "      <td>0.2</td>\n",
              "      <td>0</td>\n",
              "      <td>0.6</td>\n",
              "      <td>-0.763171</td>\n",
              "      <td>-1.107410</td>\n",
              "      <td>-0.742079</td>\n",
              "      <td>-0.689433</td>\n",
              "      <td>-1.007367</td>\n",
              "      <td>0.25</td>\n",
              "      <td>1</td>\n",
              "      <td>0</td>\n",
              "      <td>0</td>\n",
              "      <td>0</td>\n",
              "      <td>191800</td>\n",
              "    </tr>\n",
              "    <tr>\n",
              "      <th>5</th>\n",
              "      <td>0.55</td>\n",
              "      <td>0.183673</td>\n",
              "      <td>0.198060</td>\n",
              "      <td>0.646154</td>\n",
              "      <td>-0.427423</td>\n",
              "      <td>0.073765</td>\n",
              "      <td>-0.112220</td>\n",
              "      <td>0.8125</td>\n",
              "      <td>0.482759</td>\n",
              "      <td>-0.079261</td>\n",
              "      <td>-0.079260</td>\n",
              "      <td>0.0</td>\n",
              "      <td>0</td>\n",
              "      <td>0.4</td>\n",
              "      <td>-1.207690</td>\n",
              "      <td>0.876433</td>\n",
              "      <td>0.325799</td>\n",
              "      <td>0.573313</td>\n",
              "      <td>0.156434</td>\n",
              "      <td>0.25</td>\n",
              "      <td>1</td>\n",
              "      <td>1</td>\n",
              "      <td>0</td>\n",
              "      <td>0</td>\n",
              "      <td>200000</td>\n",
              "    </tr>\n",
              "    <tr>\n",
              "      <th>6</th>\n",
              "      <td>0.55</td>\n",
              "      <td>0.183673</td>\n",
              "      <td>0.020929</td>\n",
              "      <td>0.246154</td>\n",
              "      <td>-0.427423</td>\n",
              "      <td>0.075691</td>\n",
              "      <td>-0.111749</td>\n",
              "      <td>0.1875</td>\n",
              "      <td>0.482759</td>\n",
              "      <td>-0.051856</td>\n",
              "      <td>-0.051856</td>\n",
              "      <td>0.0</td>\n",
              "      <td>0</td>\n",
              "      <td>0.2</td>\n",
              "      <td>-0.614999</td>\n",
              "      <td>0.876433</td>\n",
              "      <td>0.325799</td>\n",
              "      <td>0.573313</td>\n",
              "      <td>0.156434</td>\n",
              "      <td>0.25</td>\n",
              "      <td>1</td>\n",
              "      <td>0</td>\n",
              "      <td>0</td>\n",
              "      <td>0</td>\n",
              "      <td>272600</td>\n",
              "    </tr>\n",
              "    <tr>\n",
              "      <th>7</th>\n",
              "      <td>0.55</td>\n",
              "      <td>0.183673</td>\n",
              "      <td>0.679638</td>\n",
              "      <td>0.246154</td>\n",
              "      <td>-0.427423</td>\n",
              "      <td>0.075310</td>\n",
              "      <td>-0.112056</td>\n",
              "      <td>0.1875</td>\n",
              "      <td>0.482759</td>\n",
              "      <td>0.012088</td>\n",
              "      <td>0.012088</td>\n",
              "      <td>0.0</td>\n",
              "      <td>0</td>\n",
              "      <td>0.2</td>\n",
              "      <td>-0.689085</td>\n",
              "      <td>-1.107410</td>\n",
              "      <td>-0.208140</td>\n",
              "      <td>0.573313</td>\n",
              "      <td>0.156434</td>\n",
              "      <td>0.25</td>\n",
              "      <td>1</td>\n",
              "      <td>1</td>\n",
              "      <td>0</td>\n",
              "      <td>0</td>\n",
              "      <td>254000</td>\n",
              "    </tr>\n",
              "    <tr>\n",
              "      <th>8</th>\n",
              "      <td>0.55</td>\n",
              "      <td>0.183673</td>\n",
              "      <td>0.679638</td>\n",
              "      <td>0.246154</td>\n",
              "      <td>-0.427423</td>\n",
              "      <td>0.074490</td>\n",
              "      <td>-0.111933</td>\n",
              "      <td>0.1875</td>\n",
              "      <td>0.482759</td>\n",
              "      <td>0.030358</td>\n",
              "      <td>0.030358</td>\n",
              "      <td>0.0</td>\n",
              "      <td>0</td>\n",
              "      <td>0.2</td>\n",
              "      <td>-0.689085</td>\n",
              "      <td>0.876433</td>\n",
              "      <td>0.859737</td>\n",
              "      <td>0.573313</td>\n",
              "      <td>0.156434</td>\n",
              "      <td>0.25</td>\n",
              "      <td>1</td>\n",
              "      <td>0</td>\n",
              "      <td>0</td>\n",
              "      <td>0</td>\n",
              "      <td>247700</td>\n",
              "    </tr>\n",
              "    <tr>\n",
              "      <th>9</th>\n",
              "      <td>0.55</td>\n",
              "      <td>0.183673</td>\n",
              "      <td>0.103990</td>\n",
              "      <td>0.246154</td>\n",
              "      <td>-0.427423</td>\n",
              "      <td>0.075564</td>\n",
              "      <td>-0.111954</td>\n",
              "      <td>0.1875</td>\n",
              "      <td>0.482759</td>\n",
              "      <td>0.231325</td>\n",
              "      <td>0.231325</td>\n",
              "      <td>0.4</td>\n",
              "      <td>0</td>\n",
              "      <td>0.2</td>\n",
              "      <td>-0.170480</td>\n",
              "      <td>0.876433</td>\n",
              "      <td>0.325799</td>\n",
              "      <td>0.573313</td>\n",
              "      <td>0.156434</td>\n",
              "      <td>0.25</td>\n",
              "      <td>1</td>\n",
              "      <td>1</td>\n",
              "      <td>0</td>\n",
              "      <td>0</td>\n",
              "      <td>269900</td>\n",
              "    </tr>\n",
              "  </tbody>\n",
              "</table>\n",
              "</div>"
            ],
            "text/plain": [
              "   city     state    street  ...  fireplace  soldYear  housePrice\n",
              "0  0.55  0.183673  0.732941  ...          0         0      179300\n",
              "1  0.55  0.183673  0.640179  ...          0         0      210500\n",
              "2  0.55  0.183673  0.489318  ...          0         0      251400\n",
              "3  0.55  0.183673  0.211031  ...          0         0      215400\n",
              "4  0.55  0.183673  0.198060  ...          0         0      191800\n",
              "5  0.55  0.183673  0.198060  ...          0         0      200000\n",
              "6  0.55  0.183673  0.020929  ...          0         0      272600\n",
              "7  0.55  0.183673  0.679638  ...          0         0      254000\n",
              "8  0.55  0.183673  0.679638  ...          0         0      247700\n",
              "9  0.55  0.183673  0.103990  ...          0         0      269900\n",
              "\n",
              "[10 rows x 25 columns]"
            ]
          },
          "execution_count": 42,
          "metadata": {},
          "output_type": "execute_result"
        }
      ],
      "source": [
        "data.head(10)"
      ]
    },
    {
      "cell_type": "code",
      "execution_count": null,
      "metadata": {
        "id": "yHRtMXtBRrHy"
      },
      "outputs": [],
      "source": [
        "train_df, test_df = train_test_split(data, test_size=0.3, shuffle=True)\n",
        "test_df, validate_df = train_test_split(test_df, test_size= 0.3, shuffle= True)\n",
        "x_train_df = train_df.drop([\"housePrice\"], axis=1)\n",
        "y_train_df = train_df[\"housePrice\"]\n",
        "\n",
        "x_test_df = test_df.drop([\"housePrice\"], axis=1)\n",
        "y_test_df = test_df[\"housePrice\"]\n",
        "\n",
        "x_validate_df = validate_df.drop([\"housePrice\"], axis = 1)\n",
        "y_validate_df = validate_df[\"housePrice\"]"
      ]
    },
    {
      "cell_type": "code",
      "execution_count": null,
      "metadata": {
        "colab": {
          "base_uri": "https://localhost:8080/"
        },
        "id": "1SUVSbsCSlG4",
        "outputId": "576c6e8c-b109-48c0-8491-8e669dd98da0"
      },
      "outputs": [
        {
          "name": "stdout",
          "output_type": "stream",
          "text": [
            "Number of training samples:  35\n",
            "Number of testing sample:  10\n"
          ]
        }
      ],
      "source": [
        "print(\"Number of training samples: \",len(train_df))\n",
        "print(\"Number of testing sample: \",len(test_df))"
      ]
    },
    {
      "cell_type": "markdown",
      "metadata": {
        "id": "JgGTirxRQPFw"
      },
      "source": [
        "### Convert data to list format\n",
        "Read each row from the dataframe and convert it to the list format to feed to Kafka."
      ]
    },
    {
      "cell_type": "code",
      "execution_count": null,
      "metadata": {
        "colab": {
          "base_uri": "https://localhost:8080/"
        },
        "id": "uW4WcWDnQP15",
        "outputId": "7420412f-8d77-4e20-eaac-27d7e82632b8"
      },
      "outputs": [
        {
          "data": {
            "text/plain": [
              "(35, 35, 10, 10)"
            ]
          },
          "execution_count": 45,
          "metadata": {},
          "output_type": "execute_result"
        }
      ],
      "source": [
        "#Convert each test and train dataframe to list form to feed to kafka\n",
        "x_train = list(filter(None, x_train_df.to_csv(index=False).split(\"\\n\")[1:]))\n",
        "y_train = list(filter(None, y_train_df.to_csv(index=False).split(\"\\n\")[1:]))\n",
        "\n",
        "x_test = list(filter(None, x_test_df.to_csv(index=False).split(\"\\n\")[1:]))\n",
        "y_test = list(filter(None, y_test_df.to_csv(index=False).split(\"\\n\")[1:]))\n",
        "len(x_train), len(y_train), len(x_test), len(y_test)"
      ]
    },
    {
      "cell_type": "code",
      "execution_count": null,
      "metadata": {
        "id": "QoDkiUA3Tg15"
      },
      "outputs": [],
      "source": [
        "NUM_COLUMNS = len(x_train_df.columns)"
      ]
    },
    {
      "cell_type": "markdown",
      "metadata": {
        "id": "pvUOcwEpPtj-"
      },
      "source": [
        "### Create Kafka Producer \n",
        "Create Kafka producer which takes in data and sends the record to the partition within a topic in Kafka cluster. "
      ]
    },
    {
      "cell_type": "code",
      "execution_count": null,
      "metadata": {
        "colab": {
          "base_uri": "https://localhost:8080/"
        },
        "id": "iLOMNKMcPs6P",
        "outputId": "8172c758-bc48-4e1b-8d2f-c3035b480d91"
      },
      "outputs": [
        {
          "name": "stdout",
          "output_type": "stream",
          "text": [
            "Wrote 35 messages into topic: home-train\n",
            "Wrote 10 messages into topic: home-test\n"
          ]
        }
      ],
      "source": [
        "#send each record to a partition within a topic in kafka cluster\n",
        "def write_to_kafka(topic, items):\n",
        "  count=0\n",
        "  producer = KafkaProducer(bootstrap_servers=['localhost:9092'])\n",
        "  for message, key in items:\n",
        "    producer.send(topic, key=key.encode('utf-8'), value=message.encode('utf-8'))\n",
        "    count += 1 \n",
        "  producer.flush()\n",
        "  print(\"Wrote {0} messages into topic: {1}\".format(count, topic))\n",
        "\n",
        "write_to_kafka(\"home-train\", zip(x_train, y_train))\n",
        "write_to_kafka(\"home-test\", zip(x_test, y_test))"
      ]
    },
    {
      "cell_type": "markdown",
      "metadata": {
        "id": "7Pt8xG73TXG-"
      },
      "source": [
        "### Online Learning\n",
        "Unlike traditional training of machine learning models, online learning is based on incrementally learning or updating parameters as soon as the new data points are available. This process continues indefinitely. In the code below, stream_timeout is set to 10000 milliseconds which means as all the messages are consumed from the topic, the dataset will wait for 10 more seconds before timing out and disconnecting from the Kafka cluster. If additional data arrives in that time period, model training resumes. "
      ]
    },
    {
      "cell_type": "code",
      "execution_count": null,
      "metadata": {
        "id": "Djw8hnRzgpE8"
      },
      "outputs": [],
      "source": [
        "online_train_ds = tfio.experimental.streaming.KafkaGroupIODataset(\n",
        "    topics=[\"home-train\"],\n",
        "    group_id=\"cgonline\",\n",
        "    servers=\"localhost:9092\",\n",
        "    stream_timeout=10000, # in milliseconds, to block indefinitely, set it to -1.\n",
        "    configuration=[\n",
        "        \"session.timeout.ms=7000\",\n",
        "        \"max.poll.interval.ms=8000\",\n",
        "        \"auto.offset.reset=earliest\"\n",
        "    ],\n",
        ")\n",
        "\n",
        "def decode_kafka_online_item(raw_message, raw_key):\n",
        "  message = tf.io.decode_csv(raw_message, [[0.0] for i in range(NUM_COLUMNS)])\n",
        "  key = tf.strings.to_number(raw_key)\n",
        "  return (message, key)"
      ]
    },
    {
      "cell_type": "code",
      "execution_count": null,
      "metadata": {
        "id": "0ue4ch4b0EOs"
      },
      "outputs": [],
      "source": [
        "# We decode the data and their corresponding labels, and store them as a simple array\n",
        "\n",
        "online_train_ds_temp = online_train_ds.map(decode_kafka_online_item)\n",
        "\n",
        "final_online_data = list()\n",
        "final_online_label = list()\n",
        "\n",
        "for data, label in online_train_ds_temp:\n",
        "  data = np.array(data)\n",
        "  label = np.array(label)\n",
        "  final_online_data.append(data)\n",
        "  final_online_label.append(label)"
      ]
    },
    {
      "cell_type": "code",
      "execution_count": null,
      "metadata": {
        "colab": {
          "base_uri": "https://localhost:8080/"
        },
        "id": "WBkemG2rF3Qs",
        "outputId": "93c19da4-0107-456c-b285-8f530ee99fcb"
      },
      "outputs": [
        {
          "data": {
            "text/plain": [
              "[array([ 0.5       ,  0.18367347,  0.44190103,  0.21538462, -0.4460443 ,\n",
              "         0.08095665, -0.10649131,  0.8125    ,  0.9770115 , -0.2802274 ,\n",
              "        -0.28022727,  0.        ,  0.        ,  0.4       ,  0.5703841 ,\n",
              "         0.87643266, -1.2760178 , -0.6894334 ,  0.15643424,  0.25      ,\n",
              "         1.        ,  1.        ,  0.        ,  0.        ], dtype=float32),\n",
              " array([ 0.55      ,  0.18367347,  0.6950076 ,  0.24615385, -0.42742252,\n",
              "         0.06264027, -0.10681795,  0.8125    ,  0.49425286,  1.5832833 ,\n",
              "         1.5832833 ,  0.2       ,  0.        ,  1.        , -1.6522083 ,\n",
              "        -1.1074098 , -0.74207896, -0.6894334 , -1.0073668 ,  0.25      ,\n",
              "         1.        ,  1.        ,  0.        ,  0.        ], dtype=float32),\n",
              " array([ 0.5       ,  0.18367347,  0.8446697 ,  0.24615385, -0.4460443 ,\n",
              "         0.08162275, -0.10560156,  0.8125    ,  0.6666667 , -0.17974396,\n",
              "        -0.17974387,  0.2       ,  0.        ,  0.4       ,  0.19995204,\n",
              "         0.87643266,  0.32579863, -0.6894334 ,  0.15643424,  0.25      ,\n",
              "         1.        ,  1.        ,  0.        ,  0.        ], dtype=float32),\n",
              " array([ 0.5       ,  0.18367347,  0.08327883,  0.9076923 , -0.4460443 ,\n",
              "         0.08185448, -0.10442515,  0.8125    ,  0.6896552 , -0.1523394 ,\n",
              "        -0.1523393 ,  0.2       ,  0.        ,  0.4       ,  0.5703841 ,\n",
              "         0.87643266,  0.32579863,  0.57331306,  0.15643424,  0.25      ,\n",
              "         1.        ,  1.        ,  0.        ,  0.        ], dtype=float32),\n",
              " array([ 0.55      ,  0.18367347,  0.19805974,  0.64615387, -0.42742252,\n",
              "         0.07376499, -0.11222022,  0.8125    ,  0.4827586 , -0.07926054,\n",
              "        -0.07926045,  0.        ,  0.        ,  0.4       , -1.2076899 ,\n",
              "         0.87643266,  0.32579863,  0.57331306,  0.15643424,  0.25      ,\n",
              "         1.        ,  1.        ,  0.        ,  0.        ], dtype=float32)]"
            ]
          },
          "execution_count": 50,
          "metadata": {},
          "output_type": "execute_result"
        }
      ],
      "source": [
        "final_online_data[:5]"
      ]
    },
    {
      "cell_type": "code",
      "execution_count": null,
      "metadata": {
        "colab": {
          "base_uri": "https://localhost:8080/"
        },
        "id": "QfeT0SQkF7Vs",
        "outputId": "8e27d089-247c-4dad-f3f2-7cb4767cf5d8"
      },
      "outputs": [
        {
          "data": {
            "text/plain": [
              "[array(241100., dtype=float32),\n",
              " array(292000., dtype=float32),\n",
              " array(204600., dtype=float32),\n",
              " array(218100., dtype=float32),\n",
              " array(200000., dtype=float32)]"
            ]
          },
          "execution_count": 51,
          "metadata": {},
          "output_type": "execute_result"
        }
      ],
      "source": [
        "final_online_label[:5]"
      ]
    },
    {
      "cell_type": "code",
      "execution_count": null,
      "metadata": {
        "id": "Rl_Jqg-p00Rf"
      },
      "outputs": [],
      "source": [
        "# Loading the pretrained random forest model\n",
        "\n",
        "import joblib\n",
        "\n",
        "rf_model = joblib.load(\"/content/drive/MyDrive/Software Engg Regression Analysis/[LATEST] Manish New Data/final_rf_model.joblib\")"
      ]
    },
    {
      "cell_type": "code",
      "execution_count": null,
      "metadata": {
        "colab": {
          "base_uri": "https://localhost:8080/"
        },
        "id": "GqUYpG_oAxOg",
        "outputId": "b82a3d31-4e9a-4b54-e7b6-ba9ecc12d4bd"
      },
      "outputs": [
        {
          "data": {
            "text/plain": [
              "sklearn.ensemble._forest.RandomForestRegressor"
            ]
          },
          "execution_count": 53,
          "metadata": {},
          "output_type": "execute_result"
        }
      ],
      "source": [
        "type(rf_model)"
      ]
    },
    {
      "cell_type": "code",
      "execution_count": null,
      "metadata": {
        "colab": {
          "base_uri": "https://localhost:8080/"
        },
        "id": "CoaC5PTsAvpZ",
        "outputId": "6c14c7e3-7138-4709-ee74-2f40fa05305a"
      },
      "outputs": [
        {
          "data": {
            "text/plain": [
              "RandomForestRegressor(max_depth=23)"
            ]
          },
          "execution_count": 54,
          "metadata": {},
          "output_type": "execute_result"
        }
      ],
      "source": [
        "# Fitting the pretrained random forest model using the online data\n",
        "\n",
        "rf_model.fit(final_online_data, final_online_label)"
      ]
    },
    {
      "cell_type": "code",
      "execution_count": null,
      "metadata": {
        "id": "POpFyKWNGBxk"
      },
      "outputs": [],
      "source": [
        "# Now testing the new model predictions on the new online data\n",
        "\n",
        "preds = rf_model.predict(final_online_data)"
      ]
    },
    {
      "cell_type": "code",
      "execution_count": null,
      "metadata": {
        "colab": {
          "base_uri": "https://localhost:8080/"
        },
        "id": "ndModI_pGGox",
        "outputId": "35b4e5d9-6014-4eff-ccb3-24c609fec7cc"
      },
      "outputs": [
        {
          "name": "stdout",
          "output_type": "stream",
          "text": [
            "R2-Score: 0.891\n"
          ]
        }
      ],
      "source": [
        "from sklearn.metrics import r2_score\n",
        "\n",
        "print(f\"R2-Score: {round(r2_score(final_online_label, preds), 3)}\")"
      ]
    },
    {
      "cell_type": "code",
      "execution_count": null,
      "metadata": {
        "colab": {
          "base_uri": "https://localhost:8080/",
          "height": 279
        },
        "id": "u3CFKhMRIm5U",
        "outputId": "f9838bbe-0473-4903-80ca-e33b05e9c956"
      },
      "outputs": [
        {
          "data": {
            "image/png": "[encoded data removed]",
            "text/plain": [
              "<Figure size 432x288 with 1 Axes>"
            ]
          },
          "metadata": {
            "needs_background": "light"
          },
          "output_type": "display_data"
        }
      ],
      "source": [
        "# Plotting the predictions on new online data\n",
        "\n",
        "plt.scatter(final_online_label, preds, c='w', edgecolors='b')\n",
        "plt.plot(final_online_label, final_online_label, c='r')\n",
        "plt.xlabel(f\"Actual House Price\")\n",
        "plt.ylabel(f\"Predicted House Price\")\n",
        "plt.savefig(\"Validation Regression Calibration Plot.png\", dpi=300)\n",
        "plt.show()"
      ]
    }
  ],
  "metadata": {
    "accelerator": "GPU",
    "colab": {
      "collapsed_sections": [],
      "name": "Online Learning Final.ipynb",
      "provenance": []
    },
    "kernelspec": {
      "display_name": "Python 3",
      "name": "python3"
    },
    "language_info": {
      "name": "python"
    }
  },
  "nbformat": 4,
  "nbformat_minor": 0
}
