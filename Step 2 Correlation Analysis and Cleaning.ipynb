{
  "nbformat": 4,
  "nbformat_minor": 0,
  "metadata": {
    "colab": {
      "name": "Housing Price Prediction -  Part 2.ipynb",
      "provenance": [],
      "collapsed_sections": []
    },
    "kernelspec": {
      "name": "python3",
      "display_name": "Python 3"
    },
    "language_info": {
      "name": "python"
    }
  },
  "cells": [
    {
      "cell_type": "markdown",
      "metadata": {
        "id": "3gJuOn2VNWyE"
      },
      "source": [
        "# Imorting Packages and Loading Data"
      ]
    },
    {
      "cell_type": "code",
      "metadata": {
        "id": "-qOS1KKlcLeC"
      },
      "source": [
        "import pandas as pd\n",
        "import numpy as np\n",
        "from sklearn.preprocessing import LabelEncoder"
      ],
      "execution_count": null,
      "outputs": []
    },
    {
      "cell_type": "code",
      "metadata": {
        "colab": {
          "base_uri": "https://localhost:8080/"
        },
        "id": "UWXGD48pdo--",
        "outputId": "55afe95d-3f4f-4133-e19e-fb741661420a"
      },
      "source": [
        "!gdown --id 1iiZ3i1x_XKvuiD4Ff_qcwXbrQNcHVSR6"
      ],
      "execution_count": null,
      "outputs": [
        {
          "output_type": "stream",
          "name": "stdout",
          "text": [
            "Downloading...\n",
            "From: https://drive.google.com/uc?id=1iiZ3i1x_XKvuiD4Ff_qcwXbrQNcHVSR6\n",
            "To: /content/filtered_data.csv\n",
            "100% 63.9M/63.9M [00:00<00:00, 83.5MB/s]\n"
          ]
        }
      ]
    },
    {
      "cell_type": "code",
      "metadata": {
        "id": "DrtsxWN1fcdg",
        "colab": {
          "base_uri": "https://localhost:8080/"
        },
        "outputId": "63fab294-cded-46c1-ec88-072480970a91"
      },
      "source": [
        "data = pd.read_csv(\"filtered_data.csv\")"
      ],
      "execution_count": null,
      "outputs": [
        {
          "output_type": "stream",
          "name": "stderr",
          "text": [
            "/usr/local/lib/python3.7/dist-packages/IPython/core/interactiveshell.py:2718: DtypeWarning: Columns (2) have mixed types.Specify dtype option on import or set low_memory=False.\n",
            "  interactivity=interactivity, compiler=compiler, result=result)\n"
          ]
        }
      ]
    },
    {
      "cell_type": "code",
      "metadata": {
        "colab": {
          "base_uri": "https://localhost:8080/",
          "height": 307
        },
        "id": "pdknYKJR1K4I",
        "outputId": "4fb7ef2e-c523-46f7-ee0e-1641dc8556f7"
      },
      "source": [
        "data.head()"
      ],
      "execution_count": null,
      "outputs": [
        {
          "output_type": "execute_result",
          "data": {
            "text/html": [
              "<div>\n",
              "<style scoped>\n",
              "    .dataframe tbody tr th:only-of-type {\n",
              "        vertical-align: middle;\n",
              "    }\n",
              "\n",
              "    .dataframe tbody tr th {\n",
              "        vertical-align: top;\n",
              "    }\n",
              "\n",
              "    .dataframe thead th {\n",
              "        text-align: right;\n",
              "    }\n",
              "</style>\n",
              "<table border=\"1\" class=\"dataframe\">\n",
              "  <thead>\n",
              "    <tr style=\"text-align: right;\">\n",
              "      <th></th>\n",
              "      <th>city</th>\n",
              "      <th>state</th>\n",
              "      <th>house</th>\n",
              "      <th>street</th>\n",
              "      <th>streetSuffix</th>\n",
              "      <th>unit</th>\n",
              "      <th>zip</th>\n",
              "      <th>zip4</th>\n",
              "      <th>latitude</th>\n",
              "      <th>longitude</th>\n",
              "      <th>landUseDescription</th>\n",
              "      <th>zoningDescription</th>\n",
              "      <th>lotSizeAcres</th>\n",
              "      <th>lotSizeSquareFeet</th>\n",
              "      <th>lotTopography</th>\n",
              "      <th>condition</th>\n",
              "      <th>architecturalStyle</th>\n",
              "      <th>yearBuilt</th>\n",
              "      <th>totalStories</th>\n",
              "      <th>totalRooms</th>\n",
              "      <th>bedrooms</th>\n",
              "      <th>baths</th>\n",
              "      <th>heating</th>\n",
              "      <th>airConditioning</th>\n",
              "      <th>foundation</th>\n",
              "      <th>fireplace</th>\n",
              "      <th>water</th>\n",
              "      <th>sewer</th>\n",
              "      <th>housePrice</th>\n",
              "    </tr>\n",
              "  </thead>\n",
              "  <tbody>\n",
              "    <tr>\n",
              "      <th>0</th>\n",
              "      <td>Lilburn</td>\n",
              "      <td>GA</td>\n",
              "      <td>510</td>\n",
              "      <td>Village Green</td>\n",
              "      <td>Ct</td>\n",
              "      <td>NaN</td>\n",
              "      <td>30047.0</td>\n",
              "      <td>NaN</td>\n",
              "      <td>33.873543</td>\n",
              "      <td>-84.117197</td>\n",
              "      <td>Single Family Residential</td>\n",
              "      <td>R100-Single Family Residence</td>\n",
              "      <td>0.46</td>\n",
              "      <td>20037.6</td>\n",
              "      <td>Low Elevation</td>\n",
              "      <td>Average</td>\n",
              "      <td>Ranch/Rambler</td>\n",
              "      <td>1971.0</td>\n",
              "      <td>1.0</td>\n",
              "      <td>6.0</td>\n",
              "      <td>4.0</td>\n",
              "      <td>2.0</td>\n",
              "      <td>Forced air</td>\n",
              "      <td>Yes</td>\n",
              "      <td>Crawl Space/Raised</td>\n",
              "      <td>Masonry</td>\n",
              "      <td>Yes</td>\n",
              "      <td>NaN</td>\n",
              "      <td>200300</td>\n",
              "    </tr>\n",
              "    <tr>\n",
              "      <th>1</th>\n",
              "      <td>Lilburn</td>\n",
              "      <td>GA</td>\n",
              "      <td>540</td>\n",
              "      <td>Village Green</td>\n",
              "      <td>Ct</td>\n",
              "      <td>NaN</td>\n",
              "      <td>30047.0</td>\n",
              "      <td>NaN</td>\n",
              "      <td>33.872805</td>\n",
              "      <td>-84.116702</td>\n",
              "      <td>Single Family Residential</td>\n",
              "      <td>R100-Single Family Residence</td>\n",
              "      <td>0.41</td>\n",
              "      <td>17859.6</td>\n",
              "      <td>Low Elevation</td>\n",
              "      <td>Average</td>\n",
              "      <td>NaN</td>\n",
              "      <td>1971.0</td>\n",
              "      <td>NaN</td>\n",
              "      <td>6.0</td>\n",
              "      <td>3.0</td>\n",
              "      <td>2.0</td>\n",
              "      <td>Forced air</td>\n",
              "      <td>Yes</td>\n",
              "      <td>Crawl Space/Raised</td>\n",
              "      <td>Masonry</td>\n",
              "      <td>Yes</td>\n",
              "      <td>NaN</td>\n",
              "      <td>193800</td>\n",
              "    </tr>\n",
              "    <tr>\n",
              "      <th>2</th>\n",
              "      <td>Lilburn</td>\n",
              "      <td>GA</td>\n",
              "      <td>5133</td>\n",
              "      <td>Arbor</td>\n",
              "      <td>Ln</td>\n",
              "      <td>2</td>\n",
              "      <td>30047.0</td>\n",
              "      <td>NaN</td>\n",
              "      <td>33.867538</td>\n",
              "      <td>-84.137380</td>\n",
              "      <td>Single Family Residential</td>\n",
              "      <td>R100-Single Family Residence</td>\n",
              "      <td>0.41</td>\n",
              "      <td>17859.6</td>\n",
              "      <td>High Elevation</td>\n",
              "      <td>Average</td>\n",
              "      <td>NaN</td>\n",
              "      <td>1979.0</td>\n",
              "      <td>1.0</td>\n",
              "      <td>7.0</td>\n",
              "      <td>3.0</td>\n",
              "      <td>2.0</td>\n",
              "      <td>Forced air</td>\n",
              "      <td>Yes</td>\n",
              "      <td>Crawl Space/Raised</td>\n",
              "      <td>Masonry</td>\n",
              "      <td>Yes</td>\n",
              "      <td>NaN</td>\n",
              "      <td>197500</td>\n",
              "    </tr>\n",
              "    <tr>\n",
              "      <th>3</th>\n",
              "      <td>Lilburn</td>\n",
              "      <td>GA</td>\n",
              "      <td>215</td>\n",
              "      <td>Shunn</td>\n",
              "      <td>Way</td>\n",
              "      <td>4</td>\n",
              "      <td>30047.0</td>\n",
              "      <td>NaN</td>\n",
              "      <td>33.869804</td>\n",
              "      <td>-84.139034</td>\n",
              "      <td>Single Family Residential</td>\n",
              "      <td>R100-Single Family Residence</td>\n",
              "      <td>0.44</td>\n",
              "      <td>19166.4</td>\n",
              "      <td>Level Grade</td>\n",
              "      <td>Average</td>\n",
              "      <td>Conventional</td>\n",
              "      <td>1979.0</td>\n",
              "      <td>2.0</td>\n",
              "      <td>7.0</td>\n",
              "      <td>4.0</td>\n",
              "      <td>3.0</td>\n",
              "      <td>Forced air</td>\n",
              "      <td>Yes</td>\n",
              "      <td>Crawl Space/Raised</td>\n",
              "      <td>Masonry</td>\n",
              "      <td>Yes</td>\n",
              "      <td>NaN</td>\n",
              "      <td>204700</td>\n",
              "    </tr>\n",
              "    <tr>\n",
              "      <th>4</th>\n",
              "      <td>Lilburn</td>\n",
              "      <td>GA</td>\n",
              "      <td>195</td>\n",
              "      <td>Shunn</td>\n",
              "      <td>Way</td>\n",
              "      <td>4</td>\n",
              "      <td>30047.0</td>\n",
              "      <td>NaN</td>\n",
              "      <td>33.870027</td>\n",
              "      <td>-84.138435</td>\n",
              "      <td>Single Family Residential</td>\n",
              "      <td>R1-Single Family Residence LIL</td>\n",
              "      <td>0.44</td>\n",
              "      <td>19166.4</td>\n",
              "      <td>High Elevation</td>\n",
              "      <td>Average</td>\n",
              "      <td>NaN</td>\n",
              "      <td>1979.0</td>\n",
              "      <td>1.0</td>\n",
              "      <td>6.0</td>\n",
              "      <td>3.0</td>\n",
              "      <td>2.0</td>\n",
              "      <td>Forced air</td>\n",
              "      <td>Yes</td>\n",
              "      <td>Crawl Space/Raised</td>\n",
              "      <td>Masonry</td>\n",
              "      <td>Yes</td>\n",
              "      <td>NaN</td>\n",
              "      <td>195900</td>\n",
              "    </tr>\n",
              "  </tbody>\n",
              "</table>\n",
              "</div>"
            ],
            "text/plain": [
              "      city state house         street  ... fireplace water  sewer  housePrice\n",
              "0  Lilburn    GA   510  Village Green  ...   Masonry   Yes    NaN      200300\n",
              "1  Lilburn    GA   540  Village Green  ...   Masonry   Yes    NaN      193800\n",
              "2  Lilburn    GA  5133          Arbor  ...   Masonry   Yes    NaN      197500\n",
              "3  Lilburn    GA   215          Shunn  ...   Masonry   Yes    NaN      204700\n",
              "4  Lilburn    GA   195          Shunn  ...   Masonry   Yes    NaN      195900\n",
              "\n",
              "[5 rows x 29 columns]"
            ]
          },
          "metadata": {},
          "execution_count": 3
        }
      ]
    },
    {
      "cell_type": "markdown",
      "metadata": {
        "id": "JYda2-roPIDL"
      },
      "source": [
        "# Preprocessing Part 1"
      ]
    },
    {
      "cell_type": "code",
      "metadata": {
        "id": "MyeEfSgvWZwk"
      },
      "source": [
        "data = data.drop(columns=[\"zip4\"], axis=1)"
      ],
      "execution_count": null,
      "outputs": []
    },
    {
      "cell_type": "code",
      "metadata": {
        "colab": {
          "base_uri": "https://localhost:8080/"
        },
        "id": "kktzBevZ3RtU",
        "outputId": "9d630e38-399a-4f84-bd32-504dabf196ad"
      },
      "source": [
        "data[\"zip4\"].value_counts(dropna=False)"
      ],
      "execution_count": null,
      "outputs": [
        {
          "output_type": "execute_result",
          "data": {
            "text/plain": [
              "NaN       34893\n",
              "3219.0      127\n",
              "4718.0      119\n",
              "3069.0      119\n",
              "7628.0      110\n",
              "          ...  \n",
              "9769.0        1\n",
              "8095.0        1\n",
              "8099.0        1\n",
              "9807.0        1\n",
              "9262.0        1\n",
              "Name: zip4, Length: 8521, dtype: int64"
            ]
          },
          "metadata": {},
          "execution_count": 92
        }
      ]
    },
    {
      "cell_type": "code",
      "metadata": {
        "colab": {
          "base_uri": "https://localhost:8080/"
        },
        "id": "FUZZY2hZ3CIL",
        "outputId": "1a3c2bd1-a8c2-4789-cb07-84901c7d5b5b"
      },
      "source": [
        "(data.dropna(subset=[\"street\"])[\"city\"])"
      ],
      "execution_count": null,
      "outputs": [
        {
          "output_type": "execute_result",
          "data": {
            "text/plain": [
              "0         Lilburn\n",
              "1         Lilburn\n",
              "2         Lilburn\n",
              "3         Lilburn\n",
              "4         Lilburn\n",
              "           ...   \n",
              "286920     Buford\n",
              "286921     Buford\n",
              "286922     Buford\n",
              "286923     Buford\n",
              "286924     Buford\n",
              "Name: city, Length: 275941, dtype: object"
            ]
          },
          "metadata": {},
          "execution_count": 88
        }
      ]
    },
    {
      "cell_type": "code",
      "metadata": {
        "colab": {
          "base_uri": "https://localhost:8080/"
        },
        "id": "8BhbxJhlidnc",
        "outputId": "4ef3e125-8f0a-4c68-bd64-6f661752a246"
      },
      "source": [
        "data[\"zip\"].value_counts(dropna=False)"
      ],
      "execution_count": null,
      "outputs": [
        {
          "output_type": "execute_result",
          "data": {
            "text/plain": [
              "30043.0    26179\n",
              "30044.0    25540\n",
              "30047.0    21565\n",
              "30024.0    18157\n",
              "30518.0    17488\n",
              "30096.0    17035\n",
              "30019.0    16845\n",
              "30519.0    16175\n",
              "30039.0    15922\n",
              "30078.0    13780\n",
              "30045.0    13682\n",
              "30052.0    12409\n",
              "30046.0    12051\n",
              "30093.0     9867\n",
              "30092.0     8816\n",
              "30017.0     8283\n",
              "30071.0     7326\n",
              "30097.0     7295\n",
              "30087.0     4424\n",
              "30084.0     3268\n",
              "30011.0     2355\n",
              "30548.0     1831\n",
              "30517.0     1589\n",
              "30340.0     1204\n",
              "NaN         1129\n",
              "30620.0      955\n",
              "30360.0      946\n",
              "30012.0       22\n",
              "30058.0       10\n",
              "30350.0        2\n",
              "30041.0        1\n",
              "30515.0        1\n",
              "Name: zip, dtype: int64"
            ]
          },
          "metadata": {},
          "execution_count": 74
        }
      ]
    },
    {
      "cell_type": "code",
      "metadata": {
        "colab": {
          "base_uri": "https://localhost:8080/"
        },
        "id": "wEgL0ZI82o7L",
        "outputId": "ca8acc10-2f9c-46a0-e041-e5b5d6b726b0"
      },
      "source": [
        "(len(data[\"street\"]))"
      ],
      "execution_count": null,
      "outputs": [
        {
          "output_type": "execute_result",
          "data": {
            "text/plain": [
              "286925"
            ]
          },
          "metadata": {},
          "execution_count": 86
        }
      ]
    },
    {
      "cell_type": "code",
      "metadata": {
        "colab": {
          "base_uri": "https://localhost:8080/"
        },
        "id": "ByAr5HEY17WD",
        "outputId": "b7d1d14d-27d5-456d-c3f7-456ad7653b83"
      },
      "source": [
        "data[\"street\"].value_counts(dropna=False)"
      ],
      "execution_count": null,
      "outputs": [
        {
          "output_type": "execute_result",
          "data": {
            "text/plain": [
              "NaN                     10984\n",
              "Buford                    951\n",
              "Rockbridge                575\n",
              "Oak                       554\n",
              "Peachtree Industrial      520\n",
              "                        ...  \n",
              "Jarman                      1\n",
              "Univerity Center            1\n",
              "Red Cruse                   1\n",
              "Southern Woods              1\n",
              "Mountain Ind                1\n",
              "Name: street, Length: 9571, dtype: int64"
            ]
          },
          "metadata": {},
          "execution_count": 85
        }
      ]
    },
    {
      "cell_type": "code",
      "metadata": {
        "colab": {
          "base_uri": "https://localhost:8080/"
        },
        "id": "mO2-0uLD1CfW",
        "outputId": "4fa00dce-42a5-41a0-c5fc-137764d73913"
      },
      "source": [
        "list(data[\"streetSuffix\"].str.lower().value_counts(dropna=False)).count(\"nan\")"
      ],
      "execution_count": null,
      "outputs": [
        {
          "output_type": "execute_result",
          "data": {
            "text/plain": [
              "0"
            ]
          },
          "metadata": {},
          "execution_count": 83
        }
      ]
    },
    {
      "cell_type": "code",
      "metadata": {
        "id": "c71TJJpzzd3Y"
      },
      "source": [
        "[' '.join(i) for i in zip(data[\"street\"].map(str),data[\"streetSuffix\"].map(str))]"
      ],
      "execution_count": null,
      "outputs": []
    },
    {
      "cell_type": "code",
      "metadata": {
        "id": "eql0eA-VyvQ6"
      },
      "source": [
        "pd.concat([data[\"street\"], data[\"streetSuffix\"]])"
      ],
      "execution_count": null,
      "outputs": []
    },
    {
      "cell_type": "code",
      "metadata": {
        "colab": {
          "base_uri": "https://localhost:8080/"
        },
        "id": "ICwcYdNymVS_",
        "outputId": "2007168e-44be-4b94-fffa-98809643e240"
      },
      "source": [
        "data[\"city\"].unique()"
      ],
      "execution_count": null,
      "outputs": [
        {
          "output_type": "execute_result",
          "data": {
            "text/plain": [
              "array(['Lilburn', 'TUCKER', 'Stone Mountain', 'Tucker', 'LILBURN',\n",
              "       'Lawrenceville', 'Snellville', 'BUFORD', 'LAWRENCEVILLE',\n",
              "       'STONE MOUNTAIN', 'SNELLVILLE', 'Loganville', 'Dacula', 'DACULA',\n",
              "       'Norcross', 'Bethlehem', 'BETHLEHEM', 'NORCROSS', 'Auburn',\n",
              "       'AUBURN', 'Buford', 'Duluth', 'Atlanta', nan, 'DULUTH', 'Suwanee',\n",
              "       'SUWANEE', 'Peachtree Corners', 'PEACHTREE CORNERS', 'ATLANTA',\n",
              "       'Grayson', 'LOGANVILLE', 'GRAYSON', 'Hoschton', 'Braselton',\n",
              "       'BRASELTON', 'HOSCHTON', 'CONYERS', 'Conyers', 'Lithonia',\n",
              "       'Cumming'], dtype=object)"
            ]
          },
          "metadata": {},
          "execution_count": 18
        }
      ]
    },
    {
      "cell_type": "code",
      "metadata": {
        "colab": {
          "base_uri": "https://localhost:8080/"
        },
        "id": "OMhooln1ieaM",
        "outputId": "ae14bca9-5177-41d2-8cc4-33e506ac14d1"
      },
      "source": [
        "!gdown --id 1OxS3PzFvj5QIhFdBdscv6JBupg3CjzBN"
      ],
      "execution_count": null,
      "outputs": [
        {
          "output_type": "stream",
          "name": "stdout",
          "text": [
            "Downloading...\n",
            "From: https://drive.google.com/uc?id=1OxS3PzFvj5QIhFdBdscv6JBupg3CjzBN\n",
            "To: /content/States.csv\n",
            "\r  0% 0.00/632 [00:00<?, ?B/s]\r100% 632/632 [00:00<00:00, 966kB/s]\n"
          ]
        }
      ]
    },
    {
      "cell_type": "code",
      "metadata": {
        "id": "_JQQA9Aojw-Z"
      },
      "source": [
        "states = pd.read_csv(\"States.csv\")[\"States\"]"
      ],
      "execution_count": null,
      "outputs": []
    },
    {
      "cell_type": "code",
      "metadata": {
        "colab": {
          "base_uri": "https://localhost:8080/"
        },
        "id": "zAD5AauBj0D9",
        "outputId": "efecaf09-e69b-4af5-8132-79f430be9cb9"
      },
      "source": [
        "states.head()"
      ],
      "execution_count": null,
      "outputs": [
        {
          "output_type": "execute_result",
          "data": {
            "text/plain": [
              "0       Alabama\n",
              "1        Alaska\n",
              "2       Arizona\n",
              "3      Arkansas\n",
              "4    California\n",
              "Name: States, dtype: object"
            ]
          },
          "metadata": {},
          "execution_count": 17
        }
      ]
    },
    {
      "cell_type": "code",
      "metadata": {
        "id": "VA8EP0ctoKh2"
      },
      "source": [
        "from sklearn.preprocessing import LabelEncoder"
      ],
      "execution_count": null,
      "outputs": []
    },
    {
      "cell_type": "code",
      "metadata": {
        "id": "geXlTzK1oXol"
      },
      "source": [
        "data[\"city\"] = data[\"city\"].str.lower()"
      ],
      "execution_count": null,
      "outputs": []
    },
    {
      "cell_type": "code",
      "metadata": {
        "colab": {
          "base_uri": "https://localhost:8080/"
        },
        "id": "rTFerY_1o8im",
        "outputId": "cb7a833c-ab85-4cc0-f17e-d8ea4672a537"
      },
      "source": [
        "data[\"city\"].head()"
      ],
      "execution_count": null,
      "outputs": [
        {
          "output_type": "execute_result",
          "data": {
            "text/plain": [
              "0    lilburn\n",
              "1    lilburn\n",
              "2    lilburn\n",
              "3    lilburn\n",
              "4    lilburn\n",
              "Name: city, dtype: object"
            ]
          },
          "metadata": {},
          "execution_count": 26
        }
      ]
    },
    {
      "cell_type": "code",
      "metadata": {
        "colab": {
          "base_uri": "https://localhost:8080/"
        },
        "id": "bFpnfi4MpORG",
        "outputId": "7921372a-47a8-481e-e7a3-662c14aa54bd"
      },
      "source": [
        "data[\"city\"].value_counts(dropna=False)"
      ],
      "execution_count": null,
      "outputs": [
        {
          "output_type": "execute_result",
          "data": {
            "text/plain": [
              "lawrenceville        77601\n",
              "buford               33733\n",
              "snellville           29786\n",
              "duluth               24481\n",
              "lilburn              21603\n",
              "suwanee              18356\n",
              "norcross             17328\n",
              "dacula               17022\n",
              "loganville           12482\n",
              "peachtree corners     8805\n",
              "grayson               8317\n",
              "stone mountain        4415\n",
              "tucker                3271\n",
              "auburn                2357\n",
              "atlanta               2151\n",
              "hoschton              1820\n",
              "braselton             1633\n",
              "bethlehem              958\n",
              "NaN                    773\n",
              "conyers                 22\n",
              "lithonia                10\n",
              "cumming                  1\n",
              "Name: city, dtype: int64"
            ]
          },
          "metadata": {},
          "execution_count": 37
        }
      ]
    },
    {
      "cell_type": "code",
      "metadata": {
        "id": "ReRwOKdRrGA0"
      },
      "source": [
        "data = data.dropna(subset=[\"city\"])"
      ],
      "execution_count": null,
      "outputs": []
    },
    {
      "cell_type": "code",
      "metadata": {
        "id": "Flg3wAaBrUbN"
      },
      "source": [
        "data.head()"
      ],
      "execution_count": null,
      "outputs": []
    },
    {
      "cell_type": "code",
      "metadata": {
        "id": "Fj57j4OikIK2"
      },
      "source": [
        "def label_encode(data, column):\n",
        "  le = LabelEncoder()\n",
        "  le.fit(data[column])\n",
        "  data[column] = le.fit_transform(data[column])\n",
        "  return data"
      ],
      "execution_count": null,
      "outputs": []
    },
    {
      "cell_type": "code",
      "metadata": {
        "colab": {
          "base_uri": "https://localhost:8080/"
        },
        "id": "3yCSzRhyoTSr",
        "outputId": "22722c1a-2ec4-4050-d490-ff884d740356"
      },
      "source": [
        "data[\"city\"].unique()"
      ],
      "execution_count": null,
      "outputs": [
        {
          "output_type": "execute_result",
          "data": {
            "text/plain": [
              "array([12, 20, 18, 11, 17,  4, 14,  7, 15,  2,  1,  8,  0, 19, 16,  9, 10,\n",
              "        3,  5, 13,  6])"
            ]
          },
          "metadata": {},
          "execution_count": 48
        }
      ]
    },
    {
      "cell_type": "code",
      "metadata": {
        "colab": {
          "base_uri": "https://localhost:8080/"
        },
        "id": "WBlkdjVZrn7F",
        "outputId": "48718349-a0bc-4643-dab9-568e9ed4a3ba"
      },
      "source": [
        "len(data[\"street\"].str.lower().unique())"
      ],
      "execution_count": null,
      "outputs": [
        {
          "output_type": "execute_result",
          "data": {
            "text/plain": [
              "9571"
            ]
          },
          "metadata": {},
          "execution_count": 57
        }
      ]
    },
    {
      "cell_type": "code",
      "metadata": {
        "colab": {
          "base_uri": "https://localhost:8080/"
        },
        "id": "nJ7-R-FWuikF",
        "outputId": "19f06227-ddbe-4fd1-dd74-f620fb142df3"
      },
      "source": [
        "data[\"street\"].value_counts(dropna=False)"
      ],
      "execution_count": null,
      "outputs": [
        {
          "output_type": "execute_result",
          "data": {
            "text/plain": [
              "NaN                     10211\n",
              "Buford                    951\n",
              "Rockbridge                575\n",
              "Oak                       554\n",
              "Peachtree Industrial      520\n",
              "                        ...  \n",
              "Jarman                      1\n",
              "Univerity Center            1\n",
              "Red Cruse                   1\n",
              "Southern Woods              1\n",
              "Mountain Ind                1\n",
              "Name: street, Length: 9571, dtype: int64"
            ]
          },
          "metadata": {},
          "execution_count": 61
        }
      ]
    },
    {
      "cell_type": "code",
      "metadata": {
        "id": "VlNjMcjWtuYd"
      },
      "source": [
        "data = label_encode(data, \"street\")"
      ],
      "execution_count": null,
      "outputs": []
    },
    {
      "cell_type": "markdown",
      "metadata": {
        "id": "IhkiJaEGPQb0"
      },
      "source": [
        "# Preprocessing Part 2"
      ]
    },
    {
      "cell_type": "code",
      "metadata": {
        "id": "bTWKaFhQPVKr"
      },
      "source": [
        "# Dropping \"zip4\", \"unit\", \"foundation\", \"sewer\"  column\n",
        "data.drop(columns=[\"zip4\", \"unit\", \"foundation\", \"sewer\"], inplace=True)"
      ],
      "execution_count": null,
      "outputs": []
    },
    {
      "cell_type": "code",
      "metadata": {
        "id": "VJtJctwFvOto"
      },
      "source": [
        "data.head()"
      ],
      "execution_count": null,
      "outputs": []
    },
    {
      "cell_type": "code",
      "metadata": {
        "id": "nAFG9onPPa4D"
      },
      "source": [
        "# Now we remove all the NaNs belonging to categorical features, since we have huge amount of data\n",
        "data = data.dropna(subset=[\"city\", \"state\", \"street\", \"streetSuffix\", \"landUseDescription\", \"zoningDescription\", \"lotTopography\",\"condition\",\"architecturalStyle\", \"heating\", \"fireplace\"])"
      ],
      "execution_count": null,
      "outputs": []
    },
    {
      "cell_type": "code",
      "metadata": {
        "colab": {
          "base_uri": "https://localhost:8080/"
        },
        "id": "dvgfBhbJaoQw",
        "outputId": "10b7237c-2e87-4c97-f369-f4e529a3f2b0"
      },
      "source": [
        "data.isna().sum()"
      ],
      "execution_count": null,
      "outputs": [
        {
          "output_type": "execute_result",
          "data": {
            "text/plain": [
              "city                     773\n",
              "state                      0\n",
              "house                  10984\n",
              "street                 10984\n",
              "streetSuffix           12070\n",
              "unit                  260174\n",
              "zip                     1332\n",
              "zip4                   34893\n",
              "latitude                   0\n",
              "longitude                  0\n",
              "landUseDescription         0\n",
              "zoningDescription      11795\n",
              "lotSizeAcres             154\n",
              "lotSizeSquareFeet        154\n",
              "lotTopography          41216\n",
              "condition              17444\n",
              "architecturalStyle     83644\n",
              "yearBuilt              17320\n",
              "totalStories           19504\n",
              "totalRooms             29911\n",
              "bedrooms               29795\n",
              "baths                  30039\n",
              "heating                30978\n",
              "airConditioning        20609\n",
              "foundation            239294\n",
              "fireplace              51636\n",
              "water                  42860\n",
              "sewer                 115998\n",
              "housePrice                 0\n",
              "dtype: int64"
            ]
          },
          "metadata": {},
          "execution_count": 61
        }
      ]
    },
    {
      "cell_type": "code",
      "metadata": {
        "colab": {
          "base_uri": "https://localhost:8080/",
          "height": 315
        },
        "id": "ytNrEsiPQGoD",
        "outputId": "0a53885f-6334-4f95-fe9f-5c1b34b88a6d"
      },
      "source": [
        "data.describe()"
      ],
      "execution_count": null,
      "outputs": [
        {
          "output_type": "execute_result",
          "data": {
            "text/html": [
              "<div>\n",
              "<style scoped>\n",
              "    .dataframe tbody tr th:only-of-type {\n",
              "        vertical-align: middle;\n",
              "    }\n",
              "\n",
              "    .dataframe tbody tr th {\n",
              "        vertical-align: top;\n",
              "    }\n",
              "\n",
              "    .dataframe thead th {\n",
              "        text-align: right;\n",
              "    }\n",
              "</style>\n",
              "<table border=\"1\" class=\"dataframe\">\n",
              "  <thead>\n",
              "    <tr style=\"text-align: right;\">\n",
              "      <th></th>\n",
              "      <th>zip</th>\n",
              "      <th>latitude</th>\n",
              "      <th>longitude</th>\n",
              "      <th>lotSizeAcres</th>\n",
              "      <th>lotSizeSquareFeet</th>\n",
              "      <th>yearBuilt</th>\n",
              "      <th>totalStories</th>\n",
              "      <th>totalRooms</th>\n",
              "      <th>bedrooms</th>\n",
              "      <th>baths</th>\n",
              "      <th>housePrice</th>\n",
              "    </tr>\n",
              "  </thead>\n",
              "  <tbody>\n",
              "    <tr>\n",
              "      <th>count</th>\n",
              "      <td>161248.000000</td>\n",
              "      <td>161248.000000</td>\n",
              "      <td>161248.000000</td>\n",
              "      <td>161248.000000</td>\n",
              "      <td>1.612480e+05</td>\n",
              "      <td>161248.000000</td>\n",
              "      <td>161243.000000</td>\n",
              "      <td>161124.000000</td>\n",
              "      <td>161205.000000</td>\n",
              "      <td>161233.000000</td>\n",
              "      <td>1.612480e+05</td>\n",
              "    </tr>\n",
              "    <tr>\n",
              "      <th>mean</th>\n",
              "      <td>30107.554425</td>\n",
              "      <td>33.954421</td>\n",
              "      <td>-84.034325</td>\n",
              "      <td>0.542625</td>\n",
              "      <td>2.363673e+04</td>\n",
              "      <td>1993.146706</td>\n",
              "      <td>1.574481</td>\n",
              "      <td>7.801240</td>\n",
              "      <td>3.633188</td>\n",
              "      <td>2.886227</td>\n",
              "      <td>2.670727e+05</td>\n",
              "    </tr>\n",
              "    <tr>\n",
              "      <th>std</th>\n",
              "      <td>155.455230</td>\n",
              "      <td>0.088952</td>\n",
              "      <td>0.091014</td>\n",
              "      <td>1.292003</td>\n",
              "      <td>5.627964e+04</td>\n",
              "      <td>11.319656</td>\n",
              "      <td>0.494887</td>\n",
              "      <td>1.858475</td>\n",
              "      <td>0.730943</td>\n",
              "      <td>0.850638</td>\n",
              "      <td>1.438870e+05</td>\n",
              "    </tr>\n",
              "    <tr>\n",
              "      <th>min</th>\n",
              "      <td>30011.000000</td>\n",
              "      <td>33.755535</td>\n",
              "      <td>-84.276757</td>\n",
              "      <td>0.010000</td>\n",
              "      <td>4.356000e+02</td>\n",
              "      <td>1800.000000</td>\n",
              "      <td>1.000000</td>\n",
              "      <td>1.000000</td>\n",
              "      <td>1.000000</td>\n",
              "      <td>1.000000</td>\n",
              "      <td>2.000000e+03</td>\n",
              "    </tr>\n",
              "    <tr>\n",
              "      <th>25%</th>\n",
              "      <td>30043.000000</td>\n",
              "      <td>33.885061</td>\n",
              "      <td>-84.093020</td>\n",
              "      <td>0.260000</td>\n",
              "      <td>1.132560e+04</td>\n",
              "      <td>1986.000000</td>\n",
              "      <td>1.000000</td>\n",
              "      <td>6.000000</td>\n",
              "      <td>3.000000</td>\n",
              "      <td>2.000000</td>\n",
              "      <td>1.921000e+05</td>\n",
              "    </tr>\n",
              "    <tr>\n",
              "      <th>50%</th>\n",
              "      <td>30046.000000</td>\n",
              "      <td>33.949320</td>\n",
              "      <td>-84.033167</td>\n",
              "      <td>0.360000</td>\n",
              "      <td>1.568160e+04</td>\n",
              "      <td>1996.000000</td>\n",
              "      <td>2.000000</td>\n",
              "      <td>8.000000</td>\n",
              "      <td>4.000000</td>\n",
              "      <td>3.000000</td>\n",
              "      <td>2.365000e+05</td>\n",
              "    </tr>\n",
              "    <tr>\n",
              "      <th>75%</th>\n",
              "      <td>30087.000000</td>\n",
              "      <td>34.020451</td>\n",
              "      <td>-83.965154</td>\n",
              "      <td>0.520000</td>\n",
              "      <td>2.265120e+04</td>\n",
              "      <td>2001.000000</td>\n",
              "      <td>2.000000</td>\n",
              "      <td>9.000000</td>\n",
              "      <td>4.000000</td>\n",
              "      <td>3.000000</td>\n",
              "      <td>3.023000e+05</td>\n",
              "    </tr>\n",
              "    <tr>\n",
              "      <th>max</th>\n",
              "      <td>30620.000000</td>\n",
              "      <td>34.161819</td>\n",
              "      <td>-83.804031</td>\n",
              "      <td>135.150000</td>\n",
              "      <td>5.887134e+06</td>\n",
              "      <td>2019.000000</td>\n",
              "      <td>3.000000</td>\n",
              "      <td>20.000000</td>\n",
              "      <td>14.000000</td>\n",
              "      <td>20.000000</td>\n",
              "      <td>8.800000e+06</td>\n",
              "    </tr>\n",
              "  </tbody>\n",
              "</table>\n",
              "</div>"
            ],
            "text/plain": [
              "                 zip       latitude  ...          baths    housePrice\n",
              "count  161248.000000  161248.000000  ...  161233.000000  1.612480e+05\n",
              "mean    30107.554425      33.954421  ...       2.886227  2.670727e+05\n",
              "std       155.455230       0.088952  ...       0.850638  1.438870e+05\n",
              "min     30011.000000      33.755535  ...       1.000000  2.000000e+03\n",
              "25%     30043.000000      33.885061  ...       2.000000  1.921000e+05\n",
              "50%     30046.000000      33.949320  ...       3.000000  2.365000e+05\n",
              "75%     30087.000000      34.020451  ...       3.000000  3.023000e+05\n",
              "max     30620.000000      34.161819  ...      20.000000  8.800000e+06\n",
              "\n",
              "[8 rows x 11 columns]"
            ]
          },
          "metadata": {},
          "execution_count": 59
        }
      ]
    },
    {
      "cell_type": "code",
      "metadata": {
        "colab": {
          "base_uri": "https://localhost:8080/",
          "height": 438
        },
        "id": "LENDI39iuR5x",
        "outputId": "48cd2807-4a97-4304-eaa9-304b011dbc9d"
      },
      "source": [
        "corr = data.corr()\n",
        "corr"
      ],
      "execution_count": null,
      "outputs": [
        {
          "output_type": "execute_result",
          "data": {
            "text/html": [
              "<div>\n",
              "<style scoped>\n",
              "    .dataframe tbody tr th:only-of-type {\n",
              "        vertical-align: middle;\n",
              "    }\n",
              "\n",
              "    .dataframe tbody tr th {\n",
              "        vertical-align: top;\n",
              "    }\n",
              "\n",
              "    .dataframe thead th {\n",
              "        text-align: right;\n",
              "    }\n",
              "</style>\n",
              "<table border=\"1\" class=\"dataframe\">\n",
              "  <thead>\n",
              "    <tr style=\"text-align: right;\">\n",
              "      <th></th>\n",
              "      <th>zip</th>\n",
              "      <th>zip4</th>\n",
              "      <th>latitude</th>\n",
              "      <th>longitude</th>\n",
              "      <th>lotSizeAcres</th>\n",
              "      <th>lotSizeSquareFeet</th>\n",
              "      <th>yearBuilt</th>\n",
              "      <th>totalStories</th>\n",
              "      <th>totalRooms</th>\n",
              "      <th>bedrooms</th>\n",
              "      <th>baths</th>\n",
              "      <th>housePrice</th>\n",
              "    </tr>\n",
              "  </thead>\n",
              "  <tbody>\n",
              "    <tr>\n",
              "      <th>zip</th>\n",
              "      <td>1.000000</td>\n",
              "      <td>0.085734</td>\n",
              "      <td>-0.023154</td>\n",
              "      <td>0.032104</td>\n",
              "      <td>0.006603</td>\n",
              "      <td>0.006603</td>\n",
              "      <td>0.085572</td>\n",
              "      <td>-0.009609</td>\n",
              "      <td>-0.022471</td>\n",
              "      <td>0.017302</td>\n",
              "      <td>0.005342</td>\n",
              "      <td>0.004869</td>\n",
              "    </tr>\n",
              "    <tr>\n",
              "      <th>zip4</th>\n",
              "      <td>0.085734</td>\n",
              "      <td>1.000000</td>\n",
              "      <td>0.004276</td>\n",
              "      <td>0.194380</td>\n",
              "      <td>-0.046260</td>\n",
              "      <td>-0.046260</td>\n",
              "      <td>0.275005</td>\n",
              "      <td>0.112869</td>\n",
              "      <td>0.109777</td>\n",
              "      <td>0.114327</td>\n",
              "      <td>0.095428</td>\n",
              "      <td>-0.009316</td>\n",
              "    </tr>\n",
              "    <tr>\n",
              "      <th>latitude</th>\n",
              "      <td>-0.023154</td>\n",
              "      <td>0.004276</td>\n",
              "      <td>1.000000</td>\n",
              "      <td>-0.999883</td>\n",
              "      <td>-0.113042</td>\n",
              "      <td>-0.113042</td>\n",
              "      <td>0.008186</td>\n",
              "      <td>0.027241</td>\n",
              "      <td>0.030471</td>\n",
              "      <td>0.017486</td>\n",
              "      <td>0.006724</td>\n",
              "      <td>0.011741</td>\n",
              "    </tr>\n",
              "    <tr>\n",
              "      <th>longitude</th>\n",
              "      <td>0.032104</td>\n",
              "      <td>0.194380</td>\n",
              "      <td>-0.999883</td>\n",
              "      <td>1.000000</td>\n",
              "      <td>0.113190</td>\n",
              "      <td>0.113190</td>\n",
              "      <td>-0.000419</td>\n",
              "      <td>-0.025148</td>\n",
              "      <td>-0.026286</td>\n",
              "      <td>-0.012653</td>\n",
              "      <td>-0.002833</td>\n",
              "      <td>-0.011551</td>\n",
              "    </tr>\n",
              "    <tr>\n",
              "      <th>lotSizeAcres</th>\n",
              "      <td>0.006603</td>\n",
              "      <td>-0.046260</td>\n",
              "      <td>-0.113042</td>\n",
              "      <td>0.113190</td>\n",
              "      <td>1.000000</td>\n",
              "      <td>1.000000</td>\n",
              "      <td>-0.053011</td>\n",
              "      <td>-0.055278</td>\n",
              "      <td>0.009119</td>\n",
              "      <td>-0.014185</td>\n",
              "      <td>-0.014935</td>\n",
              "      <td>0.335257</td>\n",
              "    </tr>\n",
              "    <tr>\n",
              "      <th>lotSizeSquareFeet</th>\n",
              "      <td>0.006603</td>\n",
              "      <td>-0.046260</td>\n",
              "      <td>-0.113042</td>\n",
              "      <td>0.113190</td>\n",
              "      <td>1.000000</td>\n",
              "      <td>1.000000</td>\n",
              "      <td>-0.053011</td>\n",
              "      <td>-0.055278</td>\n",
              "      <td>0.009119</td>\n",
              "      <td>-0.014184</td>\n",
              "      <td>-0.014935</td>\n",
              "      <td>0.335257</td>\n",
              "    </tr>\n",
              "    <tr>\n",
              "      <th>yearBuilt</th>\n",
              "      <td>0.085572</td>\n",
              "      <td>0.275005</td>\n",
              "      <td>0.008186</td>\n",
              "      <td>-0.000419</td>\n",
              "      <td>-0.053011</td>\n",
              "      <td>-0.053011</td>\n",
              "      <td>1.000000</td>\n",
              "      <td>0.411302</td>\n",
              "      <td>0.236557</td>\n",
              "      <td>0.349765</td>\n",
              "      <td>0.450798</td>\n",
              "      <td>0.040297</td>\n",
              "    </tr>\n",
              "    <tr>\n",
              "      <th>totalStories</th>\n",
              "      <td>-0.009609</td>\n",
              "      <td>0.112869</td>\n",
              "      <td>0.027241</td>\n",
              "      <td>-0.025148</td>\n",
              "      <td>-0.055278</td>\n",
              "      <td>-0.055278</td>\n",
              "      <td>0.411302</td>\n",
              "      <td>1.000000</td>\n",
              "      <td>0.297928</td>\n",
              "      <td>0.378994</td>\n",
              "      <td>0.520884</td>\n",
              "      <td>0.019448</td>\n",
              "    </tr>\n",
              "    <tr>\n",
              "      <th>totalRooms</th>\n",
              "      <td>-0.022471</td>\n",
              "      <td>0.109777</td>\n",
              "      <td>0.030471</td>\n",
              "      <td>-0.026286</td>\n",
              "      <td>0.009119</td>\n",
              "      <td>0.009119</td>\n",
              "      <td>0.236557</td>\n",
              "      <td>0.297928</td>\n",
              "      <td>1.000000</td>\n",
              "      <td>0.649919</td>\n",
              "      <td>0.513926</td>\n",
              "      <td>0.436040</td>\n",
              "    </tr>\n",
              "    <tr>\n",
              "      <th>bedrooms</th>\n",
              "      <td>0.017302</td>\n",
              "      <td>0.114327</td>\n",
              "      <td>0.017486</td>\n",
              "      <td>-0.012653</td>\n",
              "      <td>-0.014185</td>\n",
              "      <td>-0.014184</td>\n",
              "      <td>0.349765</td>\n",
              "      <td>0.378994</td>\n",
              "      <td>0.649919</td>\n",
              "      <td>1.000000</td>\n",
              "      <td>0.592589</td>\n",
              "      <td>0.445392</td>\n",
              "    </tr>\n",
              "    <tr>\n",
              "      <th>baths</th>\n",
              "      <td>0.005342</td>\n",
              "      <td>0.095428</td>\n",
              "      <td>0.006724</td>\n",
              "      <td>-0.002833</td>\n",
              "      <td>-0.014935</td>\n",
              "      <td>-0.014935</td>\n",
              "      <td>0.450798</td>\n",
              "      <td>0.520884</td>\n",
              "      <td>0.513926</td>\n",
              "      <td>0.592589</td>\n",
              "      <td>1.000000</td>\n",
              "      <td>0.618993</td>\n",
              "    </tr>\n",
              "    <tr>\n",
              "      <th>housePrice</th>\n",
              "      <td>0.004869</td>\n",
              "      <td>-0.009316</td>\n",
              "      <td>0.011741</td>\n",
              "      <td>-0.011551</td>\n",
              "      <td>0.335257</td>\n",
              "      <td>0.335257</td>\n",
              "      <td>0.040297</td>\n",
              "      <td>0.019448</td>\n",
              "      <td>0.436040</td>\n",
              "      <td>0.445392</td>\n",
              "      <td>0.618993</td>\n",
              "      <td>1.000000</td>\n",
              "    </tr>\n",
              "  </tbody>\n",
              "</table>\n",
              "</div>"
            ],
            "text/plain": [
              "                        zip      zip4  latitude  ...  bedrooms     baths  housePrice\n",
              "zip                1.000000  0.085734 -0.023154  ...  0.017302  0.005342    0.004869\n",
              "zip4               0.085734  1.000000  0.004276  ...  0.114327  0.095428   -0.009316\n",
              "latitude          -0.023154  0.004276  1.000000  ...  0.017486  0.006724    0.011741\n",
              "longitude          0.032104  0.194380 -0.999883  ... -0.012653 -0.002833   -0.011551\n",
              "lotSizeAcres       0.006603 -0.046260 -0.113042  ... -0.014185 -0.014935    0.335257\n",
              "lotSizeSquareFeet  0.006603 -0.046260 -0.113042  ... -0.014184 -0.014935    0.335257\n",
              "yearBuilt          0.085572  0.275005  0.008186  ...  0.349765  0.450798    0.040297\n",
              "totalStories      -0.009609  0.112869  0.027241  ...  0.378994  0.520884    0.019448\n",
              "totalRooms        -0.022471  0.109777  0.030471  ...  0.649919  0.513926    0.436040\n",
              "bedrooms           0.017302  0.114327  0.017486  ...  1.000000  0.592589    0.445392\n",
              "baths              0.005342  0.095428  0.006724  ...  0.592589  1.000000    0.618993\n",
              "housePrice         0.004869 -0.009316  0.011741  ...  0.445392  0.618993    1.000000\n",
              "\n",
              "[12 rows x 12 columns]"
            ]
          },
          "metadata": {},
          "execution_count": 83
        }
      ]
    },
    {
      "cell_type": "code",
      "metadata": {
        "id": "0AAcMNGfsci6"
      },
      "source": [
        "def check_correlation(feature_df, target_df):\n",
        "  r = feature_df.corr(target_df)\n",
        "  print(f\"The correlation coefficient is: {r}.\")"
      ],
      "execution_count": null,
      "outputs": []
    },
    {
      "cell_type": "code",
      "metadata": {
        "colab": {
          "base_uri": "https://localhost:8080/"
        },
        "id": "iu3lL_5JtASF",
        "outputId": "1c2f9f99-e240-4024-860a-942a1fb7c52a"
      },
      "source": [
        "feature = \"longitude\"\n",
        "target = \"lotSizeSquareFeet\"\n",
        "check_correlation(data[feature], data[target])"
      ],
      "execution_count": null,
      "outputs": [
        {
          "output_type": "stream",
          "name": "stdout",
          "text": [
            "The correlation coefficient is: 0.11319012448073314.\n"
          ]
        }
      ]
    },
    {
      "cell_type": "code",
      "metadata": {
        "colab": {
          "base_uri": "https://localhost:8080/"
        },
        "id": "AGU4pC49uiy3",
        "outputId": "c0d73776-3786-4c06-e17a-9a3f1862c9ad"
      },
      "source": [
        "data[\"heating\"].value_counts()"
      ],
      "execution_count": null,
      "outputs": [
        {
          "output_type": "execute_result",
          "data": {
            "text/plain": [
              "Forced air    169894\n",
              "Yes              872\n",
              "Central           65\n",
              "None              20\n",
              "Heat Pump          7\n",
              "Name: heating, dtype: int64"
            ]
          },
          "metadata": {},
          "execution_count": 32
        }
      ]
    },
    {
      "cell_type": "markdown",
      "metadata": {
        "id": "0vHodjFProId"
      },
      "source": [
        ""
      ]
    }
  ]
}