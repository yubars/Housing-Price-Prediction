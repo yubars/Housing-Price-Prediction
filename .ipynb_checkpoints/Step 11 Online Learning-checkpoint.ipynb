{
 "cells": [
  {
   "cell_type": "markdown",
   "metadata": {
    "id": "ygq9aLX0MwaD"
   },
   "source": [
    "Install Kafka and Tensorflow IO. Tensorflow IO is an extension package to Tensorflow which supports integration with Apache Kafka and other systems."
   ]
  },
  {
   "cell_type": "code",
   "execution_count": 1,
   "metadata": {
    "colab": {
     "base_uri": "https://localhost:8080/"
    },
    "id": "bMJeBQJyMvx8",
    "outputId": "32b8e9fb-7840-426c-9fd6-ae4210edbd16"
   },
   "outputs": [
    {
     "name": "stdout",
     "output_type": "stream",
     "text": [
      "Requirement already satisfied: tensorflow-io in c:\\users\\manish\\anaconda3\\lib\\site-packages (0.22.0)\n",
      "Requirement already satisfied: tensorflow-io-gcs-filesystem==0.22.0 in c:\\users\\manish\\anaconda3\\lib\\site-packages (from tensorflow-io) (0.22.0)\n",
      "Requirement already satisfied: tensorflow<2.8.0,>=2.7.0 in c:\\users\\manish\\anaconda3\\lib\\site-packages (from tensorflow-io) (2.7.0)\n",
      "Requirement already satisfied: tensorboard~=2.6 in c:\\users\\manish\\anaconda3\\lib\\site-packages (from tensorflow<2.8.0,>=2.7.0->tensorflow-io) (2.7.0)\n",
      "Requirement already satisfied: keras<2.8,>=2.7.0rc0 in c:\\users\\manish\\anaconda3\\lib\\site-packages (from tensorflow<2.8.0,>=2.7.0->tensorflow-io) (2.7.0)\n",
      "Requirement already satisfied: keras-preprocessing>=1.1.1 in c:\\users\\manish\\anaconda3\\lib\\site-packages (from tensorflow<2.8.0,>=2.7.0->tensorflow-io) (1.1.2)\n",
      "Requirement already satisfied: six>=1.12.0 in c:\\users\\manish\\anaconda3\\lib\\site-packages (from tensorflow<2.8.0,>=2.7.0->tensorflow-io) (1.15.0)\n",
      "Requirement already satisfied: google-pasta>=0.1.1 in c:\\users\\manish\\anaconda3\\lib\\site-packages (from tensorflow<2.8.0,>=2.7.0->tensorflow-io) (0.2.0)\n",
      "Requirement already satisfied: flatbuffers<3.0,>=1.12 in c:\\users\\manish\\anaconda3\\lib\\site-packages (from tensorflow<2.8.0,>=2.7.0->tensorflow-io) (2.0)\n",
      "Requirement already satisfied: termcolor>=1.1.0 in c:\\users\\manish\\anaconda3\\lib\\site-packages (from tensorflow<2.8.0,>=2.7.0->tensorflow-io) (1.1.0)\n",
      "Requirement already satisfied: tensorflow-estimator<2.8,~=2.7.0rc0 in c:\\users\\manish\\anaconda3\\lib\\site-packages (from tensorflow<2.8.0,>=2.7.0->tensorflow-io) (2.7.0)\n",
      "Requirement already satisfied: h5py>=2.9.0 in c:\\users\\manish\\anaconda3\\lib\\site-packages (from tensorflow<2.8.0,>=2.7.0->tensorflow-io) (2.10.0)\n",
      "Requirement already satisfied: numpy>=1.14.5 in c:\\users\\manish\\anaconda3\\lib\\site-packages (from tensorflow<2.8.0,>=2.7.0->tensorflow-io) (1.19.5)\n",
      "Requirement already satisfied: wheel<1.0,>=0.32.0 in c:\\users\\manish\\anaconda3\\lib\\site-packages (from tensorflow<2.8.0,>=2.7.0->tensorflow-io) (0.35.1)\n",
      "Requirement already satisfied: grpcio<2.0,>=1.24.3 in c:\\users\\manish\\anaconda3\\lib\\site-packages (from tensorflow<2.8.0,>=2.7.0->tensorflow-io) (1.42.0)\n",
      "Requirement already satisfied: wrapt>=1.11.0 in c:\\users\\manish\\anaconda3\\lib\\site-packages (from tensorflow<2.8.0,>=2.7.0->tensorflow-io) (1.11.2)\n",
      "Requirement already satisfied: gast<0.5.0,>=0.2.1 in c:\\users\\manish\\anaconda3\\lib\\site-packages (from tensorflow<2.8.0,>=2.7.0->tensorflow-io) (0.4.0)\n",
      "Requirement already satisfied: absl-py>=0.4.0 in c:\\users\\manish\\anaconda3\\lib\\site-packages (from tensorflow<2.8.0,>=2.7.0->tensorflow-io) (1.0.0)\n",
      "Requirement already satisfied: typing-extensions>=3.6.6 in c:\\users\\manish\\anaconda3\\lib\\site-packages (from tensorflow<2.8.0,>=2.7.0->tensorflow-io) (3.7.4.3)\n",
      "Requirement already satisfied: astunparse>=1.6.0 in c:\\users\\manish\\anaconda3\\lib\\site-packages (from tensorflow<2.8.0,>=2.7.0->tensorflow-io) (1.6.3)\n",
      "Requirement already satisfied: opt-einsum>=2.3.2 in c:\\users\\manish\\anaconda3\\lib\\site-packages (from tensorflow<2.8.0,>=2.7.0->tensorflow-io) (3.3.0)\n",
      "Requirement already satisfied: protobuf>=3.9.2 in c:\\users\\manish\\anaconda3\\lib\\site-packages (from tensorflow<2.8.0,>=2.7.0->tensorflow-io) (3.19.1)\n",
      "Requirement already satisfied: libclang>=9.0.1 in c:\\users\\manish\\anaconda3\\lib\\site-packages (from tensorflow<2.8.0,>=2.7.0->tensorflow-io) (12.0.0)\n",
      "Requirement already satisfied: setuptools>=41.0.0 in c:\\users\\manish\\anaconda3\\lib\\site-packages (from tensorboard~=2.6->tensorflow<2.8.0,>=2.7.0->tensorflow-io) (50.3.1.post20201107)\n",
      "Requirement already satisfied: tensorboard-data-server<0.7.0,>=0.6.0 in c:\\users\\manish\\anaconda3\\lib\\site-packages (from tensorboard~=2.6->tensorflow<2.8.0,>=2.7.0->tensorflow-io) (0.6.1)\n",
      "Requirement already satisfied: google-auth-oauthlib<0.5,>=0.4.1 in c:\\users\\manish\\anaconda3\\lib\\site-packages (from tensorboard~=2.6->tensorflow<2.8.0,>=2.7.0->tensorflow-io) (0.4.6)\n",
      "Requirement already satisfied: werkzeug>=0.11.15 in c:\\users\\manish\\anaconda3\\lib\\site-packages (from tensorboard~=2.6->tensorflow<2.8.0,>=2.7.0->tensorflow-io) (1.0.1)\n",
      "Requirement already satisfied: markdown>=2.6.8 in c:\\users\\manish\\anaconda3\\lib\\site-packages (from tensorboard~=2.6->tensorflow<2.8.0,>=2.7.0->tensorflow-io) (3.3.6)\n",
      "Requirement already satisfied: requests<3,>=2.21.0 in c:\\users\\manish\\anaconda3\\lib\\site-packages (from tensorboard~=2.6->tensorflow<2.8.0,>=2.7.0->tensorflow-io) (2.24.0)\n",
      "Requirement already satisfied: tensorboard-plugin-wit>=1.6.0 in c:\\users\\manish\\anaconda3\\lib\\site-packages (from tensorboard~=2.6->tensorflow<2.8.0,>=2.7.0->tensorflow-io) (1.8.0)\n",
      "Requirement already satisfied: google-auth<3,>=1.6.3 in c:\\users\\manish\\anaconda3\\lib\\site-packages (from tensorboard~=2.6->tensorflow<2.8.0,>=2.7.0->tensorflow-io) (2.3.3)\n",
      "Requirement already satisfied: cachetools<5.0,>=2.0.0 in c:\\users\\manish\\anaconda3\\lib\\site-packages (from google-auth<3,>=1.6.3->tensorboard~=2.6->tensorflow<2.8.0,>=2.7.0->tensorflow-io) (4.2.4)\n",
      "Requirement already satisfied: pyasn1-modules>=0.2.1 in c:\\users\\manish\\anaconda3\\lib\\site-packages (from google-auth<3,>=1.6.3->tensorboard~=2.6->tensorflow<2.8.0,>=2.7.0->tensorflow-io) (0.2.8)\n",
      "Requirement already satisfied: rsa<5,>=3.1.4 in c:\\users\\manish\\anaconda3\\lib\\site-packages (from google-auth<3,>=1.6.3->tensorboard~=2.6->tensorflow<2.8.0,>=2.7.0->tensorflow-io) (4.8)\n",
      "Requirement already satisfied: requests-oauthlib>=0.7.0 in c:\\users\\manish\\anaconda3\\lib\\site-packages (from google-auth-oauthlib<0.5,>=0.4.1->tensorboard~=2.6->tensorflow<2.8.0,>=2.7.0->tensorflow-io) (1.3.0)\n",
      "Requirement already satisfied: importlib-metadata>=4.4 in c:\\users\\manish\\anaconda3\\lib\\site-packages (from markdown>=2.6.8->tensorboard~=2.6->tensorflow<2.8.0,>=2.7.0->tensorflow-io) (4.8.2)\n",
      "Requirement already satisfied: idna<3,>=2.5 in c:\\users\\manish\\anaconda3\\lib\\site-packages (from requests<3,>=2.21.0->tensorboard~=2.6->tensorflow<2.8.0,>=2.7.0->tensorflow-io) (2.10)\n",
      "Requirement already satisfied: certifi>=2017.4.17 in c:\\users\\manish\\anaconda3\\lib\\site-packages (from requests<3,>=2.21.0->tensorboard~=2.6->tensorflow<2.8.0,>=2.7.0->tensorflow-io) (2020.12.5)\n",
      "Requirement already satisfied: urllib3!=1.25.0,!=1.25.1,<1.26,>=1.21.1 in c:\\users\\manish\\anaconda3\\lib\\site-packages (from requests<3,>=2.21.0->tensorboard~=2.6->tensorflow<2.8.0,>=2.7.0->tensorflow-io) (1.25.11)\n",
      "Requirement already satisfied: chardet<4,>=3.0.2 in c:\\users\\manish\\anaconda3\\lib\\site-packages (from requests<3,>=2.21.0->tensorboard~=2.6->tensorflow<2.8.0,>=2.7.0->tensorflow-io) (3.0.4)\n",
      "Requirement already satisfied: zipp>=0.5 in c:\\users\\manish\\anaconda3\\lib\\site-packages (from importlib-metadata>=4.4->markdown>=2.6.8->tensorboard~=2.6->tensorflow<2.8.0,>=2.7.0->tensorflow-io) (3.4.0)\n",
      "Requirement already satisfied: pyasn1<0.5.0,>=0.4.6 in c:\\users\\manish\\anaconda3\\lib\\site-packages (from pyasn1-modules>=0.2.1->google-auth<3,>=1.6.3->tensorboard~=2.6->tensorflow<2.8.0,>=2.7.0->tensorflow-io) (0.4.8)\n",
      "Requirement already satisfied: oauthlib>=3.0.0 in c:\\users\\manish\\anaconda3\\lib\\site-packages (from requests-oauthlib>=0.7.0->google-auth-oauthlib<0.5,>=0.4.1->tensorboard~=2.6->tensorflow<2.8.0,>=2.7.0->tensorflow-io) (3.1.1)\n",
      "Requirement already satisfied: kafka-python in c:\\users\\manish\\anaconda3\\lib\\site-packages (2.0.2)\n"
     ]
    }
   ],
   "source": [
    "!pip install tensorflow-io\n",
    "!pip install kafka-python"
   ]
  },
  {
   "cell_type": "code",
   "execution_count": 2,
   "metadata": {
    "id": "eW0kxlBrH9Bx"
   },
   "outputs": [],
   "source": [
    "from sklearn.ensemble import RandomForestRegressor\n",
    "from sklearn.model_selection import train_test_split\n",
    "import pandas as pd\n",
    "import matplotlib.pyplot as plt\n",
    "import numpy as np\n",
    "from sklearn.metrics import r2_score\n",
    "import time \n",
    "from kafka import KafkaProducer\n",
    "import tensorflow as tf\n",
    "import tensorflow_io as tfio\n",
    "# import pickle as pkl\n",
    "from joblib import load"
   ]
  },
  {
   "cell_type": "markdown",
   "metadata": {
    "id": "ULUi9ERLNJ4c"
   },
   "source": [
    "Download and setup Kafka for real time data stream simulation. \n"
   ]
  },
  {
   "cell_type": "code",
   "execution_count": 3,
   "metadata": {
    "id": "2sivCt0xNIL5"
   },
   "outputs": [],
   "source": [
    "!curl -sSOL https://downloads.apache.org/kafka/2.8.1/kafka_2.12-2.8.1.tgz\n",
    "!tar -xzf kafka_2.12-2.8.1.tgz "
   ]
  },
  {
   "cell_type": "markdown",
   "metadata": {
    "id": "DadZAWGSNSzw"
   },
   "source": [
    "Start Kafka and Zookeeper servers as a daemon processes. Zookeeper is a centralized service for maintaing configuration information, naming, providing distributed synchronization, and providing group services."
   ]
  },
  {
   "cell_type": "code",
   "execution_count": null,
   "metadata": {
    "id": "0gXpOLebNPMJ"
   },
   "outputs": [],
   "source": [
    "!./kafka_2.12-2.8.1/bin/zookeeper-server-start.sh -daemon ./kafka_2.12-2.8.1/config/zookeeper.properties\n",
    "!./kafka_2.12-2.8.1/bin/kafka-server-start.sh -daemon ./kafka_2.12-2.8.1/config/server.properties"
   ]
  },
  {
   "cell_type": "markdown",
   "metadata": {
    "id": "CWUcesuvNcpw"
   },
   "source": [
    "### Create a topic to store partitions\n",
    "Create topic for train and test dataset to store events in Kafka. Kafka is a distributed event streaming platform that lets you read, write, store and process partitions. These events or messages are organized and stored in topics. In simple terms, topic is similar to a folder in a filesystem, and the message are the file in that folder."
   ]
  },
  {
   "cell_type": "code",
   "execution_count": null,
   "metadata": {
    "colab": {
     "base_uri": "https://localhost:8080/"
    },
    "id": "RjBUV3jKNf6D",
    "outputId": "e1eab73a-0f30-40cf-9f74-2997d3313df3"
   },
   "outputs": [
    {
     "name": "stdout",
     "output_type": "stream",
     "text": [
      "Created topic home-train.\n",
      "Created topic home-test.\n"
     ]
    }
   ],
   "source": [
    "!./kafka_2.12-2.8.1/bin/kafka-topics.sh --create --topic home-train --bootstrap-server localhost:9092 --replication-factor 1 --partitions 1\n",
    "!./kafka_2.12-2.8.1/bin/kafka-topics.sh --create --topic home-test --bootstrap-server localhost:9092 --replication-factor 1 --partitions 2"
   ]
  },
  {
   "cell_type": "markdown",
   "metadata": {
    "id": "4-eMbie_N-As"
   },
   "source": [
    "### Describe the topic for details\n",
    "Describe command helps us gather details on topic, it's partitions, replicas, and other important information.\n"
   ]
  },
  {
   "cell_type": "code",
   "execution_count": null,
   "metadata": {
    "colab": {
     "base_uri": "https://localhost:8080/"
    },
    "id": "AHr69u5VNyIW",
    "outputId": "30481602-486b-4cf8-d88d-6c4c4b3a1d09"
   },
   "outputs": [
    {
     "name": "stdout",
     "output_type": "stream",
     "text": [
      "Topic: home-train\tTopicId: B69e8PhURzmB2hLy2R1Few\tPartitionCount: 1\tReplicationFactor: 1\tConfigs: segment.bytes=1073741824\n",
      "\tTopic: home-train\tPartition: 0\tLeader: 0\tReplicas: 0\tIsr: 0\n",
      "Topic: home-test\tTopicId: mAgrS0E0QD-CC5dIpA3-KA\tPartitionCount: 2\tReplicationFactor: 1\tConfigs: segment.bytes=1073741824\n",
      "\tTopic: home-test\tPartition: 0\tLeader: 0\tReplicas: 0\tIsr: 0\n",
      "\tTopic: home-test\tPartition: 1\tLeader: 0\tReplicas: 0\tIsr: 0\n"
     ]
    }
   ],
   "source": [
    "!./kafka_2.12-2.8.1/bin/kafka-topics.sh --describe --topic home-train --bootstrap-server localhost:9092\n",
    "!./kafka_2.12-2.8.1/bin/kafka-topics.sh --describe --topic home-test --bootstrap-server localhost:9092"
   ]
  },
  {
   "cell_type": "code",
   "execution_count": null,
   "metadata": {
    "colab": {
     "base_uri": "https://localhost:8080/"
    },
    "id": "sSxvxDTtA5LO",
    "outputId": "97f153e0-1b54-41df-f9b8-b5285777eb66"
   },
   "outputs": [
    {
     "name": "stdout",
     "output_type": "stream",
     "text": [
      "Mounted at /content/drive\n"
     ]
    }
   ],
   "source": [
    "from google.colab import drive\n",
    "drive.mount('/content/drive')"
   ]
  },
  {
   "cell_type": "code",
   "execution_count": null,
   "metadata": {
    "id": "p8p1ipFpBJ9N"
   },
   "outputs": [],
   "source": [
    "data = pd.read_csv(\"/content/drive/MyDrive/outlierRemovedProcessedData.csv\")"
   ]
  },
  {
   "cell_type": "code",
   "execution_count": null,
   "metadata": {
    "colab": {
     "base_uri": "https://localhost:8080/",
     "height": 383
    },
    "id": "N7oDil4JGdZ9",
    "outputId": "d09da548-3820-4c54-f8d6-fd1987c11c37"
   },
   "outputs": [
    {
     "data": {
      "text/html": [
       "<div>\n",
       "<style scoped>\n",
       "    .dataframe tbody tr th:only-of-type {\n",
       "        vertical-align: middle;\n",
       "    }\n",
       "\n",
       "    .dataframe tbody tr th {\n",
       "        vertical-align: top;\n",
       "    }\n",
       "\n",
       "    .dataframe thead th {\n",
       "        text-align: right;\n",
       "    }\n",
       "</style>\n",
       "<table border=\"1\" class=\"dataframe\">\n",
       "  <thead>\n",
       "    <tr style=\"text-align: right;\">\n",
       "      <th></th>\n",
       "      <th>city</th>\n",
       "      <th>state</th>\n",
       "      <th>street</th>\n",
       "      <th>streetSuffix</th>\n",
       "      <th>zip</th>\n",
       "      <th>latitude</th>\n",
       "      <th>longitude</th>\n",
       "      <th>landUseDescription</th>\n",
       "      <th>zoningDescription</th>\n",
       "      <th>lotSizeAcres</th>\n",
       "      <th>lotSizeSquareFeet</th>\n",
       "      <th>lotTopography</th>\n",
       "      <th>condition</th>\n",
       "      <th>architecturalStyle</th>\n",
       "      <th>yearBuilt</th>\n",
       "      <th>totalStories</th>\n",
       "      <th>totalRooms</th>\n",
       "      <th>bedrooms</th>\n",
       "      <th>baths</th>\n",
       "      <th>heating</th>\n",
       "      <th>airConditioning</th>\n",
       "      <th>foundation</th>\n",
       "      <th>fireplace</th>\n",
       "      <th>soldYear</th>\n",
       "      <th>housePrice</th>\n",
       "    </tr>\n",
       "  </thead>\n",
       "  <tbody>\n",
       "    <tr>\n",
       "      <th>0</th>\n",
       "      <td>0.555556</td>\n",
       "      <td>0.183673</td>\n",
       "      <td>0.731019</td>\n",
       "      <td>0.730159</td>\n",
       "      <td>-0.42215</td>\n",
       "      <td>0.067219</td>\n",
       "      <td>-0.106941</td>\n",
       "      <td>0.769231</td>\n",
       "      <td>0.487179</td>\n",
       "      <td>0.521220</td>\n",
       "      <td>0.521220</td>\n",
       "      <td>0.2</td>\n",
       "      <td>0.0</td>\n",
       "      <td>0.8</td>\n",
       "      <td>-1.161442</td>\n",
       "      <td>-1.101543</td>\n",
       "      <td>0.589168</td>\n",
       "      <td>-0.64725</td>\n",
       "      <td>-1.066788</td>\n",
       "      <td>0.25</td>\n",
       "      <td>1.0</td>\n",
       "      <td>0.0</td>\n",
       "      <td>0.0</td>\n",
       "      <td>0.0</td>\n",
       "      <td>179300</td>\n",
       "    </tr>\n",
       "    <tr>\n",
       "      <th>1</th>\n",
       "      <td>0.555556</td>\n",
       "      <td>0.183673</td>\n",
       "      <td>0.637336</td>\n",
       "      <td>0.571429</td>\n",
       "      <td>-0.42215</td>\n",
       "      <td>-10.650685</td>\n",
       "      <td>10.653853</td>\n",
       "      <td>0.769231</td>\n",
       "      <td>0.487179</td>\n",
       "      <td>0.735954</td>\n",
       "      <td>0.735954</td>\n",
       "      <td>0.2</td>\n",
       "      <td>0.0</td>\n",
       "      <td>0.4</td>\n",
       "      <td>-1.237048</td>\n",
       "      <td>0.879733</td>\n",
       "      <td>-0.749912</td>\n",
       "      <td>-0.64725</td>\n",
       "      <td>0.317929</td>\n",
       "      <td>0.25</td>\n",
       "      <td>1.0</td>\n",
       "      <td>1.0</td>\n",
       "      <td>0.0</td>\n",
       "      <td>0.0</td>\n",
       "      <td>210500</td>\n",
       "    </tr>\n",
       "    <tr>\n",
       "      <th>2</th>\n",
       "      <td>0.555556</td>\n",
       "      <td>0.183673</td>\n",
       "      <td>0.487877</td>\n",
       "      <td>0.222222</td>\n",
       "      <td>-0.42215</td>\n",
       "      <td>0.068531</td>\n",
       "      <td>-0.107635</td>\n",
       "      <td>0.230769</td>\n",
       "      <td>0.474359</td>\n",
       "      <td>0.682270</td>\n",
       "      <td>0.682270</td>\n",
       "      <td>0.2</td>\n",
       "      <td>0.0</td>\n",
       "      <td>0.2</td>\n",
       "      <td>-1.237048</td>\n",
       "      <td>0.879733</td>\n",
       "      <td>0.589168</td>\n",
       "      <td>0.70620</td>\n",
       "      <td>0.317929</td>\n",
       "      <td>0.25</td>\n",
       "      <td>1.0</td>\n",
       "      <td>1.0</td>\n",
       "      <td>0.0</td>\n",
       "      <td>0.0</td>\n",
       "      <td>251400</td>\n",
       "    </tr>\n",
       "    <tr>\n",
       "      <th>3</th>\n",
       "      <td>0.555556</td>\n",
       "      <td>0.183673</td>\n",
       "      <td>0.212180</td>\n",
       "      <td>0.650794</td>\n",
       "      <td>-0.42215</td>\n",
       "      <td>0.067796</td>\n",
       "      <td>-0.107374</td>\n",
       "      <td>0.769231</td>\n",
       "      <td>0.487179</td>\n",
       "      <td>0.574903</td>\n",
       "      <td>0.574903</td>\n",
       "      <td>0.2</td>\n",
       "      <td>0.0</td>\n",
       "      <td>1.0</td>\n",
       "      <td>-1.237048</td>\n",
       "      <td>-1.101543</td>\n",
       "      <td>-0.749912</td>\n",
       "      <td>-0.64725</td>\n",
       "      <td>-1.066788</td>\n",
       "      <td>0.25</td>\n",
       "      <td>1.0</td>\n",
       "      <td>1.0</td>\n",
       "      <td>0.0</td>\n",
       "      <td>0.0</td>\n",
       "      <td>215400</td>\n",
       "    </tr>\n",
       "    <tr>\n",
       "      <th>4</th>\n",
       "      <td>0.555556</td>\n",
       "      <td>0.183673</td>\n",
       "      <td>0.198748</td>\n",
       "      <td>0.650794</td>\n",
       "      <td>-0.42215</td>\n",
       "      <td>0.067623</td>\n",
       "      <td>-0.107263</td>\n",
       "      <td>0.769231</td>\n",
       "      <td>0.474359</td>\n",
       "      <td>1.326472</td>\n",
       "      <td>1.326471</td>\n",
       "      <td>0.2</td>\n",
       "      <td>0.0</td>\n",
       "      <td>0.6</td>\n",
       "      <td>-0.783414</td>\n",
       "      <td>-1.101543</td>\n",
       "      <td>-0.749912</td>\n",
       "      <td>-0.64725</td>\n",
       "      <td>-1.066788</td>\n",
       "      <td>0.25</td>\n",
       "      <td>1.0</td>\n",
       "      <td>0.0</td>\n",
       "      <td>0.0</td>\n",
       "      <td>0.0</td>\n",
       "      <td>191800</td>\n",
       "    </tr>\n",
       "    <tr>\n",
       "      <th>5</th>\n",
       "      <td>0.555556</td>\n",
       "      <td>0.183673</td>\n",
       "      <td>0.198748</td>\n",
       "      <td>0.650794</td>\n",
       "      <td>-0.42215</td>\n",
       "      <td>0.067792</td>\n",
       "      <td>-0.107296</td>\n",
       "      <td>0.769231</td>\n",
       "      <td>0.474359</td>\n",
       "      <td>0.306486</td>\n",
       "      <td>0.306486</td>\n",
       "      <td>0.0</td>\n",
       "      <td>0.0</td>\n",
       "      <td>0.4</td>\n",
       "      <td>-1.237048</td>\n",
       "      <td>0.879733</td>\n",
       "      <td>0.589168</td>\n",
       "      <td>0.70620</td>\n",
       "      <td>0.317929</td>\n",
       "      <td>0.25</td>\n",
       "      <td>1.0</td>\n",
       "      <td>1.0</td>\n",
       "      <td>0.0</td>\n",
       "      <td>0.0</td>\n",
       "      <td>200000</td>\n",
       "    </tr>\n",
       "    <tr>\n",
       "      <th>6</th>\n",
       "      <td>0.555556</td>\n",
       "      <td>0.183673</td>\n",
       "      <td>0.021172</td>\n",
       "      <td>0.253968</td>\n",
       "      <td>-0.42215</td>\n",
       "      <td>0.069825</td>\n",
       "      <td>-0.106798</td>\n",
       "      <td>0.230769</td>\n",
       "      <td>0.474359</td>\n",
       "      <td>0.467536</td>\n",
       "      <td>0.467536</td>\n",
       "      <td>0.0</td>\n",
       "      <td>0.0</td>\n",
       "      <td>0.2</td>\n",
       "      <td>-0.632203</td>\n",
       "      <td>0.879733</td>\n",
       "      <td>0.589168</td>\n",
       "      <td>0.70620</td>\n",
       "      <td>0.317929</td>\n",
       "      <td>0.25</td>\n",
       "      <td>1.0</td>\n",
       "      <td>0.0</td>\n",
       "      <td>0.0</td>\n",
       "      <td>0.0</td>\n",
       "      <td>272600</td>\n",
       "    </tr>\n",
       "    <tr>\n",
       "      <th>7</th>\n",
       "      <td>0.555556</td>\n",
       "      <td>0.183673</td>\n",
       "      <td>0.677518</td>\n",
       "      <td>0.253968</td>\n",
       "      <td>-0.42215</td>\n",
       "      <td>0.069423</td>\n",
       "      <td>-0.107123</td>\n",
       "      <td>0.230769</td>\n",
       "      <td>0.474359</td>\n",
       "      <td>0.843321</td>\n",
       "      <td>0.843320</td>\n",
       "      <td>0.0</td>\n",
       "      <td>0.0</td>\n",
       "      <td>0.2</td>\n",
       "      <td>-0.707808</td>\n",
       "      <td>-1.101543</td>\n",
       "      <td>-0.080372</td>\n",
       "      <td>0.70620</td>\n",
       "      <td>0.317929</td>\n",
       "      <td>0.25</td>\n",
       "      <td>1.0</td>\n",
       "      <td>1.0</td>\n",
       "      <td>0.0</td>\n",
       "      <td>0.0</td>\n",
       "      <td>254000</td>\n",
       "    </tr>\n",
       "    <tr>\n",
       "      <th>8</th>\n",
       "      <td>0.555556</td>\n",
       "      <td>0.183673</td>\n",
       "      <td>0.677518</td>\n",
       "      <td>0.253968</td>\n",
       "      <td>-0.42215</td>\n",
       "      <td>0.068558</td>\n",
       "      <td>-0.106993</td>\n",
       "      <td>0.230769</td>\n",
       "      <td>0.474359</td>\n",
       "      <td>0.950688</td>\n",
       "      <td>0.950687</td>\n",
       "      <td>0.0</td>\n",
       "      <td>0.0</td>\n",
       "      <td>0.2</td>\n",
       "      <td>-0.707808</td>\n",
       "      <td>0.879733</td>\n",
       "      <td>1.258708</td>\n",
       "      <td>0.70620</td>\n",
       "      <td>0.317929</td>\n",
       "      <td>0.25</td>\n",
       "      <td>1.0</td>\n",
       "      <td>0.0</td>\n",
       "      <td>0.0</td>\n",
       "      <td>0.0</td>\n",
       "      <td>247700</td>\n",
       "    </tr>\n",
       "    <tr>\n",
       "      <th>9</th>\n",
       "      <td>0.555556</td>\n",
       "      <td>0.183673</td>\n",
       "      <td>0.103927</td>\n",
       "      <td>0.253968</td>\n",
       "      <td>-0.42215</td>\n",
       "      <td>0.069691</td>\n",
       "      <td>-0.107015</td>\n",
       "      <td>0.230769</td>\n",
       "      <td>0.474359</td>\n",
       "      <td>2.131724</td>\n",
       "      <td>2.131723</td>\n",
       "      <td>0.4</td>\n",
       "      <td>0.0</td>\n",
       "      <td>0.2</td>\n",
       "      <td>-0.178569</td>\n",
       "      <td>0.879733</td>\n",
       "      <td>0.589168</td>\n",
       "      <td>0.70620</td>\n",
       "      <td>0.317929</td>\n",
       "      <td>0.25</td>\n",
       "      <td>1.0</td>\n",
       "      <td>1.0</td>\n",
       "      <td>0.0</td>\n",
       "      <td>0.0</td>\n",
       "      <td>269900</td>\n",
       "    </tr>\n",
       "  </tbody>\n",
       "</table>\n",
       "</div>"
      ],
      "text/plain": [
       "       city     state    street  ...  fireplace  soldYear  housePrice\n",
       "0  0.555556  0.183673  0.731019  ...        0.0       0.0      179300\n",
       "1  0.555556  0.183673  0.637336  ...        0.0       0.0      210500\n",
       "2  0.555556  0.183673  0.487877  ...        0.0       0.0      251400\n",
       "3  0.555556  0.183673  0.212180  ...        0.0       0.0      215400\n",
       "4  0.555556  0.183673  0.198748  ...        0.0       0.0      191800\n",
       "5  0.555556  0.183673  0.198748  ...        0.0       0.0      200000\n",
       "6  0.555556  0.183673  0.021172  ...        0.0       0.0      272600\n",
       "7  0.555556  0.183673  0.677518  ...        0.0       0.0      254000\n",
       "8  0.555556  0.183673  0.677518  ...        0.0       0.0      247700\n",
       "9  0.555556  0.183673  0.103927  ...        0.0       0.0      269900\n",
       "\n",
       "[10 rows x 25 columns]"
      ]
     },
     "execution_count": 8,
     "metadata": {},
     "output_type": "execute_result"
    }
   ],
   "source": [
    "data.head(10)"
   ]
  },
  {
   "cell_type": "code",
   "execution_count": null,
   "metadata": {
    "id": "xJfhNWgaHaWv"
   },
   "outputs": [],
   "source": [
    "# X = data.iloc[:, :-1]\n",
    "# y = data[\"housePrice\"]"
   ]
  },
  {
   "cell_type": "code",
   "execution_count": null,
   "metadata": {
    "id": "fzUC5cttHdwQ"
   },
   "outputs": [],
   "source": [
    "# print(len(X))\n",
    "# print(len(y))"
   ]
  },
  {
   "cell_type": "code",
   "execution_count": null,
   "metadata": {
    "id": "yHRtMXtBRrHy"
   },
   "outputs": [],
   "source": [
    "train_df, test_df = train_test_split(data, test_size=0.3, shuffle=True)\n",
    "test_df, validate_df = train_test_split(test_df, test_size= 0.3, shuffle= True)\n",
    "x_train_df = train_df.drop([\"housePrice\"], axis=1)\n",
    "y_train_df = train_df[\"housePrice\"]\n",
    "\n",
    "x_test_df = test_df.drop([\"housePrice\"], axis=1)\n",
    "y_test_df = test_df[\"housePrice\"]\n",
    "\n",
    "x_validate_df = validate_df.drop([\"housePrice\"], axis = 1)\n",
    "y_validate_df = validate_df[\"housePrice\"]"
   ]
  },
  {
   "cell_type": "code",
   "execution_count": null,
   "metadata": {
    "colab": {
     "base_uri": "https://localhost:8080/"
    },
    "id": "1SUVSbsCSlG4",
    "outputId": "b698746e-587a-4c35-8a4b-1929e3e765de"
   },
   "outputs": [
    {
     "name": "stdout",
     "output_type": "stream",
     "text": [
      "Number of training samples:  152245\n",
      "Number of testing sample:  45673\n"
     ]
    }
   ],
   "source": [
    "print(\"Number of training samples: \",len(train_df))\n",
    "print(\"Number of testing sample: \",len(test_df))"
   ]
  },
  {
   "cell_type": "code",
   "execution_count": null,
   "metadata": {
    "id": "pG7rZ1H6G2LZ"
   },
   "outputs": [],
   "source": [
    "# X_train, X_test, y_train, y_test = train_test_split(X, y, test_size=0.3, random_state=27)"
   ]
  },
  {
   "cell_type": "code",
   "execution_count": null,
   "metadata": {
    "id": "yGPM62tsK4xi"
   },
   "outputs": [],
   "source": [
    "# X_test, X_val, y_test, y_val = train_test_split(X_test, y_test, test_size=0.3, random_state=27)"
   ]
  },
  {
   "cell_type": "code",
   "execution_count": null,
   "metadata": {
    "id": "puPjDxAuHS_j"
   },
   "outputs": [],
   "source": [
    "# print(len(X_train))\n",
    "# print(len(X_test))"
   ]
  },
  {
   "cell_type": "markdown",
   "metadata": {
    "id": "JgGTirxRQPFw"
   },
   "source": [
    "### Convert data to list format\n",
    "Read each row from the dataframe and convert it to the list format to feed to Kafka."
   ]
  },
  {
   "cell_type": "code",
   "execution_count": null,
   "metadata": {
    "colab": {
     "base_uri": "https://localhost:8080/"
    },
    "id": "uW4WcWDnQP15",
    "outputId": "3cc4c3af-72f5-42f4-e4be-2bf2ca485357"
   },
   "outputs": [
    {
     "data": {
      "text/plain": [
       "(152245, 152245, 45673, 45673)"
      ]
     },
     "execution_count": 12,
     "metadata": {},
     "output_type": "execute_result"
    }
   ],
   "source": [
    "#Convert each test and train dataframe to list form to feed to kafka\n",
    "x_train = list(filter(None, x_train_df.to_csv(index=False).split(\"\\n\")[1:]))\n",
    "y_train = list(filter(None, y_train_df.to_csv(index=False).split(\"\\n\")[1:]))\n",
    "\n",
    "x_test = list(filter(None, x_test_df.to_csv(index=False).split(\"\\n\")[1:]))\n",
    "y_test = list(filter(None, y_test_df.to_csv(index=False).split(\"\\n\")[1:]))\n",
    "len(x_train), len(y_train), len(x_test), len(y_test)"
   ]
  },
  {
   "cell_type": "code",
   "execution_count": null,
   "metadata": {
    "id": "QoDkiUA3Tg15"
   },
   "outputs": [],
   "source": [
    "NUM_COLUMNS = len(x_train_df.columns)"
   ]
  },
  {
   "cell_type": "markdown",
   "metadata": {
    "id": "pvUOcwEpPtj-"
   },
   "source": [
    "### Create Kafka Producer \n",
    "Create Kafka producer which takes in data and sends the record to the partition within a topic in Kafka cluster. "
   ]
  },
  {
   "cell_type": "code",
   "execution_count": null,
   "metadata": {
    "colab": {
     "base_uri": "https://localhost:8080/"
    },
    "id": "iLOMNKMcPs6P",
    "outputId": "70934762-45ed-4411-e9cb-e97fcacd6386"
   },
   "outputs": [
    {
     "name": "stdout",
     "output_type": "stream",
     "text": [
      "Wrote 152245 messages into topic: home-train\n",
      "Wrote 45673 messages into topic: home-test\n"
     ]
    }
   ],
   "source": [
    "#send each record to a partition within a topic in kafka cluster\n",
    "def write_to_kafka(topic, items):\n",
    "  count=0\n",
    "  producer = KafkaProducer(bootstrap_servers=['localhost:9092'])\n",
    "  for message, key in items:\n",
    "    producer.send(topic, key=key.encode('utf-8'), value=message.encode('utf-8'))\n",
    "    count += 1 \n",
    "  producer.flush()\n",
    "  print(\"Wrote {0} messages into topic: {1}\".format(count, topic))\n",
    "\n",
    "write_to_kafka(\"home-train\", zip(x_train, y_train))\n",
    "write_to_kafka(\"home-test\", zip(x_test, y_test))"
   ]
  },
  {
   "cell_type": "markdown",
   "metadata": {
    "id": "7Pt8xG73TXG-"
   },
   "source": [
    "### Online Learning\n",
    "Unlike traditional training of machine learning models, online learning is based on incrementally learning or updating parameters as soon as the new data points are available. This process continues indefinitely. In the code below, stream_timeout is set to 10000 milliseconds which means as all the messages are consumed from the topic, the dataset will wait for 10 more seconds before timing out and disconnecting from the Kafka cluster. If additional data arrives in that time period, model training resumes. "
   ]
  },
  {
   "cell_type": "code",
   "execution_count": null,
   "metadata": {
    "id": "Djw8hnRzgpE8"
   },
   "outputs": [],
   "source": [
    "online_train_ds = tfio.experimental.streaming.KafkaGroupIODataset(\n",
    "    topics=[\"home-train\"],\n",
    "    group_id=\"cgonline\",\n",
    "    servers=\"localhost:9092\",\n",
    "    stream_timeout=10000, # in milliseconds, to block indefinitely, set it to -1.\n",
    "    configuration=[\n",
    "        \"session.timeout.ms=7000\",\n",
    "        \"max.poll.interval.ms=8000\",\n",
    "        \"auto.offset.reset=earliest\"\n",
    "    ],\n",
    ")\n",
    "\n",
    "def decode_kafka_online_item(raw_message, raw_key):\n",
    "  message = tf.io.decode_csv(raw_message, [[0.0] for i in range(NUM_COLUMNS)])\n",
    "  key = tf.strings.to_number(raw_key)\n",
    "  return (message, key)\n",
    "\n",
    "# BATCH_SIZE = 32\n",
    "# online_train_ds = online_train_ds.shuffle(buffer_size=32)\n",
    "# online_train_ds = online_train_ds.map(decode_kafka_online_item)\n",
    "# online_train_ds = online_train_ds.batch(BATCH_SIZE)"
   ]
  },
  {
   "cell_type": "code",
   "execution_count": null,
   "metadata": {
    "id": "_jsOVt363YVi"
   },
   "outputs": [],
   "source": [
    "from joblib import \n",
    "rf_model = "
   ]
  },
  {
   "cell_type": "code",
   "execution_count": null,
   "metadata": {
    "id": "tUZERzsqz5Zr"
   },
   "outputs": [],
   "source": [
    "online_train_ds_temp = online_train_ds.map(decode_kafka_online_item)"
   ]
  },
  {
   "cell_type": "code",
   "execution_count": null,
   "metadata": {
    "id": "0ue4ch4b0EOs"
   },
   "outputs": [],
   "source": [
    "final_online_data = list()\n",
    "final_online_label = list()\n",
    "\n",
    "for data, label in online_train_ds_temp:\n",
    "  data = np.array(data)\n",
    "  label = np.array(label)\n",
    "  final_online_data.append(data)\n",
    "  final_online_label.append(label)"
   ]
  },
  {
   "cell_type": "code",
   "execution_count": null,
   "metadata": {
    "id": "Rl_Jqg-p00Rf"
   },
   "outputs": [],
   "source": [
    "import joblib\n",
    "rf_model = joblib.load(\"/content/drive/MyDrive/Software Engg Regression Analysis/[LATEST] Manish New Data/final_rf_model.joblib\")"
   ]
  },
  {
   "cell_type": "code",
   "execution_count": null,
   "metadata": {
    "id": "CoaC5PTsAvpZ"
   },
   "outputs": [],
   "source": [
    "rf_model.fit(final_online_data, final_online_label)"
   ]
  },
  {
   "cell_type": "code",
   "execution_count": null,
   "metadata": {},
   "outputs": [],
   "source": [
    "from joblib import dump\n",
    "\n",
    "dump(rf_model, \"rf_model_online_learning.joblib\")"
   ]
  },
  {
   "cell_type": "code",
   "execution_count": null,
   "metadata": {
    "id": "J3ZNonelWF3B"
   },
   "outputs": [],
   "source": [
    "train_pred = rf_model.predict(X_train)"
   ]
  },
  {
   "cell_type": "code",
   "execution_count": null,
   "metadata": {
    "colab": {
     "base_uri": "https://localhost:8080/"
    },
    "id": "J-0uaSnwt4wR",
    "outputId": "1a02f6bd-86e4-468d-c131-981878cd515d"
   },
   "outputs": [
    {
     "name": "stdout",
     "output_type": "stream",
     "text": [
      "Train R2: 0.975\n",
      "Test R2: 0.871\n"
     ]
    }
   ],
   "source": [
    "train_r2 = round(r2_score(y_train, train_pred), 3)\n",
    "print(f\"Train R2: {train_r2}\")"
   ]
  },
  {
   "cell_type": "code",
   "execution_count": null,
   "metadata": {
    "colab": {
     "base_uri": "https://localhost:8080/",
     "height": 290
    },
    "id": "hh7YhImUWJdY",
    "outputId": "ec0863e2-67ac-4ae0-b9d2-80d704abafd7"
   },
   "outputs": [
    {
     "data": {
      "image/png": "[encoded data removed]",
      "text/plain": [
       "<Figure size 432x288 with 1 Axes>"
      ]
     },
     "metadata": {},
     "output_type": "display_data"
    }
   ],
   "source": [
    "plt.scatter(y_train, train_pred, c='w', edgecolors='b')\n",
    "plt.plot(y_train, y_train, c='r')\n",
    "plt.xlabel(f\"Actual House Price\")\n",
    "plt.ylabel(f\"Predicted House Price\")\n",
    "plt.savefig(\"Training Regression Calibration Plot.png\", dpi=300)\n",
    "plt.show()"
   ]
  },
  {
   "cell_type": "code",
   "execution_count": null,
   "metadata": {
    "id": "XwQtRgRtJZYu"
   },
   "outputs": [],
   "source": [
    "test_data = np.array([0.55,\t0.183673,\t0.923261,\t0.215385,\t-0.427413,\t0.074450,\t-0.108367,\t0.8125,\t0.494253,\t-0.006187,\t-0.006187,\t0.4, 0.0,\t1.0,\t-1.726204,\t-1.107412,\t-0.742096,\t0.573321,\t-1.007371,\t0.25,\t1.0,\t0.0,\t0.0,\t0.0])"
   ]
  },
  {
   "cell_type": "code",
   "execution_count": null,
   "metadata": {
    "colab": {
     "base_uri": "https://localhost:8080/"
    },
    "id": "sHfh1XJCKdkE",
    "outputId": "7b3743cc-c222-4ea0-ace2-58dbf4330d95"
   },
   "outputs": [
    {
     "name": "stderr",
     "output_type": "stream",
     "text": [
      "/usr/local/lib/python3.7/dist-packages/sklearn/base.py:446: UserWarning: X does not have valid feature names, but RandomForestRegressor was fitted with feature names\n",
      "  \"X does not have valid feature names, but\"\n"
     ]
    },
    {
     "data": {
      "text/plain": [
       "array([205523.91960618])"
      ]
     },
     "execution_count": 17,
     "metadata": {},
     "output_type": "execute_result"
    }
   ],
   "source": [
    "rf_model.predict([test_data])"
   ]
  },
  {
   "cell_type": "code",
   "execution_count": null,
   "metadata": {
    "id": "SRZgW4ersT4D"
   },
   "outputs": [],
   "source": [
    "X_train"
   ]
  },
  {
   "cell_type": "code",
   "execution_count": null,
   "metadata": {
    "colab": {
     "base_uri": "https://localhost:8080/",
     "height": 320
    },
    "id": "rKCpp7x3r-Ye",
    "outputId": "869db7c2-e5a7-48ce-950a-2694b8a86fc8"
   },
   "outputs": [
    {
     "data": {
      "text/html": [
       "<div>\n",
       "<style scoped>\n",
       "    .dataframe tbody tr th:only-of-type {\n",
       "        vertical-align: middle;\n",
       "    }\n",
       "\n",
       "    .dataframe tbody tr th {\n",
       "        vertical-align: top;\n",
       "    }\n",
       "\n",
       "    .dataframe thead th {\n",
       "        text-align: right;\n",
       "    }\n",
       "</style>\n",
       "<table border=\"1\" class=\"dataframe\">\n",
       "  <thead>\n",
       "    <tr style=\"text-align: right;\">\n",
       "      <th></th>\n",
       "      <th>city</th>\n",
       "      <th>state</th>\n",
       "      <th>street</th>\n",
       "      <th>streetSuffix</th>\n",
       "      <th>zip</th>\n",
       "      <th>latitude</th>\n",
       "      <th>longitude</th>\n",
       "      <th>landUseDescription</th>\n",
       "      <th>zoningDescription</th>\n",
       "      <th>lotSizeAcres</th>\n",
       "      <th>lotSizeSquareFeet</th>\n",
       "      <th>lotTopography</th>\n",
       "      <th>condition</th>\n",
       "      <th>architecturalStyle</th>\n",
       "      <th>yearBuilt</th>\n",
       "      <th>totalStories</th>\n",
       "      <th>totalRooms</th>\n",
       "      <th>bedrooms</th>\n",
       "      <th>baths</th>\n",
       "      <th>heating</th>\n",
       "      <th>airConditioning</th>\n",
       "      <th>foundation</th>\n",
       "      <th>fireplace</th>\n",
       "      <th>soldYear</th>\n",
       "    </tr>\n",
       "  </thead>\n",
       "  <tbody>\n",
       "    <tr>\n",
       "      <th>count</th>\n",
       "      <td>175238.000000</td>\n",
       "      <td>1.752380e+05</td>\n",
       "      <td>175238.000000</td>\n",
       "      <td>175238.000000</td>\n",
       "      <td>175238.000000</td>\n",
       "      <td>175238.000000</td>\n",
       "      <td>175238.000000</td>\n",
       "      <td>175238.000000</td>\n",
       "      <td>175238.000000</td>\n",
       "      <td>175238.000000</td>\n",
       "      <td>175238.000000</td>\n",
       "      <td>175238.000000</td>\n",
       "      <td>175238.000000</td>\n",
       "      <td>175238.000000</td>\n",
       "      <td>175238.000000</td>\n",
       "      <td>175238.000000</td>\n",
       "      <td>175238.000000</td>\n",
       "      <td>175238.000000</td>\n",
       "      <td>175238.000000</td>\n",
       "      <td>175238.000000</td>\n",
       "      <td>175238.000000</td>\n",
       "      <td>175238.000000</td>\n",
       "      <td>175238.000000</td>\n",
       "      <td>175238.0</td>\n",
       "    </tr>\n",
       "    <tr>\n",
       "      <th>mean</th>\n",
       "      <td>0.534695</td>\n",
       "      <td>1.836735e-01</td>\n",
       "      <td>0.506699</td>\n",
       "      <td>0.467890</td>\n",
       "      <td>0.000181</td>\n",
       "      <td>0.001602</td>\n",
       "      <td>-0.001661</td>\n",
       "      <td>0.785474</td>\n",
       "      <td>0.633066</td>\n",
       "      <td>0.000104</td>\n",
       "      <td>0.000104</td>\n",
       "      <td>0.232111</td>\n",
       "      <td>0.077981</td>\n",
       "      <td>0.519128</td>\n",
       "      <td>0.000524</td>\n",
       "      <td>0.001784</td>\n",
       "      <td>0.000770</td>\n",
       "      <td>0.000452</td>\n",
       "      <td>0.000517</td>\n",
       "      <td>0.252962</td>\n",
       "      <td>0.999698</td>\n",
       "      <td>0.825004</td>\n",
       "      <td>0.077495</td>\n",
       "      <td>0.0</td>\n",
       "    </tr>\n",
       "    <tr>\n",
       "      <th>std</th>\n",
       "      <td>0.235449</td>\n",
       "      <td>7.212029e-13</td>\n",
       "      <td>0.287890</td>\n",
       "      <td>0.295523</td>\n",
       "      <td>0.999996</td>\n",
       "      <td>0.991638</td>\n",
       "      <td>0.991642</td>\n",
       "      <td>0.130258</td>\n",
       "      <td>0.180382</td>\n",
       "      <td>1.024737</td>\n",
       "      <td>1.024737</td>\n",
       "      <td>0.198763</td>\n",
       "      <td>0.225275</td>\n",
       "      <td>0.211760</td>\n",
       "      <td>1.001982</td>\n",
       "      <td>1.000330</td>\n",
       "      <td>0.999984</td>\n",
       "      <td>1.000720</td>\n",
       "      <td>1.002584</td>\n",
       "      <td>0.047618</td>\n",
       "      <td>0.017388</td>\n",
       "      <td>0.379965</td>\n",
       "      <td>0.267375</td>\n",
       "      <td>0.0</td>\n",
       "    </tr>\n",
       "    <tr>\n",
       "      <th>min</th>\n",
       "      <td>0.000000</td>\n",
       "      <td>1.836735e-01</td>\n",
       "      <td>0.000000</td>\n",
       "      <td>0.000000</td>\n",
       "      <td>-0.650884</td>\n",
       "      <td>-10.080057</td>\n",
       "      <td>-0.127743</td>\n",
       "      <td>0.000000</td>\n",
       "      <td>0.000000</td>\n",
       "      <td>-0.417250</td>\n",
       "      <td>-0.417250</td>\n",
       "      <td>0.000000</td>\n",
       "      <td>0.000000</td>\n",
       "      <td>0.000000</td>\n",
       "      <td>-14.395072</td>\n",
       "      <td>-1.107410</td>\n",
       "      <td>-3.411773</td>\n",
       "      <td>-3.214926</td>\n",
       "      <td>-2.171168</td>\n",
       "      <td>0.000000</td>\n",
       "      <td>0.000000</td>\n",
       "      <td>0.000000</td>\n",
       "      <td>0.000000</td>\n",
       "      <td>0.0</td>\n",
       "    </tr>\n",
       "    <tr>\n",
       "      <th>25%</th>\n",
       "      <td>0.350000</td>\n",
       "      <td>1.836735e-01</td>\n",
       "      <td>0.257903</td>\n",
       "      <td>0.246154</td>\n",
       "      <td>-0.452252</td>\n",
       "      <td>0.079255</td>\n",
       "      <td>-0.106842</td>\n",
       "      <td>0.812500</td>\n",
       "      <td>0.494253</td>\n",
       "      <td>-0.243688</td>\n",
       "      <td>-0.243688</td>\n",
       "      <td>0.000000</td>\n",
       "      <td>0.000000</td>\n",
       "      <td>0.400000</td>\n",
       "      <td>-0.689085</td>\n",
       "      <td>-1.107410</td>\n",
       "      <td>-0.742079</td>\n",
       "      <td>-0.689433</td>\n",
       "      <td>-1.007367</td>\n",
       "      <td>0.250000</td>\n",
       "      <td>1.000000</td>\n",
       "      <td>1.000000</td>\n",
       "      <td>0.000000</td>\n",
       "      <td>0.0</td>\n",
       "    </tr>\n",
       "    <tr>\n",
       "      <th>50%</th>\n",
       "      <td>0.500000</td>\n",
       "      <td>1.836735e-01</td>\n",
       "      <td>0.516460</td>\n",
       "      <td>0.246154</td>\n",
       "      <td>-0.427423</td>\n",
       "      <td>0.096606</td>\n",
       "      <td>-0.098788</td>\n",
       "      <td>0.812500</td>\n",
       "      <td>0.528736</td>\n",
       "      <td>-0.134070</td>\n",
       "      <td>-0.134070</td>\n",
       "      <td>0.200000</td>\n",
       "      <td>0.000000</td>\n",
       "      <td>0.400000</td>\n",
       "      <td>0.125866</td>\n",
       "      <td>0.876433</td>\n",
       "      <td>-0.208140</td>\n",
       "      <td>-0.689433</td>\n",
       "      <td>0.156434</td>\n",
       "      <td>0.250000</td>\n",
       "      <td>1.000000</td>\n",
       "      <td>1.000000</td>\n",
       "      <td>0.000000</td>\n",
       "      <td>0.0</td>\n",
       "    </tr>\n",
       "    <tr>\n",
       "      <th>75%</th>\n",
       "      <td>0.700000</td>\n",
       "      <td>1.836735e-01</td>\n",
       "      <td>0.746784</td>\n",
       "      <td>0.738462</td>\n",
       "      <td>-0.141889</td>\n",
       "      <td>0.117668</td>\n",
       "      <td>-0.090063</td>\n",
       "      <td>0.812500</td>\n",
       "      <td>0.724138</td>\n",
       "      <td>0.012088</td>\n",
       "      <td>0.012088</td>\n",
       "      <td>0.400000</td>\n",
       "      <td>0.000000</td>\n",
       "      <td>0.800000</td>\n",
       "      <td>0.718557</td>\n",
       "      <td>0.876433</td>\n",
       "      <td>0.325799</td>\n",
       "      <td>0.573313</td>\n",
       "      <td>0.156434</td>\n",
       "      <td>0.250000</td>\n",
       "      <td>1.000000</td>\n",
       "      <td>1.000000</td>\n",
       "      <td>0.000000</td>\n",
       "      <td>0.0</td>\n",
       "    </tr>\n",
       "    <tr>\n",
       "      <th>max</th>\n",
       "      <td>1.000000</td>\n",
       "      <td>1.836735e-01</td>\n",
       "      <td>1.000000</td>\n",
       "      <td>1.000000</td>\n",
       "      <td>3.129332</td>\n",
       "      <td>0.161612</td>\n",
       "      <td>10.082796</td>\n",
       "      <td>1.000000</td>\n",
       "      <td>1.000000</td>\n",
       "      <td>123.031199</td>\n",
       "      <td>123.031195</td>\n",
       "      <td>1.000000</td>\n",
       "      <td>1.000000</td>\n",
       "      <td>1.000000</td>\n",
       "      <td>1.829853</td>\n",
       "      <td>4.844118</td>\n",
       "      <td>6.733064</td>\n",
       "      <td>10.675285</td>\n",
       "      <td>11.794444</td>\n",
       "      <td>1.000000</td>\n",
       "      <td>1.000000</td>\n",
       "      <td>1.000000</td>\n",
       "      <td>1.000000</td>\n",
       "      <td>0.0</td>\n",
       "    </tr>\n",
       "  </tbody>\n",
       "</table>\n",
       "</div>"
      ],
      "text/plain": [
       "                city         state  ...      fireplace  soldYear\n",
       "count  175238.000000  1.752380e+05  ...  175238.000000  175238.0\n",
       "mean        0.534695  1.836735e-01  ...       0.077495       0.0\n",
       "std         0.235449  7.212029e-13  ...       0.267375       0.0\n",
       "min         0.000000  1.836735e-01  ...       0.000000       0.0\n",
       "25%         0.350000  1.836735e-01  ...       0.000000       0.0\n",
       "50%         0.500000  1.836735e-01  ...       0.000000       0.0\n",
       "75%         0.700000  1.836735e-01  ...       0.000000       0.0\n",
       "max         1.000000  1.836735e-01  ...       1.000000       0.0\n",
       "\n",
       "[8 rows x 24 columns]"
      ]
     },
     "execution_count": 65,
     "metadata": {},
     "output_type": "execute_result"
    }
   ],
   "source": [
    "X_train.describe()"
   ]
  },
  {
   "cell_type": "code",
   "execution_count": null,
   "metadata": {
    "id": "KfoHKFW0Mbm5"
   },
   "outputs": [],
   "source": [
    "for i in range(20):\n",
    "  test_data = X_val.iloc[i]\n",
    "  pred = rf_model.predict([test_data])\n",
    "  print(pred)\n",
    "  print(f\"{y_val.iloc[i]}\\n\")"
   ]
  },
  {
   "cell_type": "code",
   "execution_count": null,
   "metadata": {
    "colab": {
     "base_uri": "https://localhost:8080/"
    },
    "id": "NdtIbPrgKiIs",
    "outputId": "4355a1fe-004a-4276-a654-cb006df0a5aa"
   },
   "outputs": [
    {
     "name": "stdout",
     "output_type": "stream",
     "text": [
      "city                  0.500000\n",
      "state                 0.183673\n",
      "street                0.648354\n",
      "streetSuffix          0.246154\n",
      "zip                  -0.433630\n",
      "latitude              0.095833\n",
      "longitude            -0.089506\n",
      "landUseDescription    0.812500\n",
      "zoningDescription     0.908046\n",
      "lotSizeAcres         -0.106665\n",
      "lotSizeSquareFeet    -0.106665\n",
      "lotTopography         0.200000\n",
      "condition             0.000000\n",
      "architecturalStyle    0.400000\n",
      "yearBuilt             0.718557\n",
      "totalStories          0.876433\n",
      "totalRooms            0.325799\n",
      "bedrooms              0.573313\n",
      "baths                 0.156434\n",
      "heating               0.250000\n",
      "airConditioning       1.000000\n",
      "foundation            1.000000\n",
      "fireplace             0.000000\n",
      "soldYear              0.000000\n",
      "Name: 156096, dtype: float64\n"
     ]
    }
   ],
   "source": [
    "test_data = X_val.iloc[9]\n",
    "print(test_data)"
   ]
  },
  {
   "cell_type": "code",
   "execution_count": null,
   "metadata": {
    "colab": {
     "base_uri": "https://localhost:8080/"
    },
    "id": "TnQXOGC6LrYV",
    "outputId": "f237ed42-b903-4384-875f-bd1cf5b506ac"
   },
   "outputs": [
    {
     "name": "stdout",
     "output_type": "stream",
     "text": [
      "307300\n"
     ]
    }
   ],
   "source": [
    "test_label = y_val.iloc[5]\n",
    "print(test_label)"
   ]
  },
  {
   "cell_type": "code",
   "execution_count": null,
   "metadata": {
    "id": "iS7c9iu0ddO8"
   },
   "outputs": [],
   "source": [
    "import json\n",
    "\n",
    "file_path = \"/content/drive/MyDrive/Software Engg Regression Analysis/Manish New Data/encodings_database.json\"\n",
    "file = open(file_path, \"r\")\n",
    "encodings_database = json.load(file)"
   ]
  },
  {
   "cell_type": "code",
   "execution_count": null,
   "metadata": {
    "id": "VJxNOYY4I0pg"
   },
   "outputs": [],
   "source": [
    "test_data = pd.read_csv(\"/content/drive/MyDrive/Software Engg Regression Analysis/Manish New Data/test_data.csv\")"
   ]
  },
  {
   "cell_type": "code",
   "execution_count": null,
   "metadata": {
    "id": "DOTxdyrjI1ZY"
   },
   "outputs": [],
   "source": [
    "user_data = test_data.iloc[:1, :]"
   ]
  },
  {
   "cell_type": "code",
   "execution_count": null,
   "metadata": {
    "colab": {
     "base_uri": "https://localhost:8080/",
     "height": 118
    },
    "id": "MiGTu7VsUT25",
    "outputId": "1fbaebc3-47ef-44e6-c6ce-d9dcdc140818"
   },
   "outputs": [
    {
     "data": {
      "text/html": [
       "<div>\n",
       "<style scoped>\n",
       "    .dataframe tbody tr th:only-of-type {\n",
       "        vertical-align: middle;\n",
       "    }\n",
       "\n",
       "    .dataframe tbody tr th {\n",
       "        vertical-align: top;\n",
       "    }\n",
       "\n",
       "    .dataframe thead th {\n",
       "        text-align: right;\n",
       "    }\n",
       "</style>\n",
       "<table border=\"1\" class=\"dataframe\">\n",
       "  <thead>\n",
       "    <tr style=\"text-align: right;\">\n",
       "      <th></th>\n",
       "      <th>city</th>\n",
       "      <th>state</th>\n",
       "      <th>street</th>\n",
       "      <th>streetSuffix</th>\n",
       "      <th>zip</th>\n",
       "      <th>latitude</th>\n",
       "      <th>longitude</th>\n",
       "      <th>landUseDescription</th>\n",
       "      <th>zoningDescription</th>\n",
       "      <th>lotSizeAcres</th>\n",
       "      <th>lotSizeSquareFeet</th>\n",
       "      <th>lotTopography</th>\n",
       "      <th>condition</th>\n",
       "      <th>architecturalStyle</th>\n",
       "      <th>yearBuilt</th>\n",
       "      <th>totalStories</th>\n",
       "      <th>totalRooms</th>\n",
       "      <th>bedrooms</th>\n",
       "      <th>baths</th>\n",
       "      <th>heating</th>\n",
       "      <th>airConditioning</th>\n",
       "      <th>foundation</th>\n",
       "      <th>fireplace</th>\n",
       "      <th>soldYear</th>\n",
       "      <th>housePrice</th>\n",
       "    </tr>\n",
       "  </thead>\n",
       "  <tbody>\n",
       "    <tr>\n",
       "      <th>0</th>\n",
       "      <td>Lilburn</td>\n",
       "      <td>GA</td>\n",
       "      <td>Village Green</td>\n",
       "      <td>Ct</td>\n",
       "      <td>30047</td>\n",
       "      <td>33.873543</td>\n",
       "      <td>-84.117197</td>\n",
       "      <td>Single Family Residential</td>\n",
       "      <td>R100-Single Family Residence</td>\n",
       "      <td>0.46</td>\n",
       "      <td>20037.6</td>\n",
       "      <td>Low Elevation</td>\n",
       "      <td>Average</td>\n",
       "      <td>Ranch/Rambler</td>\n",
       "      <td>1971</td>\n",
       "      <td>1</td>\n",
       "      <td>6</td>\n",
       "      <td>4</td>\n",
       "      <td>2</td>\n",
       "      <td>Forced air</td>\n",
       "      <td>Yes</td>\n",
       "      <td>Crawl Space/Raised</td>\n",
       "      <td>Masonry</td>\n",
       "      <td>2021</td>\n",
       "      <td>200300</td>\n",
       "    </tr>\n",
       "  </tbody>\n",
       "</table>\n",
       "</div>"
      ],
      "text/plain": [
       "      city state         street  ... fireplace  soldYear  housePrice\n",
       "0  Lilburn    GA  Village Green  ...   Masonry      2021      200300\n",
       "\n",
       "[1 rows x 25 columns]"
      ]
     },
     "execution_count": 26,
     "metadata": {},
     "output_type": "execute_result"
    }
   ],
   "source": [
    "user_data"
   ]
  },
  {
   "cell_type": "code",
   "execution_count": null,
   "metadata": {
    "id": "JmB5HxXjIe5h"
   },
   "outputs": [],
   "source": [
    "categorical_cols = [\"city\", \"state\", \"street\", \"streetSuffix\", \"landUseDescription\", \"zoningDescription\", \"lotTopography\", \"architecturalStyle\", \"condition\", \"heating\", \"airConditioning\",\t\"foundation\", \"fireplace\"]\n",
    "numerical_cols = [\"zip\", \"latitude\", \"longitude\", \"lotSizeAcres\",\t\"lotSizeSquareFeet\",\t\"yearBuilt\",\t\"totalStories\",\t\"totalRooms\",\t\"bedrooms\",\t\"baths\", \"soldYear\"]"
   ]
  },
  {
   "cell_type": "code",
   "execution_count": null,
   "metadata": {
    "colab": {
     "base_uri": "https://localhost:8080/"
    },
    "id": "GbB1sI9yUPpH",
    "outputId": "7f77f39e-59a0-423a-ec73-28e1dbac2850"
   },
   "outputs": [
    {
     "data": {
      "text/plain": [
       "0    Lilburn\n",
       "Name: city, dtype: object"
      ]
     },
     "execution_count": 28,
     "metadata": {},
     "output_type": "execute_result"
    }
   ],
   "source": [
    "user_data[\"city\"]"
   ]
  },
  {
   "cell_type": "code",
   "execution_count": null,
   "metadata": {
    "colab": {
     "base_uri": "https://localhost:8080/"
    },
    "id": "2IY_IoCygvfe",
    "outputId": "b44c2a81-f47d-412e-cfe4-ae1324dcf321"
   },
   "outputs": [
    {
     "name": "stderr",
     "output_type": "stream",
     "text": [
      "/usr/local/lib/python3.7/dist-packages/ipykernel_launcher.py:2: SettingWithCopyWarning: \n",
      "A value is trying to be set on a copy of a slice from a DataFrame.\n",
      "Try using .loc[row_indexer,col_indexer] = value instead\n",
      "\n",
      "See the caveats in the documentation: https://pandas.pydata.org/pandas-docs/stable/user_guide/indexing.html#returning-a-view-versus-a-copy\n",
      "  \n"
     ]
    }
   ],
   "source": [
    "for i, name in enumerate(categorical_cols):\n",
    "  user_data[name] = encodings_database[name][user_data[name].values[0].lower()]"
   ]
  },
  {
   "cell_type": "code",
   "execution_count": null,
   "metadata": {
    "colab": {
     "base_uri": "https://localhost:8080/",
     "height": 101
    },
    "id": "XdeUUPfHcVyi",
    "outputId": "dd69d29e-7d4f-4dc6-8943-eccd371018e8"
   },
   "outputs": [
    {
     "data": {
      "text/html": [
       "<div>\n",
       "<style scoped>\n",
       "    .dataframe tbody tr th:only-of-type {\n",
       "        vertical-align: middle;\n",
       "    }\n",
       "\n",
       "    .dataframe tbody tr th {\n",
       "        vertical-align: top;\n",
       "    }\n",
       "\n",
       "    .dataframe thead th {\n",
       "        text-align: right;\n",
       "    }\n",
       "</style>\n",
       "<table border=\"1\" class=\"dataframe\">\n",
       "  <thead>\n",
       "    <tr style=\"text-align: right;\">\n",
       "      <th></th>\n",
       "      <th>city</th>\n",
       "      <th>state</th>\n",
       "      <th>street</th>\n",
       "      <th>streetSuffix</th>\n",
       "      <th>zip</th>\n",
       "      <th>latitude</th>\n",
       "      <th>longitude</th>\n",
       "      <th>landUseDescription</th>\n",
       "      <th>zoningDescription</th>\n",
       "      <th>lotSizeAcres</th>\n",
       "      <th>lotSizeSquareFeet</th>\n",
       "      <th>lotTopography</th>\n",
       "      <th>condition</th>\n",
       "      <th>architecturalStyle</th>\n",
       "      <th>yearBuilt</th>\n",
       "      <th>totalStories</th>\n",
       "      <th>totalRooms</th>\n",
       "      <th>bedrooms</th>\n",
       "      <th>baths</th>\n",
       "      <th>heating</th>\n",
       "      <th>airConditioning</th>\n",
       "      <th>foundation</th>\n",
       "      <th>fireplace</th>\n",
       "      <th>soldYear</th>\n",
       "      <th>housePrice</th>\n",
       "    </tr>\n",
       "  </thead>\n",
       "  <tbody>\n",
       "    <tr>\n",
       "      <th>0</th>\n",
       "      <td>11</td>\n",
       "      <td>9</td>\n",
       "      <td>8470</td>\n",
       "      <td>14</td>\n",
       "      <td>30047</td>\n",
       "      <td>33.873543</td>\n",
       "      <td>-84.117197</td>\n",
       "      <td>13</td>\n",
       "      <td>43</td>\n",
       "      <td>0.46</td>\n",
       "      <td>20037.6</td>\n",
       "      <td>2</td>\n",
       "      <td>0</td>\n",
       "      <td>5</td>\n",
       "      <td>1971</td>\n",
       "      <td>1</td>\n",
       "      <td>6</td>\n",
       "      <td>4</td>\n",
       "      <td>2</td>\n",
       "      <td>1</td>\n",
       "      <td>1</td>\n",
       "      <td>0</td>\n",
       "      <td>0</td>\n",
       "      <td>2021</td>\n",
       "      <td>200300</td>\n",
       "    </tr>\n",
       "  </tbody>\n",
       "</table>\n",
       "</div>"
      ],
      "text/plain": [
       "   city  state  street  ...  fireplace  soldYear  housePrice\n",
       "0    11      9    8470  ...          0      2021      200300\n",
       "\n",
       "[1 rows x 25 columns]"
      ]
     },
     "execution_count": 30,
     "metadata": {},
     "output_type": "execute_result"
    }
   ],
   "source": [
    "user_data"
   ]
  },
  {
   "cell_type": "markdown",
   "metadata": {
    "id": "t7hEE4YtFVZU"
   },
   "source": [
    "We simluate the integration with frontend, assuming that the user data is present in the CSV file."
   ]
  },
  {
   "cell_type": "code",
   "execution_count": null,
   "metadata": {
    "id": "PTVu4CEVFBla"
   },
   "outputs": [],
   "source": [
    "filename = \"/content/drive/MyDrive/Software Engg Regression Analysis/Manish New Data/minMaxScalar.joblib\"\n",
    "minMaxScalar = load(filename)"
   ]
  },
  {
   "cell_type": "code",
   "execution_count": null,
   "metadata": {
    "colab": {
     "base_uri": "https://localhost:8080/"
    },
    "id": "xFWwiueVanbY",
    "outputId": "ef06a1e2-74b4-423e-ab26-c6c4db1d5c0e"
   },
   "outputs": [
    {
     "data": {
      "text/plain": [
       "['city',\n",
       " 'state',\n",
       " 'street',\n",
       " 'streetSuffix',\n",
       " 'landUseDescription',\n",
       " 'zoningDescription',\n",
       " 'lotTopography',\n",
       " 'architecturalStyle',\n",
       " 'condition',\n",
       " 'heating',\n",
       " 'airConditioning',\n",
       " 'foundation',\n",
       " 'fireplace']"
      ]
     },
     "execution_count": 32,
     "metadata": {},
     "output_type": "execute_result"
    }
   ],
   "source": [
    "categorical_cols"
   ]
  },
  {
   "cell_type": "code",
   "execution_count": null,
   "metadata": {
    "id": "W8BWAq0acBTY"
   },
   "outputs": [],
   "source": [
    "user_data = user_data.apply(pd.to_numeric, errors=\"coerce\")"
   ]
  },
  {
   "cell_type": "code",
   "execution_count": null,
   "metadata": {
    "id": "tyq4W-q8GOAK"
   },
   "outputs": [],
   "source": [
    "# NORMALIZATION:\n",
    "# Now we will be using MinMax Scalar for the Categorical Features\n",
    "categorical_cols.remove(\"state\")\n",
    "categorical_data = user_data[categorical_cols]\n",
    "\n",
    "user_data[categorical_cols] = minMaxScalar.transform(categorical_data)"
   ]
  },
  {
   "cell_type": "code",
   "execution_count": null,
   "metadata": {
    "id": "TK_T1_UZeLnp"
   },
   "outputs": [],
   "source": [
    "user_data[\"state\"] = user_data[\"state\"]/49  # For state: Min: 0, Max: 49"
   ]
  },
  {
   "cell_type": "code",
   "execution_count": null,
   "metadata": {
    "colab": {
     "base_uri": "https://localhost:8080/",
     "height": 101
    },
    "id": "ZiITOWsZeNlh",
    "outputId": "38bab4d5-9e20-41f7-bcab-39dc7cb45254"
   },
   "outputs": [
    {
     "data": {
      "text/html": [
       "<div>\n",
       "<style scoped>\n",
       "    .dataframe tbody tr th:only-of-type {\n",
       "        vertical-align: middle;\n",
       "    }\n",
       "\n",
       "    .dataframe tbody tr th {\n",
       "        vertical-align: top;\n",
       "    }\n",
       "\n",
       "    .dataframe thead th {\n",
       "        text-align: right;\n",
       "    }\n",
       "</style>\n",
       "<table border=\"1\" class=\"dataframe\">\n",
       "  <thead>\n",
       "    <tr style=\"text-align: right;\">\n",
       "      <th></th>\n",
       "      <th>city</th>\n",
       "      <th>state</th>\n",
       "      <th>street</th>\n",
       "      <th>streetSuffix</th>\n",
       "      <th>zip</th>\n",
       "      <th>latitude</th>\n",
       "      <th>longitude</th>\n",
       "      <th>landUseDescription</th>\n",
       "      <th>zoningDescription</th>\n",
       "      <th>lotSizeAcres</th>\n",
       "      <th>lotSizeSquareFeet</th>\n",
       "      <th>lotTopography</th>\n",
       "      <th>condition</th>\n",
       "      <th>architecturalStyle</th>\n",
       "      <th>yearBuilt</th>\n",
       "      <th>totalStories</th>\n",
       "      <th>totalRooms</th>\n",
       "      <th>bedrooms</th>\n",
       "      <th>baths</th>\n",
       "      <th>heating</th>\n",
       "      <th>airConditioning</th>\n",
       "      <th>foundation</th>\n",
       "      <th>fireplace</th>\n",
       "      <th>soldYear</th>\n",
       "      <th>housePrice</th>\n",
       "    </tr>\n",
       "  </thead>\n",
       "  <tbody>\n",
       "    <tr>\n",
       "      <th>0</th>\n",
       "      <td>0.55</td>\n",
       "      <td>0.183673</td>\n",
       "      <td>0.923261</td>\n",
       "      <td>0.215385</td>\n",
       "      <td>30047</td>\n",
       "      <td>33.873543</td>\n",
       "      <td>-84.117197</td>\n",
       "      <td>0.8125</td>\n",
       "      <td>0.494253</td>\n",
       "      <td>0.46</td>\n",
       "      <td>20037.6</td>\n",
       "      <td>0.4</td>\n",
       "      <td>0.0</td>\n",
       "      <td>1.0</td>\n",
       "      <td>1971</td>\n",
       "      <td>1</td>\n",
       "      <td>6</td>\n",
       "      <td>4</td>\n",
       "      <td>2</td>\n",
       "      <td>0.25</td>\n",
       "      <td>1.0</td>\n",
       "      <td>0.0</td>\n",
       "      <td>0.0</td>\n",
       "      <td>2021</td>\n",
       "      <td>200300</td>\n",
       "    </tr>\n",
       "  </tbody>\n",
       "</table>\n",
       "</div>"
      ],
      "text/plain": [
       "   city     state    street  ...  fireplace  soldYear  housePrice\n",
       "0  0.55  0.183673  0.923261  ...        0.0      2021      200300\n",
       "\n",
       "[1 rows x 25 columns]"
      ]
     },
     "execution_count": 36,
     "metadata": {},
     "output_type": "execute_result"
    }
   ],
   "source": [
    "user_data"
   ]
  },
  {
   "cell_type": "code",
   "execution_count": null,
   "metadata": {
    "id": "GA0L-pw-eSbq"
   },
   "outputs": [],
   "source": [
    "filename = \"/content/drive/MyDrive/Software Engg Regression Analysis/Manish New Data/standardScalar.joblib\"\n",
    "standardScalar = load(filename)"
   ]
  },
  {
   "cell_type": "code",
   "execution_count": null,
   "metadata": {
    "id": "N3Nf-omreYJp"
   },
   "outputs": [],
   "source": [
    "numerical_data = user_data[numerical_cols]\n",
    "\n",
    "user_data[numerical_cols] = standardScalar.transform(numerical_data)"
   ]
  },
  {
   "cell_type": "code",
   "execution_count": null,
   "metadata": {
    "colab": {
     "base_uri": "https://localhost:8080/",
     "height": 101
    },
    "id": "qPFwWIQn4hZZ",
    "outputId": "bd364515-5f8f-4d7b-8641-afaa9ad7477c"
   },
   "outputs": [
    {
     "data": {
      "text/html": [
       "<div>\n",
       "<style scoped>\n",
       "    .dataframe tbody tr th:only-of-type {\n",
       "        vertical-align: middle;\n",
       "    }\n",
       "\n",
       "    .dataframe tbody tr th {\n",
       "        vertical-align: top;\n",
       "    }\n",
       "\n",
       "    .dataframe thead th {\n",
       "        text-align: right;\n",
       "    }\n",
       "</style>\n",
       "<table border=\"1\" class=\"dataframe\">\n",
       "  <thead>\n",
       "    <tr style=\"text-align: right;\">\n",
       "      <th></th>\n",
       "      <th>city</th>\n",
       "      <th>state</th>\n",
       "      <th>street</th>\n",
       "      <th>streetSuffix</th>\n",
       "      <th>zip</th>\n",
       "      <th>latitude</th>\n",
       "      <th>longitude</th>\n",
       "      <th>landUseDescription</th>\n",
       "      <th>zoningDescription</th>\n",
       "      <th>lotSizeAcres</th>\n",
       "      <th>lotSizeSquareFeet</th>\n",
       "      <th>lotTopography</th>\n",
       "      <th>condition</th>\n",
       "      <th>architecturalStyle</th>\n",
       "      <th>yearBuilt</th>\n",
       "      <th>totalStories</th>\n",
       "      <th>totalRooms</th>\n",
       "      <th>bedrooms</th>\n",
       "      <th>baths</th>\n",
       "      <th>heating</th>\n",
       "      <th>airConditioning</th>\n",
       "      <th>foundation</th>\n",
       "      <th>fireplace</th>\n",
       "      <th>soldYear</th>\n",
       "      <th>housePrice</th>\n",
       "    </tr>\n",
       "  </thead>\n",
       "  <tbody>\n",
       "    <tr>\n",
       "      <th>0</th>\n",
       "      <td>0.55</td>\n",
       "      <td>0.183673</td>\n",
       "      <td>0.923261</td>\n",
       "      <td>0.215385</td>\n",
       "      <td>-0.427423</td>\n",
       "      <td>0.074451</td>\n",
       "      <td>-0.10837</td>\n",
       "      <td>0.8125</td>\n",
       "      <td>0.494253</td>\n",
       "      <td>-0.006182</td>\n",
       "      <td>-0.006182</td>\n",
       "      <td>0.4</td>\n",
       "      <td>0.0</td>\n",
       "      <td>1.0</td>\n",
       "      <td>-1.726295</td>\n",
       "      <td>-1.10741</td>\n",
       "      <td>-0.742079</td>\n",
       "      <td>0.573313</td>\n",
       "      <td>-1.007367</td>\n",
       "      <td>0.25</td>\n",
       "      <td>1.0</td>\n",
       "      <td>0.0</td>\n",
       "      <td>0.0</td>\n",
       "      <td>0.0</td>\n",
       "      <td>200300</td>\n",
       "    </tr>\n",
       "  </tbody>\n",
       "</table>\n",
       "</div>"
      ],
      "text/plain": [
       "   city     state    street  ...  fireplace  soldYear  housePrice\n",
       "0  0.55  0.183673  0.923261  ...        0.0       0.0      200300\n",
       "\n",
       "[1 rows x 25 columns]"
      ]
     },
     "execution_count": 39,
     "metadata": {},
     "output_type": "execute_result"
    }
   ],
   "source": [
    "user_data"
   ]
  },
  {
   "cell_type": "code",
   "execution_count": null,
   "metadata": {
    "id": "00wd78Hs4ydT"
   },
   "outputs": [],
   "source": [
    "user_data = user_data.drop(columns=\"housePrice\")"
   ]
  },
  {
   "cell_type": "code",
   "execution_count": null,
   "metadata": {
    "colab": {
     "base_uri": "https://localhost:8080/"
    },
    "id": "xAaiwcfzN56_",
    "outputId": "93d25657-549e-4880-e5a4-561a6ec521c5"
   },
   "outputs": [
    {
     "data": {
      "text/plain": [
       "array([[ 0.55      ,  0.18367347,  0.92326139,  0.21538462, -0.42742254,\n",
       "         0.07445148, -0.1083703 ,  0.8125    ,  0.49425287, -0.00618169,\n",
       "        -0.0061816 ,  0.4       ,  0.        ,  1.        , -1.72629479,\n",
       "        -1.10740983, -0.74207897,  0.57331305, -1.00736676,  0.25      ,\n",
       "         1.        ,  0.        ,  0.        ,  0.        ]])"
      ]
     },
     "execution_count": 41,
     "metadata": {},
     "output_type": "execute_result"
    }
   ],
   "source": [
    "user_data.values"
   ]
  },
  {
   "cell_type": "code",
   "execution_count": null,
   "metadata": {
    "colab": {
     "base_uri": "https://localhost:8080/"
    },
    "id": "2mVepRW1M3mO",
    "outputId": "779ffa37-7614-4f5e-881c-1e784fd8f287"
   },
   "outputs": [
    {
     "name": "stderr",
     "output_type": "stream",
     "text": [
      "/usr/local/lib/python3.7/dist-packages/sklearn/base.py:446: UserWarning: X does not have valid feature names, but RandomForestRegressor was fitted with feature names\n",
      "  \"X does not have valid feature names, but\"\n"
     ]
    },
    {
     "data": {
      "text/plain": [
       "array([205523.91960618])"
      ]
     },
     "execution_count": 42,
     "metadata": {},
     "output_type": "execute_result"
    }
   ],
   "source": [
    "rf_model.predict(user_data.values)"
   ]
  },
  {
   "cell_type": "code",
   "execution_count": null,
   "metadata": {
    "id": "VY5JLrvFcDon"
   },
   "outputs": [],
   "source": [
    "from joblib import dump"
   ]
  },
  {
   "cell_type": "code",
   "execution_count": null,
   "metadata": {
    "colab": {
     "base_uri": "https://localhost:8080/"
    },
    "id": "1jUJ_wdZcHcD",
    "outputId": "9de94d69-9445-41cf-f5be-2628f8e3b9b0"
   },
   "outputs": [
    {
     "data": {
      "text/plain": [
       "['rf_model.joblib']"
      ]
     },
     "execution_count": 66,
     "metadata": {},
     "output_type": "execute_result"
    }
   ],
   "source": [
    "dump(rf_model, \"rf_model.joblib\")"
   ]
  },
  {
   "cell_type": "code",
   "execution_count": null,
   "metadata": {
    "id": "835raWlpcTuA"
   },
   "outputs": [],
   "source": [
    "!cp \"/content/rf_model.joblib\" \"/content/drive/MyDrive/Software Engg Regression Analysis/Final Data and Models/rf_model_97_87_45pruning_factor_27_random_seed.joblib\""
   ]
  }
 ],
 "metadata": {
  "accelerator": "GPU",
  "colab": {
   "collapsed_sections": [],
   "name": "Aashma OnlineLearningKafka.ipynb",
   "provenance": []
  },
  "kernelspec": {
   "display_name": "Python 3",
   "language": "python",
   "name": "python3"
  },
  "language_info": {
   "codemirror_mode": {
    "name": "ipython",
    "version": 3
   },
   "file_extension": ".py",
   "mimetype": "text/x-python",
   "name": "python",
   "nbconvert_exporter": "python",
   "pygments_lexer": "ipython3",
   "version": "3.8.5"
  }
 },
 "nbformat": 4,
 "nbformat_minor": 1
}
