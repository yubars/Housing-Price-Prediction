{
 "cells": [
  {
   "cell_type": "markdown",
   "metadata": {
    "id": "gUur_LoPhL7Y"
   },
   "source": [
    "#Importing Packages"
   ]
  },
  {
   "cell_type": "code",
   "execution_count": 1,
   "metadata": {
    "id": "eLt-88BgZ2ch"
   },
   "outputs": [],
   "source": [
    "import pandas as pd\n",
    "import json\n",
    "from joblib import load\n",
    "\n",
    "import warnings\n",
    "warnings.filterwarnings(\"ignore\")"
   ]
  },
  {
   "cell_type": "markdown",
   "metadata": {
    "id": "la35Tsz4hSmX"
   },
   "source": [
    "#Loading and Pre-processing Data"
   ]
  },
  {
   "cell_type": "code",
   "execution_count": 2,
   "metadata": {
    "id": "SVaUvlBFc26G"
   },
   "outputs": [],
   "source": [
    "user_data = pd.read_csv(\"New User Data.csv\")"
   ]
  },
  {
   "cell_type": "code",
   "execution_count": 3,
   "metadata": {
    "colab": {
     "base_uri": "https://localhost:8080/",
     "height": 313
    },
    "id": "rprDIy8Qn9Fj",
    "outputId": "649e6d74-4207-4a15-b754-43bca3c24811"
   },
   "outputs": [
    {
     "data": {
      "text/html": [
       "<div>\n",
       "<style scoped>\n",
       "    .dataframe tbody tr th:only-of-type {\n",
       "        vertical-align: middle;\n",
       "    }\n",
       "\n",
       "    .dataframe tbody tr th {\n",
       "        vertical-align: top;\n",
       "    }\n",
       "\n",
       "    .dataframe thead th {\n",
       "        text-align: right;\n",
       "    }\n",
       "</style>\n",
       "<table border=\"1\" class=\"dataframe\">\n",
       "  <thead>\n",
       "    <tr style=\"text-align: right;\">\n",
       "      <th></th>\n",
       "      <th>city</th>\n",
       "      <th>state</th>\n",
       "      <th>street</th>\n",
       "      <th>streetSuffix</th>\n",
       "      <th>zip</th>\n",
       "      <th>latitude</th>\n",
       "      <th>longitude</th>\n",
       "      <th>landUseDescription</th>\n",
       "      <th>zoningDescription</th>\n",
       "      <th>lotSizeAcres</th>\n",
       "      <th>...</th>\n",
       "      <th>yearBuilt</th>\n",
       "      <th>totalStories</th>\n",
       "      <th>totalRooms</th>\n",
       "      <th>bedrooms</th>\n",
       "      <th>baths</th>\n",
       "      <th>heating</th>\n",
       "      <th>airConditioning</th>\n",
       "      <th>foundation</th>\n",
       "      <th>fireplace</th>\n",
       "      <th>soldYear</th>\n",
       "    </tr>\n",
       "  </thead>\n",
       "  <tbody>\n",
       "    <tr>\n",
       "      <th>0</th>\n",
       "      <td>Lilburn</td>\n",
       "      <td>GA</td>\n",
       "      <td>Village Green</td>\n",
       "      <td>Ct</td>\n",
       "      <td>30047</td>\n",
       "      <td>33.873543</td>\n",
       "      <td>-84.117197</td>\n",
       "      <td>Single Family Residential</td>\n",
       "      <td>R100-Single Family Residence</td>\n",
       "      <td>0.46</td>\n",
       "      <td>...</td>\n",
       "      <td>1971</td>\n",
       "      <td>1</td>\n",
       "      <td>6</td>\n",
       "      <td>4</td>\n",
       "      <td>2</td>\n",
       "      <td>Forced air</td>\n",
       "      <td>Yes</td>\n",
       "      <td>Crawl Space/Raised</td>\n",
       "      <td>Masonry</td>\n",
       "      <td>2021</td>\n",
       "    </tr>\n",
       "  </tbody>\n",
       "</table>\n",
       "<p>1 rows × 24 columns</p>\n",
       "</div>"
      ],
      "text/plain": [
       "      city state         street streetSuffix    zip   latitude  longitude  \\\n",
       "0  Lilburn    GA  Village Green           Ct  30047  33.873543 -84.117197   \n",
       "\n",
       "          landUseDescription             zoningDescription  lotSizeAcres  ...  \\\n",
       "0  Single Family Residential  R100-Single Family Residence          0.46  ...   \n",
       "\n",
       "   yearBuilt totalStories totalRooms bedrooms  baths     heating  \\\n",
       "0       1971            1          6        4      2  Forced air   \n",
       "\n",
       "   airConditioning          foundation  fireplace soldYear  \n",
       "0              Yes  Crawl Space/Raised    Masonry     2021  \n",
       "\n",
       "[1 rows x 24 columns]"
      ]
     },
     "execution_count": 3,
     "metadata": {},
     "output_type": "execute_result"
    }
   ],
   "source": [
    "user_data.head()"
   ]
  },
  {
   "cell_type": "code",
   "execution_count": 4,
   "metadata": {
    "id": "BgAyx1BRqNPD"
   },
   "outputs": [],
   "source": [
    "lotSizqSqFt = user_data[\"lotSizeSquareFeet\"].values"
   ]
  },
  {
   "cell_type": "code",
   "execution_count": 5,
   "metadata": {
    "id": "wt_H8Ca6dRHT"
   },
   "outputs": [],
   "source": [
    "# Loading the Encoding Database to encode the categorical data into numbers\n",
    "\n",
    "file_path = \"../Output/encodings_database.json\"\n",
    "file = open(file_path, \"r\")\n",
    "encodings_database = json.load(file)"
   ]
  },
  {
   "cell_type": "code",
   "execution_count": 6,
   "metadata": {
    "id": "28_fxjukiCpw"
   },
   "outputs": [],
   "source": [
    "categorical_cols = [\"city\", \"state\", \"street\", \"streetSuffix\", \"landUseDescription\", \"zoningDescription\", \"lotTopography\", \"architecturalStyle\", \"condition\", \"heating\", \"airConditioning\",\t\"foundation\", \"fireplace\"]\n",
    "numerical_cols = [\"zip\", \"latitude\", \"longitude\", \"lotSizeAcres\",\t\"lotSizeSquareFeet\",\t\"yearBuilt\",\t\"totalStories\",\t\"totalRooms\",\t\"bedrooms\",\t\"baths\", \"soldYear\"]"
   ]
  },
  {
   "cell_type": "code",
   "execution_count": 7,
   "metadata": {
    "id": "bdlRXDCY2sz3"
   },
   "outputs": [],
   "source": [
    "def encode_state(state):\n",
    "    '''\n",
    "    This function returns the label of the code of the entered state.\n",
    "    Args:\n",
    "        state: str\n",
    "        - accepts states in USA\n",
    "\n",
    "    Returns:\n",
    "        state_code: int\n",
    "            - -1 for invalid\n",
    "            - 0 to 50 for actual state codes\n",
    "    '''\n",
    "    state = state.lower()\n",
    "    if state not in encodings_database[\"state\"].keys():\n",
    "        print(\"Please enter one of the states of USA!\")\n",
    "        state_code = -1\n",
    "    else:\n",
    "        print(\"State Encoded\")\n",
    "        state_code = encodings_database[\"state\"][state]\n",
    "    return state_code"
   ]
  },
  {
   "cell_type": "code",
   "execution_count": 8,
   "metadata": {
    "colab": {
     "base_uri": "https://localhost:8080/"
    },
    "id": "5qgIorNY2ug3",
    "outputId": "5a091fed-151a-4c7f-826f-294af451d4a9"
   },
   "outputs": [
    {
     "name": "stdout",
     "output_type": "stream",
     "text": [
      "State Encoded\n",
      "9\n"
     ]
    }
   ],
   "source": [
    "# Check whether the state is valid or not\n",
    "state_code = encode_state(list(user_data[\"state\"])[0])\n",
    "print(state_code)"
   ]
  },
  {
   "cell_type": "code",
   "execution_count": 9,
   "metadata": {
    "id": "KhechlvciJsw"
   },
   "outputs": [],
   "source": [
    "def validate_numerical_data(num_col_val):\n",
    "    '''\n",
    "    This function validates whether the input numerical column actually has the numerical data\n",
    "    Args:\n",
    "        num_col_val: str\n",
    "            - string with an integer e.g. '56'\n",
    "    Returns:\n",
    "        number_flag: bool\n",
    "            - True if all the data are real numbers\n",
    "            - False if the data is other than real number\n",
    "    '''\n",
    "    valid_number_flag = True\n",
    "    try:\n",
    "        float(num_col_val)\n",
    "    except:\n",
    "        valid_number_flag = False\n",
    "        print(\"Please enter a valid number!\")\n",
    "    else:\n",
    "        print(\"Numerical Data: Detected and Validated\")\n",
    "\n",
    "    return valid_number_flag"
   ]
  },
  {
   "cell_type": "code",
   "execution_count": 10,
   "metadata": {},
   "outputs": [
    {
     "name": "stdout",
     "output_type": "stream",
     "text": [
      "Numerical Data: Detected and Validated\n",
      "30047\n",
      "True\n",
      "\n",
      "\n",
      "Numerical Data: Detected and Validated\n",
      "33.873543\n",
      "True\n",
      "\n",
      "\n",
      "Numerical Data: Detected and Validated\n",
      "-84.11719699999999\n",
      "True\n",
      "\n",
      "\n",
      "Numerical Data: Detected and Validated\n",
      "0.46\n",
      "True\n",
      "\n",
      "\n",
      "Numerical Data: Detected and Validated\n",
      "20037.6\n",
      "True\n",
      "\n",
      "\n",
      "Numerical Data: Detected and Validated\n",
      "1971\n",
      "True\n",
      "\n",
      "\n",
      "Numerical Data: Detected and Validated\n",
      "1\n",
      "True\n",
      "\n",
      "\n",
      "Numerical Data: Detected and Validated\n",
      "6\n",
      "True\n",
      "\n",
      "\n",
      "Numerical Data: Detected and Validated\n",
      "4\n",
      "True\n",
      "\n",
      "\n",
      "Numerical Data: Detected and Validated\n",
      "2\n",
      "True\n",
      "\n",
      "\n",
      "Numerical Data: Detected and Validated\n",
      "2021\n",
      "True\n",
      "\n",
      "\n"
     ]
    }
   ],
   "source": [
    "for j, col in enumerate(numerical_cols):\n",
    "    valid_number_flag = validate_numerical_data(list(user_data[col])[0])\n",
    "    print(list(user_data[col])[0])\n",
    "    print(valid_number_flag)\n",
    "    print(\"\\n\")"
   ]
  },
  {
   "cell_type": "code",
   "execution_count": 11,
   "metadata": {},
   "outputs": [],
   "source": [
    "def validate_categorical_data(cat_col_val):\n",
    "    '''\n",
    "    This function validates whether the input categorical column actually has the categorical data\n",
    "    Args:\n",
    "        cat_col_val: str\n",
    "            - actual string value\n",
    "    Returns:\n",
    "        valid_categorical_flag: bool\n",
    "            - True if all the data are strings\n",
    "            - False if the data is other than strings\n",
    "    '''\n",
    "    valid_categorical_flag = True\n",
    "    try:\n",
    "        float(cat_col_val)\n",
    "    except:\n",
    "        if bool(cat_col_val) is False:\n",
    "            valid_categorical_flag = False\n",
    "            return valid_categorical_flag\n",
    "        print(\"Categorical Data: Detected and Validated!\")\n",
    "    else:\n",
    "        print(\"You tried to enter numerical data in categorical column!\")\n",
    "        valid_categorical_flag = False\n",
    "\n",
    "    return valid_categorical_flag"
   ]
  },
  {
   "cell_type": "code",
   "execution_count": 12,
   "metadata": {},
   "outputs": [
    {
     "name": "stdout",
     "output_type": "stream",
     "text": [
      "Categorical Data: Detected and Validated!\n",
      "Lilburn\n",
      "True\n",
      "\n",
      "\n",
      "Categorical Data: Detected and Validated!\n",
      "GA\n",
      "True\n",
      "\n",
      "\n",
      "Categorical Data: Detected and Validated!\n",
      "Village Green\n",
      "True\n",
      "\n",
      "\n",
      "Categorical Data: Detected and Validated!\n",
      "Ct\n",
      "True\n",
      "\n",
      "\n",
      "Categorical Data: Detected and Validated!\n",
      "Single Family Residential\n",
      "True\n",
      "\n",
      "\n",
      "Categorical Data: Detected and Validated!\n",
      "R100-Single Family Residence\n",
      "True\n",
      "\n",
      "\n",
      "Categorical Data: Detected and Validated!\n",
      "Low Elevation\n",
      "True\n",
      "\n",
      "\n",
      "Categorical Data: Detected and Validated!\n",
      "Ranch/Rambler\n",
      "True\n",
      "\n",
      "\n",
      "Categorical Data: Detected and Validated!\n",
      "Average\n",
      "True\n",
      "\n",
      "\n",
      "Categorical Data: Detected and Validated!\n",
      "Forced air\n",
      "True\n",
      "\n",
      "\n",
      "Categorical Data: Detected and Validated!\n",
      "Yes\n",
      "True\n",
      "\n",
      "\n",
      "Categorical Data: Detected and Validated!\n",
      "Crawl Space/Raised\n",
      "True\n",
      "\n",
      "\n",
      "Categorical Data: Detected and Validated!\n",
      "Masonry\n",
      "True\n",
      "\n",
      "\n"
     ]
    }
   ],
   "source": [
    "for j, col in enumerate(categorical_cols):\n",
    "    valid_categorical_flag = validate_categorical_data(list(user_data[col])[0])\n",
    "    print(list(user_data[col])[0])\n",
    "    print(valid_categorical_flag)\n",
    "    print(\"\\n\")"
   ]
  },
  {
   "cell_type": "code",
   "execution_count": 13,
   "metadata": {
    "colab": {
     "base_uri": "https://localhost:8080/",
     "height": 226
    },
    "id": "W-c2C6jSiOoG",
    "outputId": "3d2f5f13-25b5-4773-bada-2e965d38719f"
   },
   "outputs": [
    {
     "data": {
      "text/html": [
       "<div>\n",
       "<style scoped>\n",
       "    .dataframe tbody tr th:only-of-type {\n",
       "        vertical-align: middle;\n",
       "    }\n",
       "\n",
       "    .dataframe tbody tr th {\n",
       "        vertical-align: top;\n",
       "    }\n",
       "\n",
       "    .dataframe thead th {\n",
       "        text-align: right;\n",
       "    }\n",
       "</style>\n",
       "<table border=\"1\" class=\"dataframe\">\n",
       "  <thead>\n",
       "    <tr style=\"text-align: right;\">\n",
       "      <th></th>\n",
       "      <th>city</th>\n",
       "      <th>state</th>\n",
       "      <th>street</th>\n",
       "      <th>streetSuffix</th>\n",
       "      <th>zip</th>\n",
       "      <th>latitude</th>\n",
       "      <th>longitude</th>\n",
       "      <th>landUseDescription</th>\n",
       "      <th>zoningDescription</th>\n",
       "      <th>lotSizeAcres</th>\n",
       "      <th>...</th>\n",
       "      <th>yearBuilt</th>\n",
       "      <th>totalStories</th>\n",
       "      <th>totalRooms</th>\n",
       "      <th>bedrooms</th>\n",
       "      <th>baths</th>\n",
       "      <th>heating</th>\n",
       "      <th>airConditioning</th>\n",
       "      <th>foundation</th>\n",
       "      <th>fireplace</th>\n",
       "      <th>soldYear</th>\n",
       "    </tr>\n",
       "  </thead>\n",
       "  <tbody>\n",
       "    <tr>\n",
       "      <th>0</th>\n",
       "      <td>Lilburn</td>\n",
       "      <td>GA</td>\n",
       "      <td>Village Green</td>\n",
       "      <td>Ct</td>\n",
       "      <td>30047</td>\n",
       "      <td>33.873543</td>\n",
       "      <td>-84.117197</td>\n",
       "      <td>Single Family Residential</td>\n",
       "      <td>R100-Single Family Residence</td>\n",
       "      <td>0.46</td>\n",
       "      <td>...</td>\n",
       "      <td>1971</td>\n",
       "      <td>1</td>\n",
       "      <td>6</td>\n",
       "      <td>4</td>\n",
       "      <td>2</td>\n",
       "      <td>Forced air</td>\n",
       "      <td>Yes</td>\n",
       "      <td>Crawl Space/Raised</td>\n",
       "      <td>Masonry</td>\n",
       "      <td>2021</td>\n",
       "    </tr>\n",
       "  </tbody>\n",
       "</table>\n",
       "<p>1 rows × 24 columns</p>\n",
       "</div>"
      ],
      "text/plain": [
       "      city state         street streetSuffix    zip   latitude  longitude  \\\n",
       "0  Lilburn    GA  Village Green           Ct  30047  33.873543 -84.117197   \n",
       "\n",
       "          landUseDescription             zoningDescription  lotSizeAcres  ...  \\\n",
       "0  Single Family Residential  R100-Single Family Residence          0.46  ...   \n",
       "\n",
       "   yearBuilt totalStories totalRooms bedrooms  baths     heating  \\\n",
       "0       1971            1          6        4      2  Forced air   \n",
       "\n",
       "   airConditioning          foundation  fireplace soldYear  \n",
       "0              Yes  Crawl Space/Raised    Masonry     2021  \n",
       "\n",
       "[1 rows x 24 columns]"
      ]
     },
     "execution_count": 13,
     "metadata": {},
     "output_type": "execute_result"
    }
   ],
   "source": [
    "user_data"
   ]
  },
  {
   "cell_type": "code",
   "execution_count": 14,
   "metadata": {},
   "outputs": [],
   "source": [
    "for i, name in enumerate(categorical_cols):\n",
    "  user_data[name] = encodings_database[name][user_data[name].values[0].lower()]"
   ]
  },
  {
   "cell_type": "code",
   "execution_count": 15,
   "metadata": {},
   "outputs": [
    {
     "data": {
      "text/html": [
       "<div>\n",
       "<style scoped>\n",
       "    .dataframe tbody tr th:only-of-type {\n",
       "        vertical-align: middle;\n",
       "    }\n",
       "\n",
       "    .dataframe tbody tr th {\n",
       "        vertical-align: top;\n",
       "    }\n",
       "\n",
       "    .dataframe thead th {\n",
       "        text-align: right;\n",
       "    }\n",
       "</style>\n",
       "<table border=\"1\" class=\"dataframe\">\n",
       "  <thead>\n",
       "    <tr style=\"text-align: right;\">\n",
       "      <th></th>\n",
       "      <th>city</th>\n",
       "      <th>state</th>\n",
       "      <th>street</th>\n",
       "      <th>streetSuffix</th>\n",
       "      <th>zip</th>\n",
       "      <th>latitude</th>\n",
       "      <th>longitude</th>\n",
       "      <th>landUseDescription</th>\n",
       "      <th>zoningDescription</th>\n",
       "      <th>lotSizeAcres</th>\n",
       "      <th>...</th>\n",
       "      <th>yearBuilt</th>\n",
       "      <th>totalStories</th>\n",
       "      <th>totalRooms</th>\n",
       "      <th>bedrooms</th>\n",
       "      <th>baths</th>\n",
       "      <th>heating</th>\n",
       "      <th>airConditioning</th>\n",
       "      <th>foundation</th>\n",
       "      <th>fireplace</th>\n",
       "      <th>soldYear</th>\n",
       "    </tr>\n",
       "  </thead>\n",
       "  <tbody>\n",
       "    <tr>\n",
       "      <th>0</th>\n",
       "      <td>11</td>\n",
       "      <td>9</td>\n",
       "      <td>8470</td>\n",
       "      <td>14</td>\n",
       "      <td>30047</td>\n",
       "      <td>33.873543</td>\n",
       "      <td>-84.117197</td>\n",
       "      <td>13</td>\n",
       "      <td>43</td>\n",
       "      <td>0.46</td>\n",
       "      <td>...</td>\n",
       "      <td>1971</td>\n",
       "      <td>1</td>\n",
       "      <td>6</td>\n",
       "      <td>4</td>\n",
       "      <td>2</td>\n",
       "      <td>1</td>\n",
       "      <td>1</td>\n",
       "      <td>0</td>\n",
       "      <td>0</td>\n",
       "      <td>2021</td>\n",
       "    </tr>\n",
       "  </tbody>\n",
       "</table>\n",
       "<p>1 rows × 24 columns</p>\n",
       "</div>"
      ],
      "text/plain": [
       "   city  state  street  streetSuffix    zip   latitude  longitude  \\\n",
       "0    11      9    8470            14  30047  33.873543 -84.117197   \n",
       "\n",
       "   landUseDescription  zoningDescription  lotSizeAcres  ...  yearBuilt  \\\n",
       "0                  13                 43          0.46  ...       1971   \n",
       "\n",
       "   totalStories  totalRooms  bedrooms  baths  heating  airConditioning  \\\n",
       "0             1           6         4      2        1                1   \n",
       "\n",
       "   foundation  fireplace  soldYear  \n",
       "0           0          0      2021  \n",
       "\n",
       "[1 rows x 24 columns]"
      ]
     },
     "execution_count": 15,
     "metadata": {},
     "output_type": "execute_result"
    }
   ],
   "source": [
    "user_data"
   ]
  },
  {
   "cell_type": "code",
   "execution_count": 16,
   "metadata": {
    "id": "fyqEpk99iTso"
   },
   "outputs": [],
   "source": [
    "# Loading the MinMaxScalar to normalize the categorical features\n",
    "\n",
    "filename = \"../Output/minMaxScalar.joblib\"\n",
    "minMaxScalar = load(filename)"
   ]
  },
  {
   "cell_type": "code",
   "execution_count": 17,
   "metadata": {
    "id": "cpKyfm6GinGn"
   },
   "outputs": [],
   "source": [
    "# MINMAX NORMALIZATION:\n",
    "\n",
    "categorical_cols.remove(\"state\")\n",
    "categorical_data = user_data[categorical_cols]\n",
    "\n",
    "user_data[categorical_cols] = minMaxScalar.transform(categorical_data)\n",
    "\n",
    "#Encoding state separately, since we did not have all the 50 states in the data\n",
    "user_data[\"state\"] /= 49"
   ]
  },
  {
   "cell_type": "code",
   "execution_count": 18,
   "metadata": {
    "colab": {
     "base_uri": "https://localhost:8080/",
     "height": 226
    },
    "id": "OdLvt9FGjFag",
    "outputId": "fd5b5e17-9016-4000-b57a-5a700989fba6"
   },
   "outputs": [
    {
     "data": {
      "text/html": [
       "<div>\n",
       "<style scoped>\n",
       "    .dataframe tbody tr th:only-of-type {\n",
       "        vertical-align: middle;\n",
       "    }\n",
       "\n",
       "    .dataframe tbody tr th {\n",
       "        vertical-align: top;\n",
       "    }\n",
       "\n",
       "    .dataframe thead th {\n",
       "        text-align: right;\n",
       "    }\n",
       "</style>\n",
       "<table border=\"1\" class=\"dataframe\">\n",
       "  <thead>\n",
       "    <tr style=\"text-align: right;\">\n",
       "      <th></th>\n",
       "      <th>city</th>\n",
       "      <th>state</th>\n",
       "      <th>street</th>\n",
       "      <th>streetSuffix</th>\n",
       "      <th>zip</th>\n",
       "      <th>latitude</th>\n",
       "      <th>longitude</th>\n",
       "      <th>landUseDescription</th>\n",
       "      <th>zoningDescription</th>\n",
       "      <th>lotSizeAcres</th>\n",
       "      <th>...</th>\n",
       "      <th>yearBuilt</th>\n",
       "      <th>totalStories</th>\n",
       "      <th>totalRooms</th>\n",
       "      <th>bedrooms</th>\n",
       "      <th>baths</th>\n",
       "      <th>heating</th>\n",
       "      <th>airConditioning</th>\n",
       "      <th>foundation</th>\n",
       "      <th>fireplace</th>\n",
       "      <th>soldYear</th>\n",
       "    </tr>\n",
       "  </thead>\n",
       "  <tbody>\n",
       "    <tr>\n",
       "      <th>0</th>\n",
       "      <td>0.55</td>\n",
       "      <td>0.183673</td>\n",
       "      <td>0.923261</td>\n",
       "      <td>0.215385</td>\n",
       "      <td>30047</td>\n",
       "      <td>33.873543</td>\n",
       "      <td>-84.117197</td>\n",
       "      <td>0.8125</td>\n",
       "      <td>0.494253</td>\n",
       "      <td>0.46</td>\n",
       "      <td>...</td>\n",
       "      <td>1971</td>\n",
       "      <td>1</td>\n",
       "      <td>6</td>\n",
       "      <td>4</td>\n",
       "      <td>2</td>\n",
       "      <td>0.25</td>\n",
       "      <td>1.0</td>\n",
       "      <td>0.0</td>\n",
       "      <td>0.0</td>\n",
       "      <td>2021</td>\n",
       "    </tr>\n",
       "  </tbody>\n",
       "</table>\n",
       "<p>1 rows × 24 columns</p>\n",
       "</div>"
      ],
      "text/plain": [
       "   city     state    street  streetSuffix    zip   latitude  longitude  \\\n",
       "0  0.55  0.183673  0.923261      0.215385  30047  33.873543 -84.117197   \n",
       "\n",
       "   landUseDescription  zoningDescription  lotSizeAcres  ...  yearBuilt  \\\n",
       "0              0.8125           0.494253          0.46  ...       1971   \n",
       "\n",
       "   totalStories  totalRooms  bedrooms  baths  heating  airConditioning  \\\n",
       "0             1           6         4      2     0.25              1.0   \n",
       "\n",
       "   foundation  fireplace  soldYear  \n",
       "0         0.0        0.0      2021  \n",
       "\n",
       "[1 rows x 24 columns]"
      ]
     },
     "execution_count": 18,
     "metadata": {},
     "output_type": "execute_result"
    }
   ],
   "source": [
    "user_data"
   ]
  },
  {
   "cell_type": "code",
   "execution_count": 19,
   "metadata": {},
   "outputs": [],
   "source": [
    "# Now we have all numerical values but in string format, so we convert all the values to numeric\n",
    "user_data = user_data.apply(pd.to_numeric, errors=\"coerce\")"
   ]
  },
  {
   "cell_type": "code",
   "execution_count": 20,
   "metadata": {
    "id": "CCyWxaftkKOf"
   },
   "outputs": [],
   "source": [
    "# Loading the StandardScalar to normalize the numerical features\n",
    "\n",
    "filename = \"../Output/standardScalar.joblib\"\n",
    "standardScalar = load(filename)"
   ]
  },
  {
   "cell_type": "code",
   "execution_count": 21,
   "metadata": {
    "id": "zk0PNSBlkXd_"
   },
   "outputs": [],
   "source": [
    "numerical_data = user_data[numerical_cols]\n",
    "\n",
    "user_data[numerical_cols] = standardScalar.transform(numerical_data)"
   ]
  },
  {
   "cell_type": "code",
   "execution_count": 22,
   "metadata": {
    "colab": {
     "base_uri": "https://localhost:8080/",
     "height": 226
    },
    "id": "LTQ-SRMCkbe3",
    "outputId": "2fbeb218-bee2-4f9e-b9d9-aec757a82a0a"
   },
   "outputs": [
    {
     "data": {
      "text/plain": [
       "(1, 24)"
      ]
     },
     "execution_count": 22,
     "metadata": {},
     "output_type": "execute_result"
    }
   ],
   "source": [
    "user_data.shape"
   ]
  },
  {
   "cell_type": "code",
   "execution_count": 31,
   "metadata": {},
   "outputs": [
    {
     "name": "stdout",
     "output_type": "stream",
     "text": [
      "0    0.55\n",
      "Name: city, dtype: float64\n",
      "0    0.183673\n",
      "Name: state, dtype: float64\n",
      "0    0.923261\n",
      "Name: street, dtype: float64\n",
      "0    0.215385\n",
      "Name: streetSuffix, dtype: float64\n",
      "0   -0.427423\n",
      "Name: zip, dtype: float64\n",
      "0    0.074451\n",
      "Name: latitude, dtype: float64\n",
      "0   -0.10837\n",
      "Name: longitude, dtype: float64\n",
      "0    0.8125\n",
      "Name: landUseDescription, dtype: float64\n",
      "0    0.494253\n",
      "Name: zoningDescription, dtype: float64\n",
      "0   -0.006182\n",
      "Name: lotSizeAcres, dtype: float64\n",
      "0   -0.006182\n",
      "Name: lotSizeSquareFeet, dtype: float64\n",
      "0    0.4\n",
      "Name: lotTopography, dtype: float64\n",
      "0    0.0\n",
      "Name: condition, dtype: float64\n",
      "0    1.0\n",
      "Name: architecturalStyle, dtype: float64\n",
      "0   -1.726295\n",
      "Name: yearBuilt, dtype: float64\n",
      "0   -1.10741\n",
      "Name: totalStories, dtype: float64\n",
      "0   -0.742079\n",
      "Name: totalRooms, dtype: float64\n",
      "0    0.573313\n",
      "Name: bedrooms, dtype: float64\n",
      "0   -1.007367\n",
      "Name: baths, dtype: float64\n",
      "0    0.25\n",
      "Name: heating, dtype: float64\n",
      "0    1.0\n",
      "Name: airConditioning, dtype: float64\n",
      "0    0.0\n",
      "Name: foundation, dtype: float64\n",
      "0    0.0\n",
      "Name: fireplace, dtype: float64\n",
      "0    0.0\n",
      "Name: soldYear, dtype: float64\n"
     ]
    }
   ],
   "source": [
    "for val in user_data:\n",
    "    print(user_data[val])"
   ]
  },
  {
   "cell_type": "code",
   "execution_count": 26,
   "metadata": {},
   "outputs": [
    {
     "data": {
      "text/plain": [
       "sklearn.ensemble._forest.RandomForestRegressor"
      ]
     },
     "execution_count": 26,
     "metadata": {},
     "output_type": "execute_result"
    }
   ],
   "source": [
    "rf_model = load(\"rf_model_95_86_randomState27.joblib\")\n",
    "type(rf_model)"
   ]
  },
  {
   "cell_type": "code",
   "execution_count": 29,
   "metadata": {},
   "outputs": [
    {
     "ename": "AttributeError",
     "evalue": "'DecisionTreeRegressor' object has no attribute 'n_features_'",
     "output_type": "error",
     "traceback": [
      "\u001b[1;31m---------------------------------------------------------------------------\u001b[0m",
      "\u001b[1;31mAttributeError\u001b[0m                            Traceback (most recent call last)",
      "\u001b[1;32m<ipython-input-29-694fa41ce792>\u001b[0m in \u001b[0;36m<module>\u001b[1;34m\u001b[0m\n\u001b[1;32m----> 1\u001b[1;33m \u001b[0mpreds\u001b[0m \u001b[1;33m=\u001b[0m \u001b[0mrf_model\u001b[0m\u001b[1;33m.\u001b[0m\u001b[0mpredict\u001b[0m\u001b[1;33m(\u001b[0m\u001b[0muser_data\u001b[0m\u001b[1;33m.\u001b[0m\u001b[0miloc\u001b[0m\u001b[1;33m[\u001b[0m\u001b[1;33m:\u001b[0m\u001b[1;36m1\u001b[0m\u001b[1;33m,\u001b[0m\u001b[1;33m:\u001b[0m\u001b[1;33m]\u001b[0m\u001b[1;33m)\u001b[0m\u001b[1;33m\u001b[0m\u001b[1;33m\u001b[0m\u001b[0m\n\u001b[0m",
      "\u001b[1;32m~\\anaconda3\\lib\\site-packages\\sklearn\\ensemble\\_forest.py\u001b[0m in \u001b[0;36mpredict\u001b[1;34m(self, X)\u001b[0m\n\u001b[0;32m    781\u001b[0m         \u001b[0mcheck_is_fitted\u001b[0m\u001b[1;33m(\u001b[0m\u001b[0mself\u001b[0m\u001b[1;33m)\u001b[0m\u001b[1;33m\u001b[0m\u001b[1;33m\u001b[0m\u001b[0m\n\u001b[0;32m    782\u001b[0m         \u001b[1;31m# Check data\u001b[0m\u001b[1;33m\u001b[0m\u001b[1;33m\u001b[0m\u001b[1;33m\u001b[0m\u001b[0m\n\u001b[1;32m--> 783\u001b[1;33m         \u001b[0mX\u001b[0m \u001b[1;33m=\u001b[0m \u001b[0mself\u001b[0m\u001b[1;33m.\u001b[0m\u001b[0m_validate_X_predict\u001b[0m\u001b[1;33m(\u001b[0m\u001b[0mX\u001b[0m\u001b[1;33m)\u001b[0m\u001b[1;33m\u001b[0m\u001b[1;33m\u001b[0m\u001b[0m\n\u001b[0m\u001b[0;32m    784\u001b[0m \u001b[1;33m\u001b[0m\u001b[0m\n\u001b[0;32m    785\u001b[0m         \u001b[1;31m# Assign chunk of trees to jobs\u001b[0m\u001b[1;33m\u001b[0m\u001b[1;33m\u001b[0m\u001b[1;33m\u001b[0m\u001b[0m\n",
      "\u001b[1;32m~\\anaconda3\\lib\\site-packages\\sklearn\\ensemble\\_forest.py\u001b[0m in \u001b[0;36m_validate_X_predict\u001b[1;34m(self, X)\u001b[0m\n\u001b[0;32m    419\u001b[0m         \u001b[0mcheck_is_fitted\u001b[0m\u001b[1;33m(\u001b[0m\u001b[0mself\u001b[0m\u001b[1;33m)\u001b[0m\u001b[1;33m\u001b[0m\u001b[1;33m\u001b[0m\u001b[0m\n\u001b[0;32m    420\u001b[0m \u001b[1;33m\u001b[0m\u001b[0m\n\u001b[1;32m--> 421\u001b[1;33m         \u001b[1;32mreturn\u001b[0m \u001b[0mself\u001b[0m\u001b[1;33m.\u001b[0m\u001b[0mestimators_\u001b[0m\u001b[1;33m[\u001b[0m\u001b[1;36m0\u001b[0m\u001b[1;33m]\u001b[0m\u001b[1;33m.\u001b[0m\u001b[0m_validate_X_predict\u001b[0m\u001b[1;33m(\u001b[0m\u001b[0mX\u001b[0m\u001b[1;33m,\u001b[0m \u001b[0mcheck_input\u001b[0m\u001b[1;33m=\u001b[0m\u001b[1;32mTrue\u001b[0m\u001b[1;33m)\u001b[0m\u001b[1;33m\u001b[0m\u001b[1;33m\u001b[0m\u001b[0m\n\u001b[0m\u001b[0;32m    422\u001b[0m \u001b[1;33m\u001b[0m\u001b[0m\n\u001b[0;32m    423\u001b[0m     \u001b[1;33m@\u001b[0m\u001b[0mproperty\u001b[0m\u001b[1;33m\u001b[0m\u001b[1;33m\u001b[0m\u001b[0m\n",
      "\u001b[1;32m~\\anaconda3\\lib\\site-packages\\sklearn\\tree\\_classes.py\u001b[0m in \u001b[0;36m_validate_X_predict\u001b[1;34m(self, X, check_input)\u001b[0m\n\u001b[0;32m    393\u001b[0m \u001b[1;33m\u001b[0m\u001b[0m\n\u001b[0;32m    394\u001b[0m         \u001b[0mn_features\u001b[0m \u001b[1;33m=\u001b[0m \u001b[0mX\u001b[0m\u001b[1;33m.\u001b[0m\u001b[0mshape\u001b[0m\u001b[1;33m[\u001b[0m\u001b[1;36m1\u001b[0m\u001b[1;33m]\u001b[0m\u001b[1;33m\u001b[0m\u001b[1;33m\u001b[0m\u001b[0m\n\u001b[1;32m--> 395\u001b[1;33m         \u001b[1;32mif\u001b[0m \u001b[0mself\u001b[0m\u001b[1;33m.\u001b[0m\u001b[0mn_features_\u001b[0m \u001b[1;33m!=\u001b[0m \u001b[0mn_features\u001b[0m\u001b[1;33m:\u001b[0m\u001b[1;33m\u001b[0m\u001b[1;33m\u001b[0m\u001b[0m\n\u001b[0m\u001b[0;32m    396\u001b[0m             raise ValueError(\"Number of features of the model must \"\n\u001b[0;32m    397\u001b[0m                              \u001b[1;34m\"match the input. Model n_features is %s and \"\u001b[0m\u001b[1;33m\u001b[0m\u001b[1;33m\u001b[0m\u001b[0m\n",
      "\u001b[1;31mAttributeError\u001b[0m: 'DecisionTreeRegressor' object has no attribute 'n_features_'"
     ]
    }
   ],
   "source": [
    "preds = rf_model.predict(user_data.iloc[:1,:])"
   ]
  },
  {
   "cell_type": "code",
   "execution_count": null,
   "metadata": {},
   "outputs": [],
   "source": [
    "user_data.values"
   ]
  },
  {
   "cell_type": "code",
   "execution_count": null,
   "metadata": {
    "colab": {
     "base_uri": "https://localhost:8080/"
    },
    "id": "ayhpAr6UgqCQ",
    "outputId": "df7d4701-ec97-48ee-d725-71b4b52aaf9b"
   },
   "outputs": [],
   "source": [
    "# Now the new test data is ready to feed into the Random Forest Regression Model\n",
    "rf_model = load(\"../Output/final_rf_model.joblib\")\n",
    "\n",
    "preds = rf_model.predict(user_data.values)\n",
    "preds = round(preds, 3)\n",
    "print(\"Predicted Housing Price:\", preds)"
   ]
  },
  {
   "cell_type": "code",
   "execution_count": null,
   "metadata": {
    "id": "n0tKrLRVp8dz"
   },
   "outputs": [],
   "source": [
    "# Dividing the predicted housing price by lotSizeSquareFeet\n",
    "\n",
    "predPerSqFt = preds/lotSizqSqFt"
   ]
  },
  {
   "cell_type": "code",
   "execution_count": null,
   "metadata": {
    "colab": {
     "base_uri": "https://localhost:8080/"
    },
    "id": "iTDPlOaOqFnN",
    "outputId": "00b8c384-1aa9-4406-9e46-22c60b0163c8"
   },
   "outputs": [],
   "source": [
    "predPerSqFt"
   ]
  },
  {
   "cell_type": "code",
   "execution_count": null,
   "metadata": {
    "id": "lMXRKXKlebtj"
   },
   "outputs": [],
   "source": [
    "amortization_table = pd.read_csv(\"/content/drive/MyDrive/Software Engg Regression Analysis/[LATEST] Manish New Data/Amortization_table.csv\")"
   ]
  },
  {
   "cell_type": "code",
   "execution_count": null,
   "metadata": {
    "colab": {
     "base_uri": "https://localhost:8080/",
     "height": 241
    },
    "id": "qF6w9k_YgGSM",
    "outputId": "e2069ca7-939f-4e76-89f5-d02b57224029"
   },
   "outputs": [],
   "source": [
    "amortization_table.head()"
   ]
  },
  {
   "cell_type": "code",
   "execution_count": null,
   "metadata": {
    "id": "zYZnLLsrmyvo"
   },
   "outputs": [],
   "source": [
    "amortization_table[\"Predicted House Price\"] = preds"
   ]
  },
  {
   "cell_type": "code",
   "execution_count": null,
   "metadata": {
    "colab": {
     "base_uri": "https://localhost:8080/",
     "height": 241
    },
    "id": "IzJgFhhlm8uo",
    "outputId": "d6b505c3-3b32-4683-ee90-5a73d7c4059a"
   },
   "outputs": [],
   "source": [
    "amortization_table.head()"
   ]
  },
  {
   "cell_type": "code",
   "execution_count": null,
   "metadata": {
    "id": "9wRnYkkUrCMZ"
   },
   "outputs": [],
   "source": [
    "amortization_table[\"Predicted Square Feet Price\"] = predPerSqFt"
   ]
  },
  {
   "cell_type": "code",
   "execution_count": null,
   "metadata": {
    "id": "CveOb9Som9yp"
   },
   "outputs": [],
   "source": [
    "amortization_table[\"Equity Value\"] = amortization_table[\"Predicted House Price\"] - amortization_table[\"Remaining Principal\"]"
   ]
  },
  {
   "cell_type": "code",
   "execution_count": null,
   "metadata": {
    "colab": {
     "base_uri": "https://localhost:8080/",
     "height": 592
    },
    "id": "QL8KJoDfnLIH",
    "outputId": "6ce6ead6-08ec-4fd8-c1e6-e7a12027aecd"
   },
   "outputs": [],
   "source": [
    "amortization_table"
   ]
  },
  {
   "cell_type": "code",
   "execution_count": null,
   "metadata": {
    "id": "WiOi5GPys8fi"
   },
   "outputs": [],
   "source": [
    "amortization_table.to_csv(\"amortization_table_output.csv\", index=False)"
   ]
  }
 ],
 "metadata": {
  "colab": {
   "collapsed_sections": [],
   "name": "Testing User Data.ipynb",
   "provenance": []
  },
  "kernelspec": {
   "display_name": "Python 3",
   "language": "python",
   "name": "python3"
  },
  "language_info": {
   "codemirror_mode": {
    "name": "ipython",
    "version": 3
   },
   "file_extension": ".py",
   "mimetype": "text/x-python",
   "name": "python",
   "nbconvert_exporter": "python",
   "pygments_lexer": "ipython3",
   "version": "3.8.5"
  }
 },
 "nbformat": 4,
 "nbformat_minor": 1
}
