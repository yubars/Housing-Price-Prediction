{
  "nbformat": 4,
  "nbformat_minor": 0,
  "metadata": {
    "colab": {
      "name": "Yubaraj sir Model Training Session.ipynb",
      "provenance": [],
      "collapsed_sections": []
    },
    "kernelspec": {
      "name": "python3",
      "display_name": "Python 3"
    },
    "language_info": {
      "name": "python"
    },
    "accelerator": "TPU"
  },
  "cells": [
    {
      "cell_type": "code",
      "metadata": {
        "id": "eW0kxlBrH9Bx"
      },
      "source": [
        "from sklearn.ensemble import RandomForestRegressor\n",
        "from sklearn.model_selection import train_test_split\n",
        "import pandas as pd\n",
        "import matplotlib.pyplot as plt\n",
        "import numpy as np\n",
        "from sklearn.metrics import r2_score\n",
        "# import pickle as pkl\n",
        "from joblib import load"
      ],
      "execution_count": null,
      "outputs": []
    },
    {
      "cell_type": "code",
      "metadata": {
        "colab": {
          "base_uri": "https://localhost:8080/"
        },
        "id": "KlDQnbHUDHJ1",
        "outputId": "4173faf3-f46b-49b8-bdbe-08cb1982ec39"
      },
      "source": [
        "from google.colab import drive\n",
        "drive.mount('/content/drive')"
      ],
      "execution_count": null,
      "outputs": [
        {
          "output_type": "stream",
          "name": "stdout",
          "text": [
            "Drive already mounted at /content/drive; to attempt to forcibly remount, call drive.mount(\"/content/drive\", force_remount=True).\n"
          ]
        }
      ]
    },
    {
      "cell_type": "code",
      "metadata": {
        "id": "1uy16gpLGG1E"
      },
      "source": [
        "#data = pd.read_csv(\"/content/drive/MyDrive/[LATEST] Manish New Data/processedData.csv\")\n",
        "data = pd.read_csv(\"/content/drive/MyDrive/processedData.csv\")"
      ],
      "execution_count": null,
      "outputs": []
    },
    {
      "cell_type": "code",
      "metadata": {
        "colab": {
          "base_uri": "https://localhost:8080/",
          "height": 226
        },
        "id": "N7oDil4JGdZ9",
        "outputId": "b60e7a6b-16fe-4832-fc12-533f0f4867fe"
      },
      "source": [
        "data.head()"
      ],
      "execution_count": null,
      "outputs": [
        {
          "output_type": "execute_result",
          "data": {
            "text/html": [
              "<div>\n",
              "<style scoped>\n",
              "    .dataframe tbody tr th:only-of-type {\n",
              "        vertical-align: middle;\n",
              "    }\n",
              "\n",
              "    .dataframe tbody tr th {\n",
              "        vertical-align: top;\n",
              "    }\n",
              "\n",
              "    .dataframe thead th {\n",
              "        text-align: right;\n",
              "    }\n",
              "</style>\n",
              "<table border=\"1\" class=\"dataframe\">\n",
              "  <thead>\n",
              "    <tr style=\"text-align: right;\">\n",
              "      <th></th>\n",
              "      <th>city</th>\n",
              "      <th>state</th>\n",
              "      <th>street</th>\n",
              "      <th>streetSuffix</th>\n",
              "      <th>zip</th>\n",
              "      <th>latitude</th>\n",
              "      <th>longitude</th>\n",
              "      <th>landUseDescription</th>\n",
              "      <th>zoningDescription</th>\n",
              "      <th>lotSizeAcres</th>\n",
              "      <th>lotSizeSquareFeet</th>\n",
              "      <th>lotTopography</th>\n",
              "      <th>condition</th>\n",
              "      <th>architecturalStyle</th>\n",
              "      <th>yearBuilt</th>\n",
              "      <th>totalStories</th>\n",
              "      <th>totalRooms</th>\n",
              "      <th>bedrooms</th>\n",
              "      <th>baths</th>\n",
              "      <th>heating</th>\n",
              "      <th>airConditioning</th>\n",
              "      <th>foundation</th>\n",
              "      <th>fireplace</th>\n",
              "      <th>soldYear</th>\n",
              "      <th>housePrice</th>\n",
              "    </tr>\n",
              "  </thead>\n",
              "  <tbody>\n",
              "    <tr>\n",
              "      <th>0</th>\n",
              "      <td>0.555556</td>\n",
              "      <td>0.183673</td>\n",
              "      <td>0.731019</td>\n",
              "      <td>0.730159</td>\n",
              "      <td>-0.42215</td>\n",
              "      <td>0.067219</td>\n",
              "      <td>-0.106941</td>\n",
              "      <td>0.769231</td>\n",
              "      <td>0.487179</td>\n",
              "      <td>0.521220</td>\n",
              "      <td>0.521220</td>\n",
              "      <td>0.2</td>\n",
              "      <td>0.0</td>\n",
              "      <td>0.8</td>\n",
              "      <td>-1.161442</td>\n",
              "      <td>-1.101543</td>\n",
              "      <td>0.589168</td>\n",
              "      <td>-0.64725</td>\n",
              "      <td>-1.066788</td>\n",
              "      <td>0.25</td>\n",
              "      <td>1.0</td>\n",
              "      <td>0.0</td>\n",
              "      <td>0.0</td>\n",
              "      <td>0.0</td>\n",
              "      <td>179300</td>\n",
              "    </tr>\n",
              "    <tr>\n",
              "      <th>1</th>\n",
              "      <td>0.555556</td>\n",
              "      <td>0.183673</td>\n",
              "      <td>0.637336</td>\n",
              "      <td>0.571429</td>\n",
              "      <td>-0.42215</td>\n",
              "      <td>-10.650685</td>\n",
              "      <td>10.653853</td>\n",
              "      <td>0.769231</td>\n",
              "      <td>0.487179</td>\n",
              "      <td>0.735954</td>\n",
              "      <td>0.735954</td>\n",
              "      <td>0.2</td>\n",
              "      <td>0.0</td>\n",
              "      <td>0.4</td>\n",
              "      <td>-1.237048</td>\n",
              "      <td>0.879733</td>\n",
              "      <td>-0.749912</td>\n",
              "      <td>-0.64725</td>\n",
              "      <td>0.317929</td>\n",
              "      <td>0.25</td>\n",
              "      <td>1.0</td>\n",
              "      <td>1.0</td>\n",
              "      <td>0.0</td>\n",
              "      <td>0.0</td>\n",
              "      <td>210500</td>\n",
              "    </tr>\n",
              "    <tr>\n",
              "      <th>2</th>\n",
              "      <td>0.555556</td>\n",
              "      <td>0.183673</td>\n",
              "      <td>0.487877</td>\n",
              "      <td>0.222222</td>\n",
              "      <td>-0.42215</td>\n",
              "      <td>0.068531</td>\n",
              "      <td>-0.107635</td>\n",
              "      <td>0.230769</td>\n",
              "      <td>0.474359</td>\n",
              "      <td>0.682270</td>\n",
              "      <td>0.682270</td>\n",
              "      <td>0.2</td>\n",
              "      <td>0.0</td>\n",
              "      <td>0.2</td>\n",
              "      <td>-1.237048</td>\n",
              "      <td>0.879733</td>\n",
              "      <td>0.589168</td>\n",
              "      <td>0.70620</td>\n",
              "      <td>0.317929</td>\n",
              "      <td>0.25</td>\n",
              "      <td>1.0</td>\n",
              "      <td>1.0</td>\n",
              "      <td>0.0</td>\n",
              "      <td>0.0</td>\n",
              "      <td>251400</td>\n",
              "    </tr>\n",
              "    <tr>\n",
              "      <th>3</th>\n",
              "      <td>0.555556</td>\n",
              "      <td>0.183673</td>\n",
              "      <td>0.212180</td>\n",
              "      <td>0.650794</td>\n",
              "      <td>-0.42215</td>\n",
              "      <td>0.067796</td>\n",
              "      <td>-0.107374</td>\n",
              "      <td>0.769231</td>\n",
              "      <td>0.487179</td>\n",
              "      <td>0.574903</td>\n",
              "      <td>0.574903</td>\n",
              "      <td>0.2</td>\n",
              "      <td>0.0</td>\n",
              "      <td>1.0</td>\n",
              "      <td>-1.237048</td>\n",
              "      <td>-1.101543</td>\n",
              "      <td>-0.749912</td>\n",
              "      <td>-0.64725</td>\n",
              "      <td>-1.066788</td>\n",
              "      <td>0.25</td>\n",
              "      <td>1.0</td>\n",
              "      <td>1.0</td>\n",
              "      <td>0.0</td>\n",
              "      <td>0.0</td>\n",
              "      <td>215400</td>\n",
              "    </tr>\n",
              "    <tr>\n",
              "      <th>4</th>\n",
              "      <td>0.555556</td>\n",
              "      <td>0.183673</td>\n",
              "      <td>0.198748</td>\n",
              "      <td>0.650794</td>\n",
              "      <td>-0.42215</td>\n",
              "      <td>0.067623</td>\n",
              "      <td>-0.107263</td>\n",
              "      <td>0.769231</td>\n",
              "      <td>0.474359</td>\n",
              "      <td>1.326472</td>\n",
              "      <td>1.326471</td>\n",
              "      <td>0.2</td>\n",
              "      <td>0.0</td>\n",
              "      <td>0.6</td>\n",
              "      <td>-0.783414</td>\n",
              "      <td>-1.101543</td>\n",
              "      <td>-0.749912</td>\n",
              "      <td>-0.64725</td>\n",
              "      <td>-1.066788</td>\n",
              "      <td>0.25</td>\n",
              "      <td>1.0</td>\n",
              "      <td>0.0</td>\n",
              "      <td>0.0</td>\n",
              "      <td>0.0</td>\n",
              "      <td>191800</td>\n",
              "    </tr>\n",
              "  </tbody>\n",
              "</table>\n",
              "</div>"
            ],
            "text/plain": [
              "       city     state    street  ...  fireplace  soldYear  housePrice\n",
              "0  0.555556  0.183673  0.731019  ...        0.0       0.0      179300\n",
              "1  0.555556  0.183673  0.637336  ...        0.0       0.0      210500\n",
              "2  0.555556  0.183673  0.487877  ...        0.0       0.0      251400\n",
              "3  0.555556  0.183673  0.212180  ...        0.0       0.0      215400\n",
              "4  0.555556  0.183673  0.198748  ...        0.0       0.0      191800\n",
              "\n",
              "[5 rows x 25 columns]"
            ]
          },
          "metadata": {},
          "execution_count": 56
        }
      ]
    },
    {
      "cell_type": "code",
      "metadata": {
        "colab": {
          "base_uri": "https://localhost:8080/",
          "height": 407
        },
        "id": "Sq66joTvfSW_",
        "outputId": "499ebeb0-b3d1-4da2-ddcc-14cb7e59a74a"
      },
      "source": [
        "data.describe()"
      ],
      "execution_count": null,
      "outputs": [
        {
          "output_type": "execute_result",
          "data": {
            "text/html": [
              "<div>\n",
              "<style scoped>\n",
              "    .dataframe tbody tr th:only-of-type {\n",
              "        vertical-align: middle;\n",
              "    }\n",
              "\n",
              "    .dataframe tbody tr th {\n",
              "        vertical-align: top;\n",
              "    }\n",
              "\n",
              "    .dataframe thead th {\n",
              "        text-align: right;\n",
              "    }\n",
              "</style>\n",
              "<table border=\"1\" class=\"dataframe\">\n",
              "  <thead>\n",
              "    <tr style=\"text-align: right;\">\n",
              "      <th></th>\n",
              "      <th>city</th>\n",
              "      <th>state</th>\n",
              "      <th>street</th>\n",
              "      <th>streetSuffix</th>\n",
              "      <th>zip</th>\n",
              "      <th>latitude</th>\n",
              "      <th>longitude</th>\n",
              "      <th>landUseDescription</th>\n",
              "      <th>zoningDescription</th>\n",
              "      <th>lotSizeAcres</th>\n",
              "      <th>lotSizeSquareFeet</th>\n",
              "      <th>lotTopography</th>\n",
              "      <th>condition</th>\n",
              "      <th>architecturalStyle</th>\n",
              "      <th>yearBuilt</th>\n",
              "      <th>totalStories</th>\n",
              "      <th>totalRooms</th>\n",
              "      <th>bedrooms</th>\n",
              "      <th>baths</th>\n",
              "      <th>heating</th>\n",
              "      <th>airConditioning</th>\n",
              "      <th>foundation</th>\n",
              "      <th>fireplace</th>\n",
              "      <th>soldYear</th>\n",
              "      <th>housePrice</th>\n",
              "    </tr>\n",
              "  </thead>\n",
              "  <tbody>\n",
              "    <tr>\n",
              "      <th>count</th>\n",
              "      <td>217493.000000</td>\n",
              "      <td>2.174930e+05</td>\n",
              "      <td>217493.000000</td>\n",
              "      <td>217493.000000</td>\n",
              "      <td>2.174930e+05</td>\n",
              "      <td>2.174930e+05</td>\n",
              "      <td>2.174930e+05</td>\n",
              "      <td>217493.000000</td>\n",
              "      <td>217493.000000</td>\n",
              "      <td>2.174930e+05</td>\n",
              "      <td>2.174930e+05</td>\n",
              "      <td>217493.000000</td>\n",
              "      <td>217493.000000</td>\n",
              "      <td>217493.000000</td>\n",
              "      <td>2.174930e+05</td>\n",
              "      <td>2.174930e+05</td>\n",
              "      <td>2.174930e+05</td>\n",
              "      <td>2.174930e+05</td>\n",
              "      <td>2.174930e+05</td>\n",
              "      <td>217493.000000</td>\n",
              "      <td>217493.000000</td>\n",
              "      <td>217493.000000</td>\n",
              "      <td>217493.000000</td>\n",
              "      <td>217493.0</td>\n",
              "      <td>217493.000000</td>\n",
              "    </tr>\n",
              "    <tr>\n",
              "      <th>mean</th>\n",
              "      <td>0.529738</td>\n",
              "      <td>1.836735e-01</td>\n",
              "      <td>0.506782</td>\n",
              "      <td>0.463812</td>\n",
              "      <td>-1.171986e-14</td>\n",
              "      <td>4.772956e-16</td>\n",
              "      <td>2.284249e-15</td>\n",
              "      <td>0.747868</td>\n",
              "      <td>0.639687</td>\n",
              "      <td>7.363512e-16</td>\n",
              "      <td>3.809764e-15</td>\n",
              "      <td>0.231979</td>\n",
              "      <td>0.057978</td>\n",
              "      <td>0.528628</td>\n",
              "      <td>-2.872402e-15</td>\n",
              "      <td>2.904244e-15</td>\n",
              "      <td>-6.701133e-15</td>\n",
              "      <td>2.732886e-15</td>\n",
              "      <td>3.567398e-15</td>\n",
              "      <td>0.252648</td>\n",
              "      <td>0.999724</td>\n",
              "      <td>0.824762</td>\n",
              "      <td>0.078738</td>\n",
              "      <td>0.0</td>\n",
              "      <td>229375.185408</td>\n",
              "    </tr>\n",
              "    <tr>\n",
              "      <th>std</th>\n",
              "      <td>0.225287</td>\n",
              "      <td>8.984223e-13</td>\n",
              "      <td>0.287989</td>\n",
              "      <td>0.292701</td>\n",
              "      <td>1.000002e+00</td>\n",
              "      <td>1.000002e+00</td>\n",
              "      <td>1.000002e+00</td>\n",
              "      <td>0.112158</td>\n",
              "      <td>0.185684</td>\n",
              "      <td>1.000002e+00</td>\n",
              "      <td>1.000002e+00</td>\n",
              "      <td>0.199411</td>\n",
              "      <td>0.196396</td>\n",
              "      <td>0.215032</td>\n",
              "      <td>1.000002e+00</td>\n",
              "      <td>1.000002e+00</td>\n",
              "      <td>1.000002e+00</td>\n",
              "      <td>1.000002e+00</td>\n",
              "      <td>1.000002e+00</td>\n",
              "      <td>0.045092</td>\n",
              "      <td>0.016607</td>\n",
              "      <td>0.380171</td>\n",
              "      <td>0.269330</td>\n",
              "      <td>0.0</td>\n",
              "      <td>78522.269707</td>\n",
              "    </tr>\n",
              "    <tr>\n",
              "      <th>min</th>\n",
              "      <td>0.000000</td>\n",
              "      <td>1.836735e-01</td>\n",
              "      <td>0.000000</td>\n",
              "      <td>0.000000</td>\n",
              "      <td>-6.495170e-01</td>\n",
              "      <td>-1.065068e+01</td>\n",
              "      <td>-4.301423e+00</td>\n",
              "      <td>0.000000</td>\n",
              "      <td>0.000000</td>\n",
              "      <td>-1.679804e+00</td>\n",
              "      <td>-1.679801e+00</td>\n",
              "      <td>0.000000</td>\n",
              "      <td>0.000000</td>\n",
              "      <td>0.000000</td>\n",
              "      <td>-1.393880e+01</td>\n",
              "      <td>-1.101543e+00</td>\n",
              "      <td>-4.097612e+00</td>\n",
              "      <td>-3.354150e+00</td>\n",
              "      <td>-2.451505e+00</td>\n",
              "      <td>0.000000</td>\n",
              "      <td>0.000000</td>\n",
              "      <td>0.000000</td>\n",
              "      <td>0.000000</td>\n",
              "      <td>0.0</td>\n",
              "      <td>10000.000000</td>\n",
              "    </tr>\n",
              "    <tr>\n",
              "      <th>25%</th>\n",
              "      <td>0.333333</td>\n",
              "      <td>1.836735e-01</td>\n",
              "      <td>0.255891</td>\n",
              "      <td>0.253968</td>\n",
              "      <td>-4.474130e-01</td>\n",
              "      <td>7.343619e-02</td>\n",
              "      <td>-1.018563e-01</td>\n",
              "      <td>0.769231</td>\n",
              "      <td>0.487179</td>\n",
              "      <td>-7.671842e-01</td>\n",
              "      <td>-7.671828e-01</td>\n",
              "      <td>0.000000</td>\n",
              "      <td>0.000000</td>\n",
              "      <td>0.400000</td>\n",
              "      <td>-7.078082e-01</td>\n",
              "      <td>-1.101543e+00</td>\n",
              "      <td>-7.499121e-01</td>\n",
              "      <td>-6.472500e-01</td>\n",
              "      <td>-1.066788e+00</td>\n",
              "      <td>0.250000</td>\n",
              "      <td>1.000000</td>\n",
              "      <td>1.000000</td>\n",
              "      <td>0.000000</td>\n",
              "      <td>0.0</td>\n",
              "      <td>174600.000000</td>\n",
              "    </tr>\n",
              "    <tr>\n",
              "      <th>50%</th>\n",
              "      <td>0.500000</td>\n",
              "      <td>1.836735e-01</td>\n",
              "      <td>0.517473</td>\n",
              "      <td>0.253968</td>\n",
              "      <td>-4.221500e-01</td>\n",
              "      <td>9.119871e-02</td>\n",
              "      <td>-9.334145e-02</td>\n",
              "      <td>0.769231</td>\n",
              "      <td>0.525641</td>\n",
              "      <td>-1.766658e-01</td>\n",
              "      <td>-1.766649e-01</td>\n",
              "      <td>0.200000</td>\n",
              "      <td>0.000000</td>\n",
              "      <td>0.400000</td>\n",
              "      <td>1.238541e-01</td>\n",
              "      <td>8.797335e-01</td>\n",
              "      <td>-8.037202e-02</td>\n",
              "      <td>-6.472500e-01</td>\n",
              "      <td>3.179285e-01</td>\n",
              "      <td>0.250000</td>\n",
              "      <td>1.000000</td>\n",
              "      <td>1.000000</td>\n",
              "      <td>0.000000</td>\n",
              "      <td>0.0</td>\n",
              "      <td>216500.000000</td>\n",
              "    </tr>\n",
              "    <tr>\n",
              "      <th>75%</th>\n",
              "      <td>0.666667</td>\n",
              "      <td>1.836735e-01</td>\n",
              "      <td>0.749004</td>\n",
              "      <td>0.730159</td>\n",
              "      <td>-1.316256e-01</td>\n",
              "      <td>1.130440e-01</td>\n",
              "      <td>-8.452755e-02</td>\n",
              "      <td>0.769231</td>\n",
              "      <td>0.782051</td>\n",
              "      <td>6.285866e-01</td>\n",
              "      <td>6.285867e-01</td>\n",
              "      <td>0.400000</td>\n",
              "      <td>0.000000</td>\n",
              "      <td>0.800000</td>\n",
              "      <td>7.286993e-01</td>\n",
              "      <td>8.797335e-01</td>\n",
              "      <td>5.891681e-01</td>\n",
              "      <td>7.062001e-01</td>\n",
              "      <td>3.179285e-01</td>\n",
              "      <td>0.250000</td>\n",
              "      <td>1.000000</td>\n",
              "      <td>1.000000</td>\n",
              "      <td>0.000000</td>\n",
              "      <td>0.0</td>\n",
              "      <td>275000.000000</td>\n",
              "    </tr>\n",
              "    <tr>\n",
              "      <th>max</th>\n",
              "      <td>1.000000</td>\n",
              "      <td>1.836735e-01</td>\n",
              "      <td>1.000000</td>\n",
              "      <td>1.000000</td>\n",
              "      <td>3.196774e+00</td>\n",
              "      <td>4.450606e+00</td>\n",
              "      <td>1.065385e+01</td>\n",
              "      <td>1.000000</td>\n",
              "      <td>1.000000</td>\n",
              "      <td>3.044344e+00</td>\n",
              "      <td>3.044342e+00</td>\n",
              "      <td>1.000000</td>\n",
              "      <td>1.000000</td>\n",
              "      <td>1.000000</td>\n",
              "      <td>1.862784e+00</td>\n",
              "      <td>4.842287e+00</td>\n",
              "      <td>2.597788e+00</td>\n",
              "      <td>1.018035e+01</td>\n",
              "      <td>1.416510e+01</td>\n",
              "      <td>1.000000</td>\n",
              "      <td>1.000000</td>\n",
              "      <td>1.000000</td>\n",
              "      <td>1.000000</td>\n",
              "      <td>0.0</td>\n",
              "      <td>461200.000000</td>\n",
              "    </tr>\n",
              "  </tbody>\n",
              "</table>\n",
              "</div>"
            ],
            "text/plain": [
              "                city         state  ...  soldYear     housePrice\n",
              "count  217493.000000  2.174930e+05  ...  217493.0  217493.000000\n",
              "mean        0.529738  1.836735e-01  ...       0.0  229375.185408\n",
              "std         0.225287  8.984223e-13  ...       0.0   78522.269707\n",
              "min         0.000000  1.836735e-01  ...       0.0   10000.000000\n",
              "25%         0.333333  1.836735e-01  ...       0.0  174600.000000\n",
              "50%         0.500000  1.836735e-01  ...       0.0  216500.000000\n",
              "75%         0.666667  1.836735e-01  ...       0.0  275000.000000\n",
              "max         1.000000  1.836735e-01  ...       0.0  461200.000000\n",
              "\n",
              "[8 rows x 25 columns]"
            ]
          },
          "metadata": {},
          "execution_count": 57
        }
      ]
    },
    {
      "cell_type": "code",
      "metadata": {
        "id": "W5LjlefnkOJe"
      },
      "source": [
        "# data.dtypes"
      ],
      "execution_count": null,
      "outputs": []
    },
    {
      "cell_type": "code",
      "metadata": {
        "id": "6rTSUk20g8je"
      },
      "source": [
        "# import numpy as np\n",
        "# iqr = np.quantile(data['housePrice'],0.75) - np.quantile(data['housePrice'],0.25)\n",
        "# lower_out = np.quantile(data['housePrice'],0.25) - 1.5*iqr\n",
        "# higher_out = np.quantile(data['housePrice'],0.75) + 1.5*iqr\n",
        "\n",
        "# data = data[data['housePrice'] < higher_out]\n",
        "# data = data[data['housePrice'] > lower_out]  \n",
        "# data.describe()"
      ],
      "execution_count": null,
      "outputs": []
    },
    {
      "cell_type": "code",
      "metadata": {
        "colab": {
          "base_uri": "https://localhost:8080/"
        },
        "id": "2-PB8PLPSPPK",
        "outputId": "1b592e45-1d2f-46c8-df36-90087ad7c33b"
      },
      "source": [
        "data.shape"
      ],
      "execution_count": null,
      "outputs": [
        {
          "output_type": "execute_result",
          "data": {
            "text/plain": [
              "(217493, 25)"
            ]
          },
          "metadata": {},
          "execution_count": 60
        }
      ]
    },
    {
      "cell_type": "code",
      "metadata": {
        "id": "xJfhNWgaHaWv"
      },
      "source": [
        "X = data.iloc[:, :-1]\n",
        "y = data[\"housePrice\"]"
      ],
      "execution_count": null,
      "outputs": []
    },
    {
      "cell_type": "code",
      "metadata": {
        "colab": {
          "base_uri": "https://localhost:8080/"
        },
        "id": "fzUC5cttHdwQ",
        "outputId": "bb2eed5e-9a48-425e-fd4e-33521f6ca1d4"
      },
      "source": [
        "print(len(X))\n",
        "print(len(y))"
      ],
      "execution_count": null,
      "outputs": [
        {
          "output_type": "stream",
          "name": "stdout",
          "text": [
            "217493\n",
            "217493\n"
          ]
        }
      ]
    },
    {
      "cell_type": "code",
      "metadata": {
        "id": "pG7rZ1H6G2LZ"
      },
      "source": [
        "X_train, X_test, y_train, y_test = train_test_split(X, y, test_size=0.3, random_state=27)"
      ],
      "execution_count": null,
      "outputs": []
    },
    {
      "cell_type": "code",
      "metadata": {
        "id": "yGPM62tsK4xi"
      },
      "source": [
        "X_test, X_val, y_test, y_val = train_test_split(X_test, y_test, test_size=0.3, random_state=27)"
      ],
      "execution_count": null,
      "outputs": []
    },
    {
      "cell_type": "code",
      "metadata": {
        "colab": {
          "base_uri": "https://localhost:8080/"
        },
        "id": "puPjDxAuHS_j",
        "outputId": "c0d673c5-9e31-468d-870d-89a0d1880409"
      },
      "source": [
        "print(len(X_train))\n",
        "print(len(X_test))"
      ],
      "execution_count": null,
      "outputs": [
        {
          "output_type": "stream",
          "name": "stdout",
          "text": [
            "152245\n",
            "45673\n"
          ]
        }
      ]
    },
    {
      "cell_type": "code",
      "metadata": {
        "id": "mGhT5uATH2TF"
      },
      "source": [
        "#rf_model = RandomForestRegressor(max_depth=45)\n",
        "rf_model = RandomForestRegressor(max_depth=23)"
      ],
      "execution_count": null,
      "outputs": []
    },
    {
      "cell_type": "code",
      "metadata": {
        "colab": {
          "base_uri": "https://localhost:8080/"
        },
        "id": "0QP0WEiaILUu",
        "outputId": "2cf93d46-1a53-496c-ea09-d7321724d0ad"
      },
      "source": [
        "rf_model.fit(X_train, y_train)\n"
      ],
      "execution_count": null,
      "outputs": [
        {
          "output_type": "execute_result",
          "data": {
            "text/plain": [
              "RandomForestRegressor(max_depth=22)"
            ]
          },
          "metadata": {},
          "execution_count": 67
        }
      ]
    },
    {
      "cell_type": "code",
      "metadata": {
        "id": "mkoHVL8ZJOWb"
      },
      "source": [
        "y_pred = rf_model.predict(X_test)"
      ],
      "execution_count": null,
      "outputs": []
    },
    {
      "cell_type": "code",
      "metadata": {
        "id": "J3ZNonelWF3B"
      },
      "source": [
        "train_pred = rf_model.predict(X_train)"
      ],
      "execution_count": null,
      "outputs": []
    },
    {
      "cell_type": "code",
      "metadata": {
        "colab": {
          "base_uri": "https://localhost:8080/"
        },
        "id": "J-0uaSnwt4wR",
        "outputId": "749a1465-8456-4e8c-be64-70d124860570"
      },
      "source": [
        "train_r2 = round(r2_score(y_train, train_pred), 3)\n",
        "print(f\"Train R2: {train_r2}\")\n",
        "\n",
        "test_r2 = round(r2_score(y_test, y_pred), 3)\n",
        "print(f\"Test R2: {test_r2}\")"
      ],
      "execution_count": null,
      "outputs": [
        {
          "output_type": "stream",
          "name": "stdout",
          "text": [
            "Train R2: 0.963\n",
            "Test R2: 0.879\n"
          ]
        }
      ]
    },
    {
      "cell_type": "code",
      "metadata": {
        "colab": {
          "base_uri": "https://localhost:8080/",
          "height": 279
        },
        "id": "hh7YhImUWJdY",
        "outputId": "0b98a6fd-f551-4003-e65c-0be9219df24b"
      },
      "source": [
        "plt.scatter(y_train, train_pred, c='w', edgecolors='b')\n",
        "plt.plot(y_train, y_train, c='r')\n",
        "plt.xlabel(f\"Actual House Price\")\n",
        "plt.ylabel(f\"Predicted House Price\")\n",
        "plt.savefig(\"Training Regression Calibration Plot.png\", dpi=300)\n",
        "plt.show()"
      ],
      "execution_count": null,
      "outputs": [
        {
          "output_type": "display_data",
          "data": {
            "image/png": "[encoded data removed]",
            "text/plain": [
              "<Figure size 432x288 with 1 Axes>"
            ]
          },
          "metadata": {
            "needs_background": "light"
          }
        }
      ]
    },
    {
      "cell_type": "code",
      "metadata": {
        "colab": {
          "base_uri": "https://localhost:8080/",
          "height": 279
        },
        "id": "u3CFKhMRIm5U",
        "outputId": "0efddc44-0a7b-4dc3-8d89-83654f708176"
      },
      "source": [
        "plt.scatter(y_test, y_pred, c='w', edgecolors='b')\n",
        "plt.plot(y_test, y_test, c='r')\n",
        "plt.xlabel(f\"Actual House Price\")\n",
        "plt.ylabel(f\"Predicted House Price\")\n",
        "plt.savefig(\"Validation Regression Calibration Plot.png\", dpi=300)\n",
        "plt.show()"
      ],
      "execution_count": null,
      "outputs": [
        {
          "output_type": "display_data",
          "data": {
            "image/png": "[encoded data removed]",
            "text/plain": [
              "<Figure size 432x288 with 1 Axes>"
            ]
          },
          "metadata": {
            "needs_background": "light"
          }
        }
      ]
    },
    {
      "cell_type": "code",
      "metadata": {
        "id": "XwQtRgRtJZYu"
      },
      "source": [
        "test_data = np.array([0.55,\t0.183673,\t0.923261,\t0.215385,\t-0.427413,\t0.074450,\t-0.108367,\t0.8125,\t0.494253,\t-0.006187,\t-0.006187,\t0.4, 0.0,\t1.0,\t-1.726204,\t-1.107412,\t-0.742096,\t0.573321,\t-1.007371,\t0.25,\t1.0,\t0.0,\t0.0,\t0.0])"
      ],
      "execution_count": null,
      "outputs": []
    },
    {
      "cell_type": "code",
      "metadata": {
        "colab": {
          "base_uri": "https://localhost:8080/"
        },
        "id": "sHfh1XJCKdkE",
        "outputId": "d20a3281-e470-4757-e91a-18861823cc3b"
      },
      "source": [
        "rf_model.predict([test_data])"
      ],
      "execution_count": null,
      "outputs": [
        {
          "output_type": "stream",
          "name": "stderr",
          "text": [
            "/usr/local/lib/python3.7/dist-packages/sklearn/base.py:446: UserWarning: X does not have valid feature names, but RandomForestRegressor was fitted with feature names\n",
            "  \"X does not have valid feature names, but\"\n"
          ]
        },
        {
          "output_type": "execute_result",
          "data": {
            "text/plain": [
              "array([180763.5])"
            ]
          },
          "metadata": {},
          "execution_count": 74
        }
      ]
    },
    {
      "cell_type": "code",
      "metadata": {
        "id": "SRZgW4ersT4D",
        "colab": {
          "base_uri": "https://localhost:8080/",
          "height": 443
        },
        "outputId": "d850e253-2e01-465c-8bfb-9bf8a4ed6418"
      },
      "source": [
        "X_train"
      ],
      "execution_count": null,
      "outputs": [
        {
          "output_type": "execute_result",
          "data": {
            "text/html": [
              "<div>\n",
              "<style scoped>\n",
              "    .dataframe tbody tr th:only-of-type {\n",
              "        vertical-align: middle;\n",
              "    }\n",
              "\n",
              "    .dataframe tbody tr th {\n",
              "        vertical-align: top;\n",
              "    }\n",
              "\n",
              "    .dataframe thead th {\n",
              "        text-align: right;\n",
              "    }\n",
              "</style>\n",
              "<table border=\"1\" class=\"dataframe\">\n",
              "  <thead>\n",
              "    <tr style=\"text-align: right;\">\n",
              "      <th></th>\n",
              "      <th>city</th>\n",
              "      <th>state</th>\n",
              "      <th>street</th>\n",
              "      <th>streetSuffix</th>\n",
              "      <th>zip</th>\n",
              "      <th>latitude</th>\n",
              "      <th>longitude</th>\n",
              "      <th>landUseDescription</th>\n",
              "      <th>zoningDescription</th>\n",
              "      <th>lotSizeAcres</th>\n",
              "      <th>lotSizeSquareFeet</th>\n",
              "      <th>lotTopography</th>\n",
              "      <th>condition</th>\n",
              "      <th>architecturalStyle</th>\n",
              "      <th>yearBuilt</th>\n",
              "      <th>totalStories</th>\n",
              "      <th>totalRooms</th>\n",
              "      <th>bedrooms</th>\n",
              "      <th>baths</th>\n",
              "      <th>heating</th>\n",
              "      <th>airConditioning</th>\n",
              "      <th>foundation</th>\n",
              "      <th>fireplace</th>\n",
              "      <th>soldYear</th>\n",
              "    </tr>\n",
              "  </thead>\n",
              "  <tbody>\n",
              "    <tr>\n",
              "      <th>52265</th>\n",
              "      <td>0.333333</td>\n",
              "      <td>0.183673</td>\n",
              "      <td>0.708480</td>\n",
              "      <td>0.253968</td>\n",
              "      <td>-0.112678</td>\n",
              "      <td>0.098366</td>\n",
              "      <td>-0.105545</td>\n",
              "      <td>0.769231</td>\n",
              "      <td>0.974359</td>\n",
              "      <td>-1.142969</td>\n",
              "      <td>-1.142967</td>\n",
              "      <td>0.0</td>\n",
              "      <td>0.00</td>\n",
              "      <td>0.4</td>\n",
              "      <td>0.350671</td>\n",
              "      <td>0.879733</td>\n",
              "      <td>-0.749912</td>\n",
              "      <td>-0.64725</td>\n",
              "      <td>0.317929</td>\n",
              "      <td>0.25</td>\n",
              "      <td>1.0</td>\n",
              "      <td>1.0</td>\n",
              "      <td>0.0</td>\n",
              "      <td>0.0</td>\n",
              "    </tr>\n",
              "    <tr>\n",
              "      <th>7593</th>\n",
              "      <td>0.777778</td>\n",
              "      <td>0.183673</td>\n",
              "      <td>0.764143</td>\n",
              "      <td>0.904762</td>\n",
              "      <td>-0.137941</td>\n",
              "      <td>0.103400</td>\n",
              "      <td>-0.118063</td>\n",
              "      <td>0.230769</td>\n",
              "      <td>0.487179</td>\n",
              "      <td>0.199119</td>\n",
              "      <td>0.199119</td>\n",
              "      <td>0.0</td>\n",
              "      <td>0.75</td>\n",
              "      <td>0.2</td>\n",
              "      <td>-0.934625</td>\n",
              "      <td>0.879733</td>\n",
              "      <td>1.928248</td>\n",
              "      <td>0.70620</td>\n",
              "      <td>0.317929</td>\n",
              "      <td>0.25</td>\n",
              "      <td>1.0</td>\n",
              "      <td>1.0</td>\n",
              "      <td>0.0</td>\n",
              "      <td>0.0</td>\n",
              "    </tr>\n",
              "    <tr>\n",
              "      <th>38329</th>\n",
              "      <td>0.222222</td>\n",
              "      <td>0.183673</td>\n",
              "      <td>0.794422</td>\n",
              "      <td>0.619048</td>\n",
              "      <td>2.558884</td>\n",
              "      <td>0.135918</td>\n",
              "      <td>-0.085029</td>\n",
              "      <td>0.769231</td>\n",
              "      <td>0.487179</td>\n",
              "      <td>1.433839</td>\n",
              "      <td>1.433838</td>\n",
              "      <td>0.0</td>\n",
              "      <td>0.00</td>\n",
              "      <td>0.4</td>\n",
              "      <td>0.199460</td>\n",
              "      <td>-1.101543</td>\n",
              "      <td>-0.080372</td>\n",
              "      <td>0.70620</td>\n",
              "      <td>0.317929</td>\n",
              "      <td>0.25</td>\n",
              "      <td>1.0</td>\n",
              "      <td>1.0</td>\n",
              "      <td>0.0</td>\n",
              "      <td>0.0</td>\n",
              "    </tr>\n",
              "    <tr>\n",
              "      <th>154942</th>\n",
              "      <td>0.833333</td>\n",
              "      <td>0.183673</td>\n",
              "      <td>0.515083</td>\n",
              "      <td>0.222222</td>\n",
              "      <td>-0.226362</td>\n",
              "      <td>0.074818</td>\n",
              "      <td>-0.090003</td>\n",
              "      <td>0.769231</td>\n",
              "      <td>0.487179</td>\n",
              "      <td>1.648573</td>\n",
              "      <td>1.648572</td>\n",
              "      <td>0.0</td>\n",
              "      <td>0.00</td>\n",
              "      <td>0.4</td>\n",
              "      <td>-0.632203</td>\n",
              "      <td>-1.101543</td>\n",
              "      <td>-1.419452</td>\n",
              "      <td>-0.64725</td>\n",
              "      <td>-1.066788</td>\n",
              "      <td>0.25</td>\n",
              "      <td>1.0</td>\n",
              "      <td>0.0</td>\n",
              "      <td>0.0</td>\n",
              "      <td>0.0</td>\n",
              "    </tr>\n",
              "    <tr>\n",
              "      <th>152474</th>\n",
              "      <td>0.777778</td>\n",
              "      <td>0.183673</td>\n",
              "      <td>0.606375</td>\n",
              "      <td>0.222222</td>\n",
              "      <td>-0.137941</td>\n",
              "      <td>0.101866</td>\n",
              "      <td>-0.119874</td>\n",
              "      <td>0.230769</td>\n",
              "      <td>0.487179</td>\n",
              "      <td>0.199119</td>\n",
              "      <td>0.199119</td>\n",
              "      <td>0.2</td>\n",
              "      <td>0.00</td>\n",
              "      <td>0.2</td>\n",
              "      <td>-0.707808</td>\n",
              "      <td>0.879733</td>\n",
              "      <td>-0.080372</td>\n",
              "      <td>0.70620</td>\n",
              "      <td>1.702645</td>\n",
              "      <td>0.25</td>\n",
              "      <td>1.0</td>\n",
              "      <td>1.0</td>\n",
              "      <td>0.0</td>\n",
              "      <td>0.0</td>\n",
              "    </tr>\n",
              "    <tr>\n",
              "      <th>...</th>\n",
              "      <td>...</td>\n",
              "      <td>...</td>\n",
              "      <td>...</td>\n",
              "      <td>...</td>\n",
              "      <td>...</td>\n",
              "      <td>...</td>\n",
              "      <td>...</td>\n",
              "      <td>...</td>\n",
              "      <td>...</td>\n",
              "      <td>...</td>\n",
              "      <td>...</td>\n",
              "      <td>...</td>\n",
              "      <td>...</td>\n",
              "      <td>...</td>\n",
              "      <td>...</td>\n",
              "      <td>...</td>\n",
              "      <td>...</td>\n",
              "      <td>...</td>\n",
              "      <td>...</td>\n",
              "      <td>...</td>\n",
              "      <td>...</td>\n",
              "      <td>...</td>\n",
              "      <td>...</td>\n",
              "      <td>...</td>\n",
              "    </tr>\n",
              "    <tr>\n",
              "      <th>196408</th>\n",
              "      <td>0.500000</td>\n",
              "      <td>0.183673</td>\n",
              "      <td>0.069437</td>\n",
              "      <td>0.222222</td>\n",
              "      <td>-0.441097</td>\n",
              "      <td>0.076645</td>\n",
              "      <td>-0.100671</td>\n",
              "      <td>0.230769</td>\n",
              "      <td>0.974359</td>\n",
              "      <td>-0.767184</td>\n",
              "      <td>-0.767183</td>\n",
              "      <td>0.4</td>\n",
              "      <td>0.00</td>\n",
              "      <td>0.2</td>\n",
              "      <td>-0.254174</td>\n",
              "      <td>0.879733</td>\n",
              "      <td>-0.080372</td>\n",
              "      <td>-0.64725</td>\n",
              "      <td>0.317929</td>\n",
              "      <td>0.25</td>\n",
              "      <td>1.0</td>\n",
              "      <td>1.0</td>\n",
              "      <td>0.0</td>\n",
              "      <td>0.0</td>\n",
              "    </tr>\n",
              "    <tr>\n",
              "      <th>14879</th>\n",
              "      <td>0.777778</td>\n",
              "      <td>0.183673</td>\n",
              "      <td>0.559590</td>\n",
              "      <td>0.142857</td>\n",
              "      <td>-0.137941</td>\n",
              "      <td>0.094836</td>\n",
              "      <td>-0.121046</td>\n",
              "      <td>0.846154</td>\n",
              "      <td>0.974359</td>\n",
              "      <td>-1.089285</td>\n",
              "      <td>-1.089283</td>\n",
              "      <td>0.2</td>\n",
              "      <td>0.00</td>\n",
              "      <td>0.8</td>\n",
              "      <td>-0.254174</td>\n",
              "      <td>0.879733</td>\n",
              "      <td>-2.088992</td>\n",
              "      <td>-0.64725</td>\n",
              "      <td>0.317929</td>\n",
              "      <td>0.25</td>\n",
              "      <td>1.0</td>\n",
              "      <td>1.0</td>\n",
              "      <td>0.0</td>\n",
              "      <td>0.0</td>\n",
              "    </tr>\n",
              "    <tr>\n",
              "      <th>36680</th>\n",
              "      <td>0.500000</td>\n",
              "      <td>0.183673</td>\n",
              "      <td>0.213546</td>\n",
              "      <td>0.222222</td>\n",
              "      <td>-0.441097</td>\n",
              "      <td>0.089597</td>\n",
              "      <td>-0.101876</td>\n",
              "      <td>0.846154</td>\n",
              "      <td>0.833333</td>\n",
              "      <td>-1.572437</td>\n",
              "      <td>-1.572434</td>\n",
              "      <td>0.2</td>\n",
              "      <td>0.00</td>\n",
              "      <td>0.8</td>\n",
              "      <td>-1.463865</td>\n",
              "      <td>0.879733</td>\n",
              "      <td>-1.419452</td>\n",
              "      <td>-0.64725</td>\n",
              "      <td>0.317929</td>\n",
              "      <td>0.25</td>\n",
              "      <td>1.0</td>\n",
              "      <td>1.0</td>\n",
              "      <td>0.0</td>\n",
              "      <td>0.0</td>\n",
              "    </tr>\n",
              "    <tr>\n",
              "      <th>118456</th>\n",
              "      <td>0.555556</td>\n",
              "      <td>0.183673</td>\n",
              "      <td>0.637336</td>\n",
              "      <td>0.571429</td>\n",
              "      <td>-0.422150</td>\n",
              "      <td>-10.650685</td>\n",
              "      <td>10.653853</td>\n",
              "      <td>0.769231</td>\n",
              "      <td>0.487179</td>\n",
              "      <td>0.574903</td>\n",
              "      <td>0.574903</td>\n",
              "      <td>0.2</td>\n",
              "      <td>0.00</td>\n",
              "      <td>1.0</td>\n",
              "      <td>-1.161442</td>\n",
              "      <td>-1.101543</td>\n",
              "      <td>-0.080372</td>\n",
              "      <td>-0.64725</td>\n",
              "      <td>0.317929</td>\n",
              "      <td>0.25</td>\n",
              "      <td>1.0</td>\n",
              "      <td>1.0</td>\n",
              "      <td>0.0</td>\n",
              "      <td>0.0</td>\n",
              "    </tr>\n",
              "    <tr>\n",
              "      <th>5139</th>\n",
              "      <td>0.500000</td>\n",
              "      <td>0.183673</td>\n",
              "      <td>0.036767</td>\n",
              "      <td>0.904762</td>\n",
              "      <td>-0.447413</td>\n",
              "      <td>0.117031</td>\n",
              "      <td>-0.090273</td>\n",
              "      <td>0.769231</td>\n",
              "      <td>0.692308</td>\n",
              "      <td>0.682270</td>\n",
              "      <td>0.682270</td>\n",
              "      <td>0.2</td>\n",
              "      <td>0.00</td>\n",
              "      <td>0.4</td>\n",
              "      <td>-0.102963</td>\n",
              "      <td>0.879733</td>\n",
              "      <td>0.589168</td>\n",
              "      <td>0.70620</td>\n",
              "      <td>0.317929</td>\n",
              "      <td>0.25</td>\n",
              "      <td>1.0</td>\n",
              "      <td>1.0</td>\n",
              "      <td>0.0</td>\n",
              "      <td>0.0</td>\n",
              "    </tr>\n",
              "  </tbody>\n",
              "</table>\n",
              "<p>152245 rows × 24 columns</p>\n",
              "</div>"
            ],
            "text/plain": [
              "            city     state    street  ...  foundation  fireplace  soldYear\n",
              "52265   0.333333  0.183673  0.708480  ...         1.0        0.0       0.0\n",
              "7593    0.777778  0.183673  0.764143  ...         1.0        0.0       0.0\n",
              "38329   0.222222  0.183673  0.794422  ...         1.0        0.0       0.0\n",
              "154942  0.833333  0.183673  0.515083  ...         0.0        0.0       0.0\n",
              "152474  0.777778  0.183673  0.606375  ...         1.0        0.0       0.0\n",
              "...          ...       ...       ...  ...         ...        ...       ...\n",
              "196408  0.500000  0.183673  0.069437  ...         1.0        0.0       0.0\n",
              "14879   0.777778  0.183673  0.559590  ...         1.0        0.0       0.0\n",
              "36680   0.500000  0.183673  0.213546  ...         1.0        0.0       0.0\n",
              "118456  0.555556  0.183673  0.637336  ...         1.0        0.0       0.0\n",
              "5139    0.500000  0.183673  0.036767  ...         1.0        0.0       0.0\n",
              "\n",
              "[152245 rows x 24 columns]"
            ]
          },
          "metadata": {},
          "execution_count": 75
        }
      ]
    },
    {
      "cell_type": "code",
      "metadata": {
        "colab": {
          "base_uri": "https://localhost:8080/",
          "height": 320
        },
        "id": "rKCpp7x3r-Ye",
        "outputId": "e17139c6-cb91-4bfc-fd14-78bfe3d77761"
      },
      "source": [
        "X_train.describe()"
      ],
      "execution_count": null,
      "outputs": [
        {
          "output_type": "execute_result",
          "data": {
            "text/html": [
              "<div>\n",
              "<style scoped>\n",
              "    .dataframe tbody tr th:only-of-type {\n",
              "        vertical-align: middle;\n",
              "    }\n",
              "\n",
              "    .dataframe tbody tr th {\n",
              "        vertical-align: top;\n",
              "    }\n",
              "\n",
              "    .dataframe thead th {\n",
              "        text-align: right;\n",
              "    }\n",
              "</style>\n",
              "<table border=\"1\" class=\"dataframe\">\n",
              "  <thead>\n",
              "    <tr style=\"text-align: right;\">\n",
              "      <th></th>\n",
              "      <th>city</th>\n",
              "      <th>state</th>\n",
              "      <th>street</th>\n",
              "      <th>streetSuffix</th>\n",
              "      <th>zip</th>\n",
              "      <th>latitude</th>\n",
              "      <th>longitude</th>\n",
              "      <th>landUseDescription</th>\n",
              "      <th>zoningDescription</th>\n",
              "      <th>lotSizeAcres</th>\n",
              "      <th>lotSizeSquareFeet</th>\n",
              "      <th>lotTopography</th>\n",
              "      <th>condition</th>\n",
              "      <th>architecturalStyle</th>\n",
              "      <th>yearBuilt</th>\n",
              "      <th>totalStories</th>\n",
              "      <th>totalRooms</th>\n",
              "      <th>bedrooms</th>\n",
              "      <th>baths</th>\n",
              "      <th>heating</th>\n",
              "      <th>airConditioning</th>\n",
              "      <th>foundation</th>\n",
              "      <th>fireplace</th>\n",
              "      <th>soldYear</th>\n",
              "    </tr>\n",
              "  </thead>\n",
              "  <tbody>\n",
              "    <tr>\n",
              "      <th>count</th>\n",
              "      <td>152245.000000</td>\n",
              "      <td>1.522450e+05</td>\n",
              "      <td>152245.000000</td>\n",
              "      <td>152245.000000</td>\n",
              "      <td>152245.000000</td>\n",
              "      <td>152245.000000</td>\n",
              "      <td>152245.000000</td>\n",
              "      <td>152245.000000</td>\n",
              "      <td>152245.000000</td>\n",
              "      <td>152245.000000</td>\n",
              "      <td>152245.000000</td>\n",
              "      <td>152245.000000</td>\n",
              "      <td>152245.000000</td>\n",
              "      <td>152245.000000</td>\n",
              "      <td>152245.000000</td>\n",
              "      <td>152245.000000</td>\n",
              "      <td>152245.000000</td>\n",
              "      <td>152245.000000</td>\n",
              "      <td>152245.000000</td>\n",
              "      <td>152245.000000</td>\n",
              "      <td>152245.000000</td>\n",
              "      <td>152245.000000</td>\n",
              "      <td>152245.00000</td>\n",
              "      <td>152245.0</td>\n",
              "    </tr>\n",
              "    <tr>\n",
              "      <th>mean</th>\n",
              "      <td>0.529684</td>\n",
              "      <td>1.836735e-01</td>\n",
              "      <td>0.507314</td>\n",
              "      <td>0.463617</td>\n",
              "      <td>0.001305</td>\n",
              "      <td>0.001166</td>\n",
              "      <td>-0.001146</td>\n",
              "      <td>0.748015</td>\n",
              "      <td>0.639802</td>\n",
              "      <td>-0.000466</td>\n",
              "      <td>-0.000466</td>\n",
              "      <td>0.232354</td>\n",
              "      <td>0.058077</td>\n",
              "      <td>0.528557</td>\n",
              "      <td>0.001763</td>\n",
              "      <td>0.001905</td>\n",
              "      <td>0.001035</td>\n",
              "      <td>0.004081</td>\n",
              "      <td>0.000893</td>\n",
              "      <td>0.252640</td>\n",
              "      <td>0.999750</td>\n",
              "      <td>0.824789</td>\n",
              "      <td>0.07861</td>\n",
              "      <td>0.0</td>\n",
              "    </tr>\n",
              "    <tr>\n",
              "      <th>std</th>\n",
              "      <td>0.225279</td>\n",
              "      <td>5.834519e-13</td>\n",
              "      <td>0.287822</td>\n",
              "      <td>0.292860</td>\n",
              "      <td>1.001413</td>\n",
              "      <td>0.993933</td>\n",
              "      <td>0.993926</td>\n",
              "      <td>0.111755</td>\n",
              "      <td>0.185717</td>\n",
              "      <td>1.000896</td>\n",
              "      <td>1.000896</td>\n",
              "      <td>0.199799</td>\n",
              "      <td>0.196600</td>\n",
              "      <td>0.214977</td>\n",
              "      <td>1.000407</td>\n",
              "      <td>1.000386</td>\n",
              "      <td>1.000393</td>\n",
              "      <td>1.001089</td>\n",
              "      <td>1.001591</td>\n",
              "      <td>0.045093</td>\n",
              "      <td>0.015797</td>\n",
              "      <td>0.380149</td>\n",
              "      <td>0.26913</td>\n",
              "      <td>0.0</td>\n",
              "    </tr>\n",
              "    <tr>\n",
              "      <th>min</th>\n",
              "      <td>0.000000</td>\n",
              "      <td>1.836735e-01</td>\n",
              "      <td>0.000000</td>\n",
              "      <td>0.000000</td>\n",
              "      <td>-0.649517</td>\n",
              "      <td>-10.650685</td>\n",
              "      <td>-4.301423</td>\n",
              "      <td>0.000000</td>\n",
              "      <td>0.000000</td>\n",
              "      <td>-1.679804</td>\n",
              "      <td>-1.679801</td>\n",
              "      <td>0.000000</td>\n",
              "      <td>0.000000</td>\n",
              "      <td>0.000000</td>\n",
              "      <td>-13.938799</td>\n",
              "      <td>-1.101543</td>\n",
              "      <td>-4.097612</td>\n",
              "      <td>-3.354150</td>\n",
              "      <td>-2.451505</td>\n",
              "      <td>0.000000</td>\n",
              "      <td>0.000000</td>\n",
              "      <td>0.000000</td>\n",
              "      <td>0.00000</td>\n",
              "      <td>0.0</td>\n",
              "    </tr>\n",
              "    <tr>\n",
              "      <th>25%</th>\n",
              "      <td>0.333333</td>\n",
              "      <td>1.836735e-01</td>\n",
              "      <td>0.256915</td>\n",
              "      <td>0.253968</td>\n",
              "      <td>-0.447413</td>\n",
              "      <td>0.073455</td>\n",
              "      <td>-0.101829</td>\n",
              "      <td>0.769231</td>\n",
              "      <td>0.487179</td>\n",
              "      <td>-0.767184</td>\n",
              "      <td>-0.767183</td>\n",
              "      <td>0.000000</td>\n",
              "      <td>0.000000</td>\n",
              "      <td>0.400000</td>\n",
              "      <td>-0.707808</td>\n",
              "      <td>-1.101543</td>\n",
              "      <td>-0.749912</td>\n",
              "      <td>-0.647250</td>\n",
              "      <td>-1.066788</td>\n",
              "      <td>0.250000</td>\n",
              "      <td>1.000000</td>\n",
              "      <td>1.000000</td>\n",
              "      <td>0.00000</td>\n",
              "      <td>0.0</td>\n",
              "    </tr>\n",
              "    <tr>\n",
              "      <th>50%</th>\n",
              "      <td>0.500000</td>\n",
              "      <td>1.836735e-01</td>\n",
              "      <td>0.517928</td>\n",
              "      <td>0.253968</td>\n",
              "      <td>-0.422150</td>\n",
              "      <td>0.091176</td>\n",
              "      <td>-0.093321</td>\n",
              "      <td>0.769231</td>\n",
              "      <td>0.525641</td>\n",
              "      <td>-0.176666</td>\n",
              "      <td>-0.176665</td>\n",
              "      <td>0.200000</td>\n",
              "      <td>0.000000</td>\n",
              "      <td>0.400000</td>\n",
              "      <td>0.123854</td>\n",
              "      <td>0.879733</td>\n",
              "      <td>-0.080372</td>\n",
              "      <td>-0.647250</td>\n",
              "      <td>0.317929</td>\n",
              "      <td>0.250000</td>\n",
              "      <td>1.000000</td>\n",
              "      <td>1.000000</td>\n",
              "      <td>0.00000</td>\n",
              "      <td>0.0</td>\n",
              "    </tr>\n",
              "    <tr>\n",
              "      <th>75%</th>\n",
              "      <td>0.666667</td>\n",
              "      <td>1.836735e-01</td>\n",
              "      <td>0.749345</td>\n",
              "      <td>0.730159</td>\n",
              "      <td>-0.131626</td>\n",
              "      <td>0.113071</td>\n",
              "      <td>-0.084550</td>\n",
              "      <td>0.769231</td>\n",
              "      <td>0.782051</td>\n",
              "      <td>0.628587</td>\n",
              "      <td>0.628587</td>\n",
              "      <td>0.400000</td>\n",
              "      <td>0.000000</td>\n",
              "      <td>0.800000</td>\n",
              "      <td>0.728699</td>\n",
              "      <td>0.879733</td>\n",
              "      <td>0.589168</td>\n",
              "      <td>0.706200</td>\n",
              "      <td>0.317929</td>\n",
              "      <td>0.250000</td>\n",
              "      <td>1.000000</td>\n",
              "      <td>1.000000</td>\n",
              "      <td>0.00000</td>\n",
              "      <td>0.0</td>\n",
              "    </tr>\n",
              "    <tr>\n",
              "      <th>max</th>\n",
              "      <td>1.000000</td>\n",
              "      <td>1.836735e-01</td>\n",
              "      <td>1.000000</td>\n",
              "      <td>1.000000</td>\n",
              "      <td>3.196774</td>\n",
              "      <td>4.450606</td>\n",
              "      <td>10.653853</td>\n",
              "      <td>1.000000</td>\n",
              "      <td>1.000000</td>\n",
              "      <td>3.044344</td>\n",
              "      <td>3.044342</td>\n",
              "      <td>1.000000</td>\n",
              "      <td>1.000000</td>\n",
              "      <td>1.000000</td>\n",
              "      <td>1.862784</td>\n",
              "      <td>4.842287</td>\n",
              "      <td>2.597788</td>\n",
              "      <td>7.473450</td>\n",
              "      <td>14.165098</td>\n",
              "      <td>1.000000</td>\n",
              "      <td>1.000000</td>\n",
              "      <td>1.000000</td>\n",
              "      <td>1.00000</td>\n",
              "      <td>0.0</td>\n",
              "    </tr>\n",
              "  </tbody>\n",
              "</table>\n",
              "</div>"
            ],
            "text/plain": [
              "                city         state  ...     fireplace  soldYear\n",
              "count  152245.000000  1.522450e+05  ...  152245.00000  152245.0\n",
              "mean        0.529684  1.836735e-01  ...       0.07861       0.0\n",
              "std         0.225279  5.834519e-13  ...       0.26913       0.0\n",
              "min         0.000000  1.836735e-01  ...       0.00000       0.0\n",
              "25%         0.333333  1.836735e-01  ...       0.00000       0.0\n",
              "50%         0.500000  1.836735e-01  ...       0.00000       0.0\n",
              "75%         0.666667  1.836735e-01  ...       0.00000       0.0\n",
              "max         1.000000  1.836735e-01  ...       1.00000       0.0\n",
              "\n",
              "[8 rows x 24 columns]"
            ]
          },
          "metadata": {},
          "execution_count": 76
        }
      ]
    },
    {
      "cell_type": "code",
      "metadata": {
        "id": "KfoHKFW0Mbm5",
        "colab": {
          "base_uri": "https://localhost:8080/"
        },
        "outputId": "9f9094e6-c6ab-4675-d643-e6ecfcbb23b4"
      },
      "source": [
        "for i in range(20):\n",
        "  test_data = X_val.iloc[i]\n",
        "  pred = rf_model.predict([test_data])\n",
        "  print(pred)\n",
        "  print(f\"{y_val.iloc[i]}\\n\")"
      ],
      "execution_count": null,
      "outputs": [
        {
          "output_type": "stream",
          "name": "stderr",
          "text": [
            "/usr/local/lib/python3.7/dist-packages/sklearn/base.py:446: UserWarning: X does not have valid feature names, but RandomForestRegressor was fitted with feature names\n",
            "  \"X does not have valid feature names, but\"\n",
            "/usr/local/lib/python3.7/dist-packages/sklearn/base.py:446: UserWarning: X does not have valid feature names, but RandomForestRegressor was fitted with feature names\n",
            "  \"X does not have valid feature names, but\"\n",
            "/usr/local/lib/python3.7/dist-packages/sklearn/base.py:446: UserWarning: X does not have valid feature names, but RandomForestRegressor was fitted with feature names\n",
            "  \"X does not have valid feature names, but\"\n",
            "/usr/local/lib/python3.7/dist-packages/sklearn/base.py:446: UserWarning: X does not have valid feature names, but RandomForestRegressor was fitted with feature names\n",
            "  \"X does not have valid feature names, but\"\n",
            "/usr/local/lib/python3.7/dist-packages/sklearn/base.py:446: UserWarning: X does not have valid feature names, but RandomForestRegressor was fitted with feature names\n",
            "  \"X does not have valid feature names, but\"\n",
            "/usr/local/lib/python3.7/dist-packages/sklearn/base.py:446: UserWarning: X does not have valid feature names, but RandomForestRegressor was fitted with feature names\n",
            "  \"X does not have valid feature names, but\"\n",
            "/usr/local/lib/python3.7/dist-packages/sklearn/base.py:446: UserWarning: X does not have valid feature names, but RandomForestRegressor was fitted with feature names\n",
            "  \"X does not have valid feature names, but\"\n",
            "/usr/local/lib/python3.7/dist-packages/sklearn/base.py:446: UserWarning: X does not have valid feature names, but RandomForestRegressor was fitted with feature names\n",
            "  \"X does not have valid feature names, but\"\n",
            "/usr/local/lib/python3.7/dist-packages/sklearn/base.py:446: UserWarning: X does not have valid feature names, but RandomForestRegressor was fitted with feature names\n",
            "  \"X does not have valid feature names, but\"\n",
            "/usr/local/lib/python3.7/dist-packages/sklearn/base.py:446: UserWarning: X does not have valid feature names, but RandomForestRegressor was fitted with feature names\n",
            "  \"X does not have valid feature names, but\"\n",
            "/usr/local/lib/python3.7/dist-packages/sklearn/base.py:446: UserWarning: X does not have valid feature names, but RandomForestRegressor was fitted with feature names\n",
            "  \"X does not have valid feature names, but\"\n",
            "/usr/local/lib/python3.7/dist-packages/sklearn/base.py:446: UserWarning: X does not have valid feature names, but RandomForestRegressor was fitted with feature names\n",
            "  \"X does not have valid feature names, but\"\n"
          ]
        },
        {
          "output_type": "stream",
          "name": "stdout",
          "text": [
            "[269364.22901084]\n",
            "260300\n",
            "\n",
            "[156527.44929657]\n",
            "154600\n",
            "\n",
            "[152087.69192131]\n",
            "159100\n",
            "\n",
            "[293369.52797203]\n",
            "294500\n",
            "\n",
            "[138579.75324814]\n",
            "184500\n",
            "\n",
            "[322538.]\n",
            "313600\n",
            "\n",
            "[156353.06928992]\n",
            "164600\n",
            "\n",
            "[201813.03711209]\n",
            "189300\n",
            "\n",
            "[159578.10597358]\n",
            "146400\n",
            "\n",
            "[199135.27302532]\n",
            "189400\n",
            "\n",
            "[197700.74912532]\n",
            "128500\n",
            "\n",
            "[187965.07680866]\n",
            "182900\n",
            "\n",
            "[288829.86774438]\n",
            "275200\n",
            "\n",
            "[300351.45269706]\n",
            "335900\n",
            "\n",
            "[247150.52358517]\n",
            "262600\n",
            "\n",
            "[319668.6169682]\n",
            "314600\n",
            "\n",
            "[204279.64133799]\n",
            "206700\n",
            "\n",
            "[193915.51701936]\n",
            "192900\n",
            "\n",
            "[130822.46825225]\n",
            "112200\n",
            "\n",
            "[355601.96290385]\n",
            "331600\n",
            "\n"
          ]
        },
        {
          "output_type": "stream",
          "name": "stderr",
          "text": [
            "/usr/local/lib/python3.7/dist-packages/sklearn/base.py:446: UserWarning: X does not have valid feature names, but RandomForestRegressor was fitted with feature names\n",
            "  \"X does not have valid feature names, but\"\n",
            "/usr/local/lib/python3.7/dist-packages/sklearn/base.py:446: UserWarning: X does not have valid feature names, but RandomForestRegressor was fitted with feature names\n",
            "  \"X does not have valid feature names, but\"\n",
            "/usr/local/lib/python3.7/dist-packages/sklearn/base.py:446: UserWarning: X does not have valid feature names, but RandomForestRegressor was fitted with feature names\n",
            "  \"X does not have valid feature names, but\"\n",
            "/usr/local/lib/python3.7/dist-packages/sklearn/base.py:446: UserWarning: X does not have valid feature names, but RandomForestRegressor was fitted with feature names\n",
            "  \"X does not have valid feature names, but\"\n",
            "/usr/local/lib/python3.7/dist-packages/sklearn/base.py:446: UserWarning: X does not have valid feature names, but RandomForestRegressor was fitted with feature names\n",
            "  \"X does not have valid feature names, but\"\n",
            "/usr/local/lib/python3.7/dist-packages/sklearn/base.py:446: UserWarning: X does not have valid feature names, but RandomForestRegressor was fitted with feature names\n",
            "  \"X does not have valid feature names, but\"\n",
            "/usr/local/lib/python3.7/dist-packages/sklearn/base.py:446: UserWarning: X does not have valid feature names, but RandomForestRegressor was fitted with feature names\n",
            "  \"X does not have valid feature names, but\"\n",
            "/usr/local/lib/python3.7/dist-packages/sklearn/base.py:446: UserWarning: X does not have valid feature names, but RandomForestRegressor was fitted with feature names\n",
            "  \"X does not have valid feature names, but\"\n"
          ]
        }
      ]
    },
    {
      "cell_type": "code",
      "metadata": {
        "colab": {
          "base_uri": "https://localhost:8080/"
        },
        "id": "NdtIbPrgKiIs",
        "outputId": "fa6dbdec-daca-46ad-d4d1-b3c0d92120c3"
      },
      "source": [
        "test_data = X_val.iloc[9]\n",
        "print(test_data)"
      ],
      "execution_count": null,
      "outputs": [
        {
          "output_type": "stream",
          "name": "stdout",
          "text": [
            "city                  0.555556\n",
            "state                 0.183673\n",
            "street                0.130222\n",
            "streetSuffix          0.984127\n",
            "zip                  -0.422150\n",
            "latitude              0.070269\n",
            "longitude            -0.101630\n",
            "landUseDescription    0.769231\n",
            "zoningDescription     0.487179\n",
            "lotSizeAcres          0.467536\n",
            "lotSizeSquareFeet     0.467536\n",
            "lotTopography         0.000000\n",
            "condition             0.000000\n",
            "architecturalStyle    1.000000\n",
            "yearBuilt            -1.841893\n",
            "totalStories         -1.101543\n",
            "totalRooms           -0.080372\n",
            "bedrooms             -0.647250\n",
            "baths                -1.066788\n",
            "heating               0.250000\n",
            "airConditioning       1.000000\n",
            "foundation            1.000000\n",
            "fireplace             0.000000\n",
            "soldYear              0.000000\n",
            "Name: 54916, dtype: float64\n"
          ]
        }
      ]
    },
    {
      "cell_type": "code",
      "metadata": {
        "colab": {
          "base_uri": "https://localhost:8080/"
        },
        "id": "TnQXOGC6LrYV",
        "outputId": "e7253d0d-0aa8-47c3-e0bb-b7c765351d5f"
      },
      "source": [
        "test_label = y_val.iloc[5]\n",
        "print(test_label)"
      ],
      "execution_count": null,
      "outputs": [
        {
          "output_type": "stream",
          "name": "stdout",
          "text": [
            "313600\n"
          ]
        }
      ]
    },
    {
      "cell_type": "code",
      "metadata": {
        "id": "om4ZtS3pL6bV"
      },
      "source": [
        "city = \"Lilburn\"\n",
        "state = \"GA\"\n",
        "street = \"Rockbridge\"\n",
        "streetSuffix = \"Rd\"\n",
        "zip\t= 30047\n",
        "latitude = 33.86\n",
        "longitude =\t-84.1462\n",
        "landUseDescription = \"Single Family Residential\" \n",
        "zoningDescription = \"R100-Single Family Residence\"\n",
        "lotSizeSquareFeet =\t18295.2\n",
        "lotSizeAcres = 0.42\n",
        "lotTopography = \"Level Grade\"\n",
        "condition\t= \"Average\"\n",
        "architecturalStyle = \"Others\" \n",
        "yearBuilt\t= 1979\n",
        "totalStories = 1\n",
        "totalRooms = 8\n",
        "bedrooms = 3\n",
        "baths = 2\n",
        "heating = \"Forced air\"\n",
        "airConditioning = \"Yes\"\n",
        "foundation = \"Crawl Space/Raised\"\n",
        "fireplace = \"Masonry\"\n",
        "soldYear = 2021"
      ],
      "execution_count": null,
      "outputs": []
    },
    {
      "cell_type": "code",
      "metadata": {
        "id": "i4AwWoYDi3Ty"
      },
      "source": [
        "input_features = [\"Lilburn\", \"GA\", \"Rockbridge\", \"Rd\", 30047, 33.86, -84.1462, \"Single Family Residential\", \"R100-Single Family Residence\", \n",
        "18295.2, 0.42, \"Level Grade\", \"Average\", \"Others\", 1979, 1, 8, 3, 2, \"Forced air\", \"Yes\", \"Crawl Space/Raised\", \"Masonry\", 2021]"
      ],
      "execution_count": null,
      "outputs": []
    },
    {
      "cell_type": "code",
      "metadata": {
        "id": "iS7c9iu0ddO8"
      },
      "source": [
        "import json\n",
        "\n",
        "file_path = \"/content/drive/MyDrive/[LATEST] Manish New Data/encodings_database.json\"\n",
        "file = open(file_path, \"r\")\n",
        "encodings_database = json.load(file)"
      ],
      "execution_count": null,
      "outputs": []
    },
    {
      "cell_type": "code",
      "metadata": {
        "id": "VJxNOYY4I0pg"
      },
      "source": [
        "test_data = pd.read_csv(\"/content/drive/MyDrive/[LATEST] Manish New Data/test_data.csv\")"
      ],
      "execution_count": null,
      "outputs": []
    },
    {
      "cell_type": "code",
      "metadata": {
        "id": "DOTxdyrjI1ZY"
      },
      "source": [
        "user_data = test_data.iloc[:1, :]"
      ],
      "execution_count": null,
      "outputs": []
    },
    {
      "cell_type": "code",
      "metadata": {
        "colab": {
          "base_uri": "https://localhost:8080/",
          "height": 118
        },
        "id": "MiGTu7VsUT25",
        "outputId": "5dafc18b-250e-4d75-b810-0fd94a1ddbae"
      },
      "source": [
        "user_data"
      ],
      "execution_count": null,
      "outputs": [
        {
          "output_type": "execute_result",
          "data": {
            "text/html": [
              "<div>\n",
              "<style scoped>\n",
              "    .dataframe tbody tr th:only-of-type {\n",
              "        vertical-align: middle;\n",
              "    }\n",
              "\n",
              "    .dataframe tbody tr th {\n",
              "        vertical-align: top;\n",
              "    }\n",
              "\n",
              "    .dataframe thead th {\n",
              "        text-align: right;\n",
              "    }\n",
              "</style>\n",
              "<table border=\"1\" class=\"dataframe\">\n",
              "  <thead>\n",
              "    <tr style=\"text-align: right;\">\n",
              "      <th></th>\n",
              "      <th>city</th>\n",
              "      <th>state</th>\n",
              "      <th>street</th>\n",
              "      <th>streetSuffix</th>\n",
              "      <th>zip</th>\n",
              "      <th>latitude</th>\n",
              "      <th>longitude</th>\n",
              "      <th>landUseDescription</th>\n",
              "      <th>zoningDescription</th>\n",
              "      <th>lotSizeAcres</th>\n",
              "      <th>lotSizeSquareFeet</th>\n",
              "      <th>lotTopography</th>\n",
              "      <th>condition</th>\n",
              "      <th>architecturalStyle</th>\n",
              "      <th>yearBuilt</th>\n",
              "      <th>totalStories</th>\n",
              "      <th>totalRooms</th>\n",
              "      <th>bedrooms</th>\n",
              "      <th>baths</th>\n",
              "      <th>heating</th>\n",
              "      <th>airConditioning</th>\n",
              "      <th>foundation</th>\n",
              "      <th>fireplace</th>\n",
              "      <th>soldYear</th>\n",
              "    </tr>\n",
              "  </thead>\n",
              "  <tbody>\n",
              "    <tr>\n",
              "      <th>0</th>\n",
              "      <td>Lilburn</td>\n",
              "      <td>GA</td>\n",
              "      <td>Village Green</td>\n",
              "      <td>Ct</td>\n",
              "      <td>30047</td>\n",
              "      <td>33.873543</td>\n",
              "      <td>-84.117197</td>\n",
              "      <td>Single Family Residential</td>\n",
              "      <td>R100-Single Family Residence</td>\n",
              "      <td>0.46</td>\n",
              "      <td>20037.6</td>\n",
              "      <td>Low Elevation</td>\n",
              "      <td>Average</td>\n",
              "      <td>Ranch/Rambler</td>\n",
              "      <td>1971</td>\n",
              "      <td>1</td>\n",
              "      <td>6</td>\n",
              "      <td>4</td>\n",
              "      <td>2</td>\n",
              "      <td>Forced air</td>\n",
              "      <td>Yes</td>\n",
              "      <td>Crawl Space/Raised</td>\n",
              "      <td>Masonry</td>\n",
              "      <td>2021</td>\n",
              "    </tr>\n",
              "  </tbody>\n",
              "</table>\n",
              "</div>"
            ],
            "text/plain": [
              "      city state         street  ...          foundation  fireplace  soldYear\n",
              "0  Lilburn    GA  Village Green  ...  Crawl Space/Raised    Masonry      2021\n",
              "\n",
              "[1 rows x 24 columns]"
            ]
          },
          "metadata": {},
          "execution_count": 85
        }
      ]
    },
    {
      "cell_type": "code",
      "metadata": {
        "id": "JmB5HxXjIe5h"
      },
      "source": [
        "categorical_cols = [\"city\", \"state\", \"street\", \"streetSuffix\", \"landUseDescription\", \"zoningDescription\", \"lotTopography\", \"architecturalStyle\", \"condition\", \"heating\", \"airConditioning\",\t\"foundation\", \"fireplace\"]\n",
        "numerical_cols = [\"zip\", \"latitude\", \"longitude\", \"lotSizeAcres\",\t\"lotSizeSquareFeet\",\t\"yearBuilt\",\t\"totalStories\",\t\"totalRooms\",\t\"bedrooms\",\t\"baths\", \"soldYear\"]"
      ],
      "execution_count": null,
      "outputs": []
    },
    {
      "cell_type": "code",
      "metadata": {
        "colab": {
          "base_uri": "https://localhost:8080/"
        },
        "id": "GbB1sI9yUPpH",
        "outputId": "7b3c2ae3-79fd-43ad-eb4e-7b3fd2412346"
      },
      "source": [
        "user_data[\"city\"]"
      ],
      "execution_count": null,
      "outputs": [
        {
          "output_type": "execute_result",
          "data": {
            "text/plain": [
              "0    Lilburn\n",
              "Name: city, dtype: object"
            ]
          },
          "metadata": {},
          "execution_count": 87
        }
      ]
    },
    {
      "cell_type": "code",
      "metadata": {
        "colab": {
          "base_uri": "https://localhost:8080/"
        },
        "id": "2IY_IoCygvfe",
        "outputId": "a21d733c-51b2-447c-dba9-92ab9ef56c0c"
      },
      "source": [
        "for i, name in enumerate(categorical_cols):\n",
        "  user_data[name] = encodings_database[name][user_data[name].values[0].lower()]"
      ],
      "execution_count": null,
      "outputs": [
        {
          "output_type": "stream",
          "name": "stderr",
          "text": [
            "/usr/local/lib/python3.7/dist-packages/ipykernel_launcher.py:2: SettingWithCopyWarning: \n",
            "A value is trying to be set on a copy of a slice from a DataFrame.\n",
            "Try using .loc[row_indexer,col_indexer] = value instead\n",
            "\n",
            "See the caveats in the documentation: https://pandas.pydata.org/pandas-docs/stable/user_guide/indexing.html#returning-a-view-versus-a-copy\n",
            "  \n"
          ]
        }
      ]
    },
    {
      "cell_type": "code",
      "metadata": {
        "colab": {
          "base_uri": "https://localhost:8080/",
          "height": 101
        },
        "id": "XdeUUPfHcVyi",
        "outputId": "4d48d844-78e4-4d30-f155-a6bbf76794ce"
      },
      "source": [
        "user_data"
      ],
      "execution_count": null,
      "outputs": [
        {
          "output_type": "execute_result",
          "data": {
            "text/html": [
              "<div>\n",
              "<style scoped>\n",
              "    .dataframe tbody tr th:only-of-type {\n",
              "        vertical-align: middle;\n",
              "    }\n",
              "\n",
              "    .dataframe tbody tr th {\n",
              "        vertical-align: top;\n",
              "    }\n",
              "\n",
              "    .dataframe thead th {\n",
              "        text-align: right;\n",
              "    }\n",
              "</style>\n",
              "<table border=\"1\" class=\"dataframe\">\n",
              "  <thead>\n",
              "    <tr style=\"text-align: right;\">\n",
              "      <th></th>\n",
              "      <th>city</th>\n",
              "      <th>state</th>\n",
              "      <th>street</th>\n",
              "      <th>streetSuffix</th>\n",
              "      <th>zip</th>\n",
              "      <th>latitude</th>\n",
              "      <th>longitude</th>\n",
              "      <th>landUseDescription</th>\n",
              "      <th>zoningDescription</th>\n",
              "      <th>lotSizeAcres</th>\n",
              "      <th>lotSizeSquareFeet</th>\n",
              "      <th>lotTopography</th>\n",
              "      <th>condition</th>\n",
              "      <th>architecturalStyle</th>\n",
              "      <th>yearBuilt</th>\n",
              "      <th>totalStories</th>\n",
              "      <th>totalRooms</th>\n",
              "      <th>bedrooms</th>\n",
              "      <th>baths</th>\n",
              "      <th>heating</th>\n",
              "      <th>airConditioning</th>\n",
              "      <th>foundation</th>\n",
              "      <th>fireplace</th>\n",
              "      <th>soldYear</th>\n",
              "    </tr>\n",
              "  </thead>\n",
              "  <tbody>\n",
              "    <tr>\n",
              "      <th>0</th>\n",
              "      <td>11</td>\n",
              "      <td>9</td>\n",
              "      <td>8470</td>\n",
              "      <td>14</td>\n",
              "      <td>30047</td>\n",
              "      <td>33.873543</td>\n",
              "      <td>-84.117197</td>\n",
              "      <td>13</td>\n",
              "      <td>43</td>\n",
              "      <td>0.46</td>\n",
              "      <td>20037.6</td>\n",
              "      <td>2</td>\n",
              "      <td>0</td>\n",
              "      <td>5</td>\n",
              "      <td>1971</td>\n",
              "      <td>1</td>\n",
              "      <td>6</td>\n",
              "      <td>4</td>\n",
              "      <td>2</td>\n",
              "      <td>1</td>\n",
              "      <td>1</td>\n",
              "      <td>0</td>\n",
              "      <td>0</td>\n",
              "      <td>2021</td>\n",
              "    </tr>\n",
              "  </tbody>\n",
              "</table>\n",
              "</div>"
            ],
            "text/plain": [
              "   city  state  street  ...  foundation  fireplace  soldYear\n",
              "0    11      9    8470  ...           0          0      2021\n",
              "\n",
              "[1 rows x 24 columns]"
            ]
          },
          "metadata": {},
          "execution_count": 89
        }
      ]
    },
    {
      "cell_type": "markdown",
      "metadata": {
        "id": "t7hEE4YtFVZU"
      },
      "source": [
        "We simluate the integration with frontend, assuming that the user data is present in the CSV file."
      ]
    },
    {
      "cell_type": "code",
      "metadata": {
        "id": "PTVu4CEVFBla"
      },
      "source": [
        "filename = \"/content/drive/MyDrive/[LATEST] Manish New Data/minMaxScalar.joblib\"\n",
        "minMaxScalar = load(filename)"
      ],
      "execution_count": null,
      "outputs": []
    },
    {
      "cell_type": "code",
      "metadata": {
        "colab": {
          "base_uri": "https://localhost:8080/"
        },
        "id": "xFWwiueVanbY",
        "outputId": "9570ffb3-259f-4c62-ada4-6b1d00dc1a24"
      },
      "source": [
        "categorical_cols"
      ],
      "execution_count": null,
      "outputs": [
        {
          "output_type": "execute_result",
          "data": {
            "text/plain": [
              "['city',\n",
              " 'state',\n",
              " 'street',\n",
              " 'streetSuffix',\n",
              " 'landUseDescription',\n",
              " 'zoningDescription',\n",
              " 'lotTopography',\n",
              " 'architecturalStyle',\n",
              " 'condition',\n",
              " 'heating',\n",
              " 'airConditioning',\n",
              " 'foundation',\n",
              " 'fireplace']"
            ]
          },
          "metadata": {},
          "execution_count": 91
        }
      ]
    },
    {
      "cell_type": "code",
      "metadata": {
        "id": "W8BWAq0acBTY"
      },
      "source": [
        "user_data = user_data.apply(pd.to_numeric, errors=\"coerce\")"
      ],
      "execution_count": null,
      "outputs": []
    },
    {
      "cell_type": "code",
      "metadata": {
        "id": "tyq4W-q8GOAK"
      },
      "source": [
        "# NORMALIZATION:\n",
        "# Now we will be using MinMax Scalar for the Categorical Features\n",
        "categorical_cols.remove(\"state\")\n",
        "categorical_data = user_data[categorical_cols]\n",
        "\n",
        "user_data[categorical_cols] = minMaxScalar.transform(categorical_data)"
      ],
      "execution_count": null,
      "outputs": []
    },
    {
      "cell_type": "code",
      "metadata": {
        "id": "TK_T1_UZeLnp"
      },
      "source": [
        "user_data[\"state\"] = user_data[\"state\"]/49  # For state: Min: 0, Max: 49"
      ],
      "execution_count": null,
      "outputs": []
    },
    {
      "cell_type": "code",
      "metadata": {
        "colab": {
          "base_uri": "https://localhost:8080/",
          "height": 101
        },
        "id": "ZiITOWsZeNlh",
        "outputId": "5a0d77a2-c2b1-498d-8697-5837e461c8e3"
      },
      "source": [
        "user_data"
      ],
      "execution_count": null,
      "outputs": [
        {
          "output_type": "execute_result",
          "data": {
            "text/html": [
              "<div>\n",
              "<style scoped>\n",
              "    .dataframe tbody tr th:only-of-type {\n",
              "        vertical-align: middle;\n",
              "    }\n",
              "\n",
              "    .dataframe tbody tr th {\n",
              "        vertical-align: top;\n",
              "    }\n",
              "\n",
              "    .dataframe thead th {\n",
              "        text-align: right;\n",
              "    }\n",
              "</style>\n",
              "<table border=\"1\" class=\"dataframe\">\n",
              "  <thead>\n",
              "    <tr style=\"text-align: right;\">\n",
              "      <th></th>\n",
              "      <th>city</th>\n",
              "      <th>state</th>\n",
              "      <th>street</th>\n",
              "      <th>streetSuffix</th>\n",
              "      <th>zip</th>\n",
              "      <th>latitude</th>\n",
              "      <th>longitude</th>\n",
              "      <th>landUseDescription</th>\n",
              "      <th>zoningDescription</th>\n",
              "      <th>lotSizeAcres</th>\n",
              "      <th>lotSizeSquareFeet</th>\n",
              "      <th>lotTopography</th>\n",
              "      <th>condition</th>\n",
              "      <th>architecturalStyle</th>\n",
              "      <th>yearBuilt</th>\n",
              "      <th>totalStories</th>\n",
              "      <th>totalRooms</th>\n",
              "      <th>bedrooms</th>\n",
              "      <th>baths</th>\n",
              "      <th>heating</th>\n",
              "      <th>airConditioning</th>\n",
              "      <th>foundation</th>\n",
              "      <th>fireplace</th>\n",
              "      <th>soldYear</th>\n",
              "    </tr>\n",
              "  </thead>\n",
              "  <tbody>\n",
              "    <tr>\n",
              "      <th>0</th>\n",
              "      <td>0.55</td>\n",
              "      <td>0.183673</td>\n",
              "      <td>0.923261</td>\n",
              "      <td>0.215385</td>\n",
              "      <td>30047</td>\n",
              "      <td>33.873543</td>\n",
              "      <td>-84.117197</td>\n",
              "      <td>0.8125</td>\n",
              "      <td>0.494253</td>\n",
              "      <td>0.46</td>\n",
              "      <td>20037.6</td>\n",
              "      <td>0.4</td>\n",
              "      <td>0.0</td>\n",
              "      <td>1.0</td>\n",
              "      <td>1971</td>\n",
              "      <td>1</td>\n",
              "      <td>6</td>\n",
              "      <td>4</td>\n",
              "      <td>2</td>\n",
              "      <td>0.25</td>\n",
              "      <td>1.0</td>\n",
              "      <td>0.0</td>\n",
              "      <td>0.0</td>\n",
              "      <td>2021</td>\n",
              "    </tr>\n",
              "  </tbody>\n",
              "</table>\n",
              "</div>"
            ],
            "text/plain": [
              "   city     state    street  ...  foundation  fireplace  soldYear\n",
              "0  0.55  0.183673  0.923261  ...         0.0        0.0      2021\n",
              "\n",
              "[1 rows x 24 columns]"
            ]
          },
          "metadata": {},
          "execution_count": 95
        }
      ]
    },
    {
      "cell_type": "code",
      "metadata": {
        "id": "GA0L-pw-eSbq"
      },
      "source": [
        "filename = \"/content/drive/MyDrive/[LATEST] Manish New Data/standardScalar.joblib\"\n",
        "standardScalar = load(filename)"
      ],
      "execution_count": null,
      "outputs": []
    },
    {
      "cell_type": "code",
      "metadata": {
        "id": "N3Nf-omreYJp"
      },
      "source": [
        "numerical_data = user_data[numerical_cols]\n",
        "\n",
        "user_data[numerical_cols] = standardScalar.transform(numerical_data)"
      ],
      "execution_count": null,
      "outputs": []
    },
    {
      "cell_type": "code",
      "metadata": {
        "colab": {
          "base_uri": "https://localhost:8080/",
          "height": 101
        },
        "id": "qPFwWIQn4hZZ",
        "outputId": "f021c9d3-0bfc-4edd-8ed5-0b3b20ad1e51"
      },
      "source": [
        "user_data"
      ],
      "execution_count": null,
      "outputs": [
        {
          "output_type": "execute_result",
          "data": {
            "text/html": [
              "<div>\n",
              "<style scoped>\n",
              "    .dataframe tbody tr th:only-of-type {\n",
              "        vertical-align: middle;\n",
              "    }\n",
              "\n",
              "    .dataframe tbody tr th {\n",
              "        vertical-align: top;\n",
              "    }\n",
              "\n",
              "    .dataframe thead th {\n",
              "        text-align: right;\n",
              "    }\n",
              "</style>\n",
              "<table border=\"1\" class=\"dataframe\">\n",
              "  <thead>\n",
              "    <tr style=\"text-align: right;\">\n",
              "      <th></th>\n",
              "      <th>city</th>\n",
              "      <th>state</th>\n",
              "      <th>street</th>\n",
              "      <th>streetSuffix</th>\n",
              "      <th>zip</th>\n",
              "      <th>latitude</th>\n",
              "      <th>longitude</th>\n",
              "      <th>landUseDescription</th>\n",
              "      <th>zoningDescription</th>\n",
              "      <th>lotSizeAcres</th>\n",
              "      <th>lotSizeSquareFeet</th>\n",
              "      <th>lotTopography</th>\n",
              "      <th>condition</th>\n",
              "      <th>architecturalStyle</th>\n",
              "      <th>yearBuilt</th>\n",
              "      <th>totalStories</th>\n",
              "      <th>totalRooms</th>\n",
              "      <th>bedrooms</th>\n",
              "      <th>baths</th>\n",
              "      <th>heating</th>\n",
              "      <th>airConditioning</th>\n",
              "      <th>foundation</th>\n",
              "      <th>fireplace</th>\n",
              "      <th>soldYear</th>\n",
              "    </tr>\n",
              "  </thead>\n",
              "  <tbody>\n",
              "    <tr>\n",
              "      <th>0</th>\n",
              "      <td>0.55</td>\n",
              "      <td>0.183673</td>\n",
              "      <td>0.923261</td>\n",
              "      <td>0.215385</td>\n",
              "      <td>-0.427423</td>\n",
              "      <td>0.074451</td>\n",
              "      <td>-0.10837</td>\n",
              "      <td>0.8125</td>\n",
              "      <td>0.494253</td>\n",
              "      <td>-0.006182</td>\n",
              "      <td>-0.006182</td>\n",
              "      <td>0.4</td>\n",
              "      <td>0.0</td>\n",
              "      <td>1.0</td>\n",
              "      <td>-1.726295</td>\n",
              "      <td>-1.10741</td>\n",
              "      <td>-0.742079</td>\n",
              "      <td>0.573313</td>\n",
              "      <td>-1.007367</td>\n",
              "      <td>0.25</td>\n",
              "      <td>1.0</td>\n",
              "      <td>0.0</td>\n",
              "      <td>0.0</td>\n",
              "      <td>0.0</td>\n",
              "    </tr>\n",
              "  </tbody>\n",
              "</table>\n",
              "</div>"
            ],
            "text/plain": [
              "   city     state    street  ...  foundation  fireplace  soldYear\n",
              "0  0.55  0.183673  0.923261  ...         0.0        0.0       0.0\n",
              "\n",
              "[1 rows x 24 columns]"
            ]
          },
          "metadata": {},
          "execution_count": 98
        }
      ]
    },
    {
      "cell_type": "code",
      "metadata": {
        "id": "00wd78Hs4ydT"
      },
      "source": [
        "#user_data = user_data.drop(columns=\"housePrice\")"
      ],
      "execution_count": null,
      "outputs": []
    },
    {
      "cell_type": "code",
      "metadata": {
        "colab": {
          "base_uri": "https://localhost:8080/"
        },
        "id": "xAaiwcfzN56_",
        "outputId": "06879a61-24a1-408b-a397-22c3ffa406a9"
      },
      "source": [
        "user_data.values"
      ],
      "execution_count": null,
      "outputs": [
        {
          "output_type": "execute_result",
          "data": {
            "text/plain": [
              "array([[ 0.55      ,  0.18367347,  0.92326139,  0.21538462, -0.42742254,\n",
              "         0.07445148, -0.1083703 ,  0.8125    ,  0.49425287, -0.00618169,\n",
              "        -0.0061816 ,  0.4       ,  0.        ,  1.        , -1.72629479,\n",
              "        -1.10740983, -0.74207897,  0.57331305, -1.00736676,  0.25      ,\n",
              "         1.        ,  0.        ,  0.        ,  0.        ]])"
            ]
          },
          "metadata": {},
          "execution_count": 100
        }
      ]
    },
    {
      "cell_type": "code",
      "metadata": {
        "colab": {
          "base_uri": "https://localhost:8080/"
        },
        "id": "2mVepRW1M3mO",
        "outputId": "11b4f893-5623-411f-8f60-02604b31671a"
      },
      "source": [
        "rf_model.predict(user_data.values)"
      ],
      "execution_count": null,
      "outputs": [
        {
          "output_type": "stream",
          "name": "stderr",
          "text": [
            "/usr/local/lib/python3.7/dist-packages/sklearn/base.py:446: UserWarning: X does not have valid feature names, but RandomForestRegressor was fitted with feature names\n",
            "  \"X does not have valid feature names, but\"\n"
          ]
        },
        {
          "output_type": "execute_result",
          "data": {
            "text/plain": [
              "array([180763.5])"
            ]
          },
          "metadata": {},
          "execution_count": 101
        }
      ]
    },
    {
      "cell_type": "code",
      "metadata": {
        "id": "VY5JLrvFcDon"
      },
      "source": [
        "from joblib import dump"
      ],
      "execution_count": null,
      "outputs": []
    },
    {
      "cell_type": "code",
      "metadata": {
        "colab": {
          "base_uri": "https://localhost:8080/"
        },
        "id": "1jUJ_wdZcHcD",
        "outputId": "6ad2610e-c33a-4be7-c6aa-e0f44a1ec81e"
      },
      "source": [
        "dump(rf_model, \"rf_model.joblib\")"
      ],
      "execution_count": null,
      "outputs": [
        {
          "output_type": "execute_result",
          "data": {
            "text/plain": [
              "['rf_model.joblib']"
            ]
          },
          "metadata": {},
          "execution_count": 103
        }
      ]
    },
    {
      "cell_type": "code",
      "metadata": {
        "id": "835raWlpcTuA"
      },
      "source": [
        "!cp \"/content/rf_model.joblib\" \"/content/drive/MyDrive/[LATEST] Manish New Data/rf_model_97_87_45pruning_factor_27_random_seed.joblib\""
      ],
      "execution_count": null,
      "outputs": []
    },
    {
      "cell_type": "markdown",
      "metadata": {
        "id": "NBbhfsQNpAuR"
      },
      "source": [
        "Train R2: 0.972\n",
        "Test R2: 0.871\n",
        "Train R2: 0.983\n",
        "Test R2: 0.881\n",
        "\n",
        "[195566.]\n",
        "189000\n",
        "\n",
        "[325186.]\n",
        "343500\n",
        "\n",
        "[207597.]\n",
        "192400\n",
        "\n",
        "[165890.]\n",
        "158100\n",
        "\n",
        "[232491.]\n",
        "197200\n",
        "\n",
        "[343317.]\n",
        "307300\n",
        "\n",
        "[164818]\n",
        "169200\n",
        "\n",
        "[238842.]\n",
        "210500\n",
        "\n",
        "[269515.]\n",
        "245600\n",
        "\n",
        "[225186.]\n",
        "229600\n",
        "\n",
        "[214557.]\n",
        "178300\n",
        "\n",
        "[436763.]\n",
        "597800\n",
        "\n",
        "[197238.]\n",
        "250900\n",
        "\n",
        "[203670.]\n",
        "181100\n",
        "\n",
        "[206606.]\n",
        "227100\n",
        "\n",
        "[247702]\n",
        "249500\n",
        "\n",
        "[259625.]\n",
        "231600\n",
        "\n",
        "[213160.]\n",
        "173600\n",
        "\n",
        "[266160.]\n",
        "265000\n",
        "\n",
        "[325485.]\n",
        "360000\n",
        "\n",
        "\n",
        "after outlier removal\n",
        "\n",
        "\n",
        "[270110.]\n",
        "260300\n",
        "\n",
        "[144742.]\n",
        "154600\n",
        "\n",
        "[153366.]\n",
        "159100\n",
        "\n",
        "[294139.]\n",
        "294500\n",
        "\n",
        "[135198.]\n",
        "184500\n",
        "\n",
        "[322564.]\n",
        "313600\n",
        "\n",
        "[153990.]\n",
        "164600\n",
        "\n",
        "[193389]\n",
        "189300\n",
        "\n",
        "[158955.]\n",
        "146400\n",
        "\n",
        "[200945.]\n",
        "189400\n",
        "\n",
        "[203527.]\n",
        "128500\n",
        "\n",
        "[186449.]\n",
        "182900\n",
        "\n",
        "[292514.]\n",
        "275200\n",
        "\n",
        "[297337.]\n",
        "335900\n",
        "\n",
        "[256282.]\n",
        "262600\n",
        "\n",
        "[315733.]\n",
        "314600\n",
        "\n",
        "[206163.]\n",
        "206700\n",
        "\n",
        "[191879.]\n",
        "192900\n",
        "\n",
        "[125729.]\n",
        "112200\n",
        "\n",
        "354304.]\n",
        "331600\n",
        "\n",
        "![image.png](data:image/png;base64,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)\n",
        "\n",
        "![image.png](data:image/png;base64,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)"
      ]
    },
    {
      "cell_type": "markdown",
      "metadata": {
        "id": "eiSNnXfGxn4N"
      },
      "source": [
        ""
      ]
    }
  ]
}