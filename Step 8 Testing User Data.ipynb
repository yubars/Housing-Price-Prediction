{
  "cells": [
    {
      "cell_type": "markdown",
      "metadata": {
        "id": "gUur_LoPhL7Y"
      },
      "source": [
        "#Importing Packages"
      ]
    },
    {
      "cell_type": "code",
      "execution_count": 942,
      "metadata": {
        "id": "eLt-88BgZ2ch"
      },
      "outputs": [],
      "source": [
        "import pandas as pd\n",
        "import json\n",
        "from joblib import load\n",
        "\n",
        "import warnings\n",
        "warnings.filterwarnings(\"ignore\")"
      ]
    },
    {
      "cell_type": "code",
      "source": [
        "from google.colab import drive\n",
        "drive.mount('/content/drive')"
      ],
      "metadata": {
        "colab": {
          "base_uri": "https://localhost:8080/"
        },
        "id": "BwRmnY_pu-NU",
        "outputId": "55c58da3-20e7-435b-80a0-90b358432b42"
      },
      "execution_count": 943,
      "outputs": [
        {
          "output_type": "stream",
          "name": "stdout",
          "text": [
            "Drive already mounted at /content/drive; to attempt to forcibly remount, call drive.mount(\"/content/drive\", force_remount=True).\n"
          ]
        }
      ]
    },
    {
      "cell_type": "markdown",
      "metadata": {
        "id": "la35Tsz4hSmX"
      },
      "source": [
        "#Loading and Pre-processing Data"
      ]
    },
    {
      "cell_type": "code",
      "execution_count": 944,
      "metadata": {
        "id": "SVaUvlBFc26G"
      },
      "outputs": [],
      "source": [
        "user_data_2 = pd.read_csv(\"/content/drive/MyDrive/Software Engg Regression Analysis/[LATEST] Manish New Data/demo_test_data.csv\")"
      ]
    },
    {
      "cell_type": "code",
      "source": [
        "# User 108 and 113\n",
        "user_id = 108"
      ],
      "metadata": {
        "id": "Poq78JhVXMIG"
      },
      "execution_count": 945,
      "outputs": []
    },
    {
      "cell_type": "code",
      "source": [
        "user_data = user_data_2.loc[user_data_2[\"id\"] == user_id]\n",
        "user_data"
      ],
      "metadata": {
        "colab": {
          "base_uri": "https://localhost:8080/",
          "height": 118
        },
        "id": "umh17vvZVMEP",
        "outputId": "9f5f242c-c1cc-4873-8c1f-e4558657781c"
      },
      "execution_count": 946,
      "outputs": [
        {
          "output_type": "execute_result",
          "data": {
            "text/html": [
              "<div>\n",
              "<style scoped>\n",
              "    .dataframe tbody tr th:only-of-type {\n",
              "        vertical-align: middle;\n",
              "    }\n",
              "\n",
              "    .dataframe tbody tr th {\n",
              "        vertical-align: top;\n",
              "    }\n",
              "\n",
              "    .dataframe thead th {\n",
              "        text-align: right;\n",
              "    }\n",
              "</style>\n",
              "<table border=\"1\" class=\"dataframe\">\n",
              "  <thead>\n",
              "    <tr style=\"text-align: right;\">\n",
              "      <th></th>\n",
              "      <th>id</th>\n",
              "      <th>city</th>\n",
              "      <th>state</th>\n",
              "      <th>street</th>\n",
              "      <th>streetSuffix</th>\n",
              "      <th>zip</th>\n",
              "      <th>latitude</th>\n",
              "      <th>longitude</th>\n",
              "      <th>landUseDescription</th>\n",
              "      <th>zoningDescription</th>\n",
              "      <th>lotSizeAcres</th>\n",
              "      <th>lotSizeSquareFeet</th>\n",
              "      <th>lotTopography</th>\n",
              "      <th>condition</th>\n",
              "      <th>architecturalStyle</th>\n",
              "      <th>yearBuilt</th>\n",
              "      <th>totalStories</th>\n",
              "      <th>totalRooms</th>\n",
              "      <th>bedrooms</th>\n",
              "      <th>baths</th>\n",
              "      <th>heating</th>\n",
              "      <th>airConditioning</th>\n",
              "      <th>foundation</th>\n",
              "      <th>fireplace</th>\n",
              "      <th>soldYear</th>\n",
              "    </tr>\n",
              "  </thead>\n",
              "  <tbody>\n",
              "    <tr>\n",
              "      <th>0</th>\n",
              "      <td>108</td>\n",
              "      <td>Stone Mountain</td>\n",
              "      <td>GA</td>\n",
              "      <td>Dee</td>\n",
              "      <td>Ct</td>\n",
              "      <td>30087</td>\n",
              "      <td>33.857828</td>\n",
              "      <td>-84.167465</td>\n",
              "      <td>Single Family Residential</td>\n",
              "      <td>R100-Single Family Residence</td>\n",
              "      <td>0.41</td>\n",
              "      <td>17859.6</td>\n",
              "      <td>Level Grade</td>\n",
              "      <td>Average</td>\n",
              "      <td>Ranch/Rambler</td>\n",
              "      <td>1975</td>\n",
              "      <td>1</td>\n",
              "      <td>8</td>\n",
              "      <td>4</td>\n",
              "      <td>2</td>\n",
              "      <td>Forced air</td>\n",
              "      <td>Yes</td>\n",
              "      <td>Crawl Space/Raised</td>\n",
              "      <td>Masonry</td>\n",
              "      <td>2021</td>\n",
              "    </tr>\n",
              "  </tbody>\n",
              "</table>\n",
              "</div>"
            ],
            "text/plain": [
              "    id            city state  ...          foundation fireplace  soldYear\n",
              "0  108  Stone Mountain    GA  ...  Crawl Space/Raised   Masonry      2021\n",
              "\n",
              "[1 rows x 25 columns]"
            ]
          },
          "metadata": {},
          "execution_count": 946
        }
      ]
    },
    {
      "cell_type": "code",
      "source": [
        "zip_average_price = {30047: 224924.8452,\n",
        "                     30087: 190259.9042}\n",
        "\n",
        "zip = int(user_data[\"zip\"])\n",
        "print(f\"User {user_id} belongs to the zip {zip}, and the average price for that zip is {zip_average_price[zip]}\")"
      ],
      "metadata": {
        "colab": {
          "base_uri": "https://localhost:8080/"
        },
        "id": "ciT8gw-z9zDP",
        "outputId": "3a831c19-385a-4a33-c25d-04f6b9b458cb"
      },
      "execution_count": 947,
      "outputs": [
        {
          "output_type": "stream",
          "name": "stdout",
          "text": [
            "User 108 belongs to the zip 30087, and the average price for that zip is 190259.9042\n"
          ]
        }
      ]
    },
    {
      "cell_type": "code",
      "source": [
        "user_id = int(user_data[\"id\"])\n",
        "user_data = user_data.iloc[:1, 1:]"
      ],
      "metadata": {
        "id": "8i4C5yYDwu-D"
      },
      "execution_count": 948,
      "outputs": []
    },
    {
      "cell_type": "code",
      "source": [
        "user_id"
      ],
      "metadata": {
        "colab": {
          "base_uri": "https://localhost:8080/"
        },
        "id": "VUr8esy0w64U",
        "outputId": "7a9adc12-3866-4e4d-e5ef-5c204f4f41d9"
      },
      "execution_count": 949,
      "outputs": [
        {
          "output_type": "execute_result",
          "data": {
            "text/plain": [
              "108"
            ]
          },
          "metadata": {},
          "execution_count": 949
        }
      ]
    },
    {
      "cell_type": "code",
      "source": [
        "user_data"
      ],
      "metadata": {
        "colab": {
          "base_uri": "https://localhost:8080/",
          "height": 118
        },
        "id": "3Nrk5DHRxDF0",
        "outputId": "316fd651-8c94-425b-f77d-03f69dd6038b"
      },
      "execution_count": 950,
      "outputs": [
        {
          "output_type": "execute_result",
          "data": {
            "text/html": [
              "<div>\n",
              "<style scoped>\n",
              "    .dataframe tbody tr th:only-of-type {\n",
              "        vertical-align: middle;\n",
              "    }\n",
              "\n",
              "    .dataframe tbody tr th {\n",
              "        vertical-align: top;\n",
              "    }\n",
              "\n",
              "    .dataframe thead th {\n",
              "        text-align: right;\n",
              "    }\n",
              "</style>\n",
              "<table border=\"1\" class=\"dataframe\">\n",
              "  <thead>\n",
              "    <tr style=\"text-align: right;\">\n",
              "      <th></th>\n",
              "      <th>city</th>\n",
              "      <th>state</th>\n",
              "      <th>street</th>\n",
              "      <th>streetSuffix</th>\n",
              "      <th>zip</th>\n",
              "      <th>latitude</th>\n",
              "      <th>longitude</th>\n",
              "      <th>landUseDescription</th>\n",
              "      <th>zoningDescription</th>\n",
              "      <th>lotSizeAcres</th>\n",
              "      <th>lotSizeSquareFeet</th>\n",
              "      <th>lotTopography</th>\n",
              "      <th>condition</th>\n",
              "      <th>architecturalStyle</th>\n",
              "      <th>yearBuilt</th>\n",
              "      <th>totalStories</th>\n",
              "      <th>totalRooms</th>\n",
              "      <th>bedrooms</th>\n",
              "      <th>baths</th>\n",
              "      <th>heating</th>\n",
              "      <th>airConditioning</th>\n",
              "      <th>foundation</th>\n",
              "      <th>fireplace</th>\n",
              "      <th>soldYear</th>\n",
              "    </tr>\n",
              "  </thead>\n",
              "  <tbody>\n",
              "    <tr>\n",
              "      <th>0</th>\n",
              "      <td>Stone Mountain</td>\n",
              "      <td>GA</td>\n",
              "      <td>Dee</td>\n",
              "      <td>Ct</td>\n",
              "      <td>30087</td>\n",
              "      <td>33.857828</td>\n",
              "      <td>-84.167465</td>\n",
              "      <td>Single Family Residential</td>\n",
              "      <td>R100-Single Family Residence</td>\n",
              "      <td>0.41</td>\n",
              "      <td>17859.6</td>\n",
              "      <td>Level Grade</td>\n",
              "      <td>Average</td>\n",
              "      <td>Ranch/Rambler</td>\n",
              "      <td>1975</td>\n",
              "      <td>1</td>\n",
              "      <td>8</td>\n",
              "      <td>4</td>\n",
              "      <td>2</td>\n",
              "      <td>Forced air</td>\n",
              "      <td>Yes</td>\n",
              "      <td>Crawl Space/Raised</td>\n",
              "      <td>Masonry</td>\n",
              "      <td>2021</td>\n",
              "    </tr>\n",
              "  </tbody>\n",
              "</table>\n",
              "</div>"
            ],
            "text/plain": [
              "             city state street  ...          foundation  fireplace  soldYear\n",
              "0  Stone Mountain    GA    Dee  ...  Crawl Space/Raised    Masonry      2021\n",
              "\n",
              "[1 rows x 24 columns]"
            ]
          },
          "metadata": {},
          "execution_count": 950
        }
      ]
    },
    {
      "cell_type": "code",
      "execution_count": 951,
      "metadata": {
        "id": "BgAyx1BRqNPD"
      },
      "outputs": [],
      "source": [
        "lotSizqSqFt = user_data[\"lotSizeSquareFeet\"].values"
      ]
    },
    {
      "cell_type": "code",
      "execution_count": 952,
      "metadata": {
        "id": "wt_H8Ca6dRHT"
      },
      "outputs": [],
      "source": [
        "# Loading the Encoding Database to encode the categorical data into numbers\n",
        "\n",
        "file_path = \"/content/drive/MyDrive/Software Engg Regression Analysis/[LATEST] Manish New Data/encodings_database.json\"\n",
        "file = open(file_path, \"r\")\n",
        "encodings_database = json.load(file)"
      ]
    },
    {
      "cell_type": "code",
      "execution_count": 953,
      "metadata": {
        "id": "28_fxjukiCpw"
      },
      "outputs": [],
      "source": [
        "categorical_cols = [\"city\", \"state\", \"street\", \"streetSuffix\", \"landUseDescription\", \"zoningDescription\", \"lotTopography\", \"architecturalStyle\", \"condition\", \"heating\", \"airConditioning\",\t\"foundation\", \"fireplace\"]\n",
        "numerical_cols = [\"zip\", \"latitude\", \"longitude\", \"lotSizeAcres\",\t\"lotSizeSquareFeet\",\t\"yearBuilt\",\t\"totalStories\",\t\"totalRooms\",\t\"bedrooms\",\t\"baths\", \"soldYear\"]"
      ]
    },
    {
      "cell_type": "code",
      "execution_count": 954,
      "metadata": {
        "id": "bdlRXDCY2sz3"
      },
      "outputs": [],
      "source": [
        "def encode_state(state):\n",
        "    '''\n",
        "    This function returns the label of the code of the entered state.\n",
        "    Args:\n",
        "        state: str\n",
        "        - accepts states in USA\n",
        "\n",
        "    Returns:\n",
        "        state_code: int\n",
        "            - -1 for invalid\n",
        "            - 0 to 50 for actual state codes\n",
        "    '''\n",
        "    state = state.lower()\n",
        "    if state not in encodings_database[\"state\"].keys():\n",
        "        print(\"Please enter one of the states of USA!\")\n",
        "        state_code = -1\n",
        "    else:\n",
        "        print(\"State Encoded\")\n",
        "        state_code = encodings_database[\"state\"][state]\n",
        "    return state_code"
      ]
    },
    {
      "cell_type": "code",
      "execution_count": 955,
      "metadata": {
        "colab": {
          "base_uri": "https://localhost:8080/"
        },
        "id": "5qgIorNY2ug3",
        "outputId": "28278700-021d-4faf-c77a-0f7260999d87"
      },
      "outputs": [
        {
          "output_type": "stream",
          "name": "stdout",
          "text": [
            "State Encoded\n",
            "9\n"
          ]
        }
      ],
      "source": [
        "# Check whether the state is valid or not\n",
        "state_code = encode_state(list(user_data[\"state\"])[0])\n",
        "print(state_code)"
      ]
    },
    {
      "cell_type": "code",
      "execution_count": 956,
      "metadata": {
        "id": "KhechlvciJsw"
      },
      "outputs": [],
      "source": [
        "def validate_numerical_data(num_col_val):\n",
        "    '''\n",
        "    This function validates whether the input numerical column actually has the numerical data\n",
        "    Args:\n",
        "        num_col_val: str\n",
        "            - string with an integer e.g. '56'\n",
        "    Returns:\n",
        "        number_flag: bool\n",
        "            - True if all the data are real numbers\n",
        "            - False if the data is other than real number\n",
        "    '''\n",
        "    valid_number_flag = True\n",
        "    try:\n",
        "        float(num_col_val)\n",
        "    except:\n",
        "        valid_number_flag = False\n",
        "        print(\"Please enter a valid number!\")\n",
        "    else:\n",
        "        print(\"Numerical Data: Detected and Validated\")\n",
        "\n",
        "    return valid_number_flag"
      ]
    },
    {
      "cell_type": "code",
      "execution_count": 957,
      "metadata": {
        "colab": {
          "base_uri": "https://localhost:8080/"
        },
        "id": "sFwQzmIwu764",
        "outputId": "38b2d5e2-5b24-4074-b10e-32e52a462620"
      },
      "outputs": [
        {
          "output_type": "stream",
          "name": "stdout",
          "text": [
            "Numerical Data: Detected and Validated\n",
            "30087\n",
            "True\n",
            "\n",
            "\n",
            "Numerical Data: Detected and Validated\n",
            "33.857828000000005\n",
            "True\n",
            "\n",
            "\n",
            "Numerical Data: Detected and Validated\n",
            "-84.167465\n",
            "True\n",
            "\n",
            "\n",
            "Numerical Data: Detected and Validated\n",
            "0.41\n",
            "True\n",
            "\n",
            "\n",
            "Numerical Data: Detected and Validated\n",
            "17859.6\n",
            "True\n",
            "\n",
            "\n",
            "Numerical Data: Detected and Validated\n",
            "1975\n",
            "True\n",
            "\n",
            "\n",
            "Numerical Data: Detected and Validated\n",
            "1\n",
            "True\n",
            "\n",
            "\n",
            "Numerical Data: Detected and Validated\n",
            "8\n",
            "True\n",
            "\n",
            "\n",
            "Numerical Data: Detected and Validated\n",
            "4\n",
            "True\n",
            "\n",
            "\n",
            "Numerical Data: Detected and Validated\n",
            "2\n",
            "True\n",
            "\n",
            "\n",
            "Numerical Data: Detected and Validated\n",
            "2021\n",
            "True\n",
            "\n",
            "\n"
          ]
        }
      ],
      "source": [
        "for j, col in enumerate(numerical_cols):\n",
        "    valid_number_flag = validate_numerical_data(list(user_data[col])[0])\n",
        "    print(list(user_data[col])[0])\n",
        "    print(valid_number_flag)\n",
        "    print(\"\\n\")"
      ]
    },
    {
      "cell_type": "code",
      "execution_count": 958,
      "metadata": {
        "id": "AEJuMg5Ju765"
      },
      "outputs": [],
      "source": [
        "def validate_categorical_data(cat_col_val):\n",
        "    '''\n",
        "    This function validates whether the input categorical column actually has the categorical data\n",
        "    Args:\n",
        "        cat_col_val: str\n",
        "            - actual string value\n",
        "    Returns:\n",
        "        valid_categorical_flag: bool\n",
        "            - True if all the data are strings\n",
        "            - False if the data is other than strings\n",
        "    '''\n",
        "    valid_categorical_flag = True\n",
        "    try:\n",
        "        float(cat_col_val)\n",
        "    except:\n",
        "        if bool(cat_col_val) is False:\n",
        "            valid_categorical_flag = False\n",
        "            return valid_categorical_flag\n",
        "        print(\"Categorical Data: Detected and Validated!\")\n",
        "    else:\n",
        "        print(\"You tried to enter numerical data in categorical column!\")\n",
        "        valid_categorical_flag = False\n",
        "\n",
        "    return valid_categorical_flag"
      ]
    },
    {
      "cell_type": "code",
      "execution_count": 959,
      "metadata": {
        "colab": {
          "base_uri": "https://localhost:8080/"
        },
        "id": "X3MLx1GIu765",
        "outputId": "f0f7d461-0bbd-45dd-a0e9-7973b3aff40d"
      },
      "outputs": [
        {
          "output_type": "stream",
          "name": "stdout",
          "text": [
            "Categorical Data: Detected and Validated!\n",
            "Stone Mountain\n",
            "True\n",
            "\n",
            "\n",
            "Categorical Data: Detected and Validated!\n",
            "GA\n",
            "True\n",
            "\n",
            "\n",
            "Categorical Data: Detected and Validated!\n",
            "Dee\n",
            "True\n",
            "\n",
            "\n",
            "Categorical Data: Detected and Validated!\n",
            "Ct\n",
            "True\n",
            "\n",
            "\n",
            "Categorical Data: Detected and Validated!\n",
            "Single Family Residential\n",
            "True\n",
            "\n",
            "\n",
            "Categorical Data: Detected and Validated!\n",
            "R100-Single Family Residence\n",
            "True\n",
            "\n",
            "\n",
            "Categorical Data: Detected and Validated!\n",
            "Level Grade\n",
            "True\n",
            "\n",
            "\n",
            "Categorical Data: Detected and Validated!\n",
            "Ranch/Rambler\n",
            "True\n",
            "\n",
            "\n",
            "Categorical Data: Detected and Validated!\n",
            "Average\n",
            "True\n",
            "\n",
            "\n",
            "Categorical Data: Detected and Validated!\n",
            "Forced air\n",
            "True\n",
            "\n",
            "\n",
            "Categorical Data: Detected and Validated!\n",
            "Yes\n",
            "True\n",
            "\n",
            "\n",
            "Categorical Data: Detected and Validated!\n",
            "Crawl Space/Raised\n",
            "True\n",
            "\n",
            "\n",
            "Categorical Data: Detected and Validated!\n",
            "Masonry\n",
            "True\n",
            "\n",
            "\n"
          ]
        }
      ],
      "source": [
        "for j, col in enumerate(categorical_cols):\n",
        "    valid_categorical_flag = validate_categorical_data(list(user_data[col])[0])\n",
        "    print(list(user_data[col])[0])\n",
        "    print(valid_categorical_flag)\n",
        "    print(\"\\n\")"
      ]
    },
    {
      "cell_type": "code",
      "execution_count": 960,
      "metadata": {
        "colab": {
          "base_uri": "https://localhost:8080/",
          "height": 118
        },
        "id": "W-c2C6jSiOoG",
        "outputId": "17026def-de6e-4ef9-e02a-4d1717f4cac8"
      },
      "outputs": [
        {
          "output_type": "execute_result",
          "data": {
            "text/html": [
              "<div>\n",
              "<style scoped>\n",
              "    .dataframe tbody tr th:only-of-type {\n",
              "        vertical-align: middle;\n",
              "    }\n",
              "\n",
              "    .dataframe tbody tr th {\n",
              "        vertical-align: top;\n",
              "    }\n",
              "\n",
              "    .dataframe thead th {\n",
              "        text-align: right;\n",
              "    }\n",
              "</style>\n",
              "<table border=\"1\" class=\"dataframe\">\n",
              "  <thead>\n",
              "    <tr style=\"text-align: right;\">\n",
              "      <th></th>\n",
              "      <th>city</th>\n",
              "      <th>state</th>\n",
              "      <th>street</th>\n",
              "      <th>streetSuffix</th>\n",
              "      <th>zip</th>\n",
              "      <th>latitude</th>\n",
              "      <th>longitude</th>\n",
              "      <th>landUseDescription</th>\n",
              "      <th>zoningDescription</th>\n",
              "      <th>lotSizeAcres</th>\n",
              "      <th>lotSizeSquareFeet</th>\n",
              "      <th>lotTopography</th>\n",
              "      <th>condition</th>\n",
              "      <th>architecturalStyle</th>\n",
              "      <th>yearBuilt</th>\n",
              "      <th>totalStories</th>\n",
              "      <th>totalRooms</th>\n",
              "      <th>bedrooms</th>\n",
              "      <th>baths</th>\n",
              "      <th>heating</th>\n",
              "      <th>airConditioning</th>\n",
              "      <th>foundation</th>\n",
              "      <th>fireplace</th>\n",
              "      <th>soldYear</th>\n",
              "    </tr>\n",
              "  </thead>\n",
              "  <tbody>\n",
              "    <tr>\n",
              "      <th>0</th>\n",
              "      <td>Stone Mountain</td>\n",
              "      <td>GA</td>\n",
              "      <td>Dee</td>\n",
              "      <td>Ct</td>\n",
              "      <td>30087</td>\n",
              "      <td>33.857828</td>\n",
              "      <td>-84.167465</td>\n",
              "      <td>Single Family Residential</td>\n",
              "      <td>R100-Single Family Residence</td>\n",
              "      <td>0.41</td>\n",
              "      <td>17859.6</td>\n",
              "      <td>Level Grade</td>\n",
              "      <td>Average</td>\n",
              "      <td>Ranch/Rambler</td>\n",
              "      <td>1975</td>\n",
              "      <td>1</td>\n",
              "      <td>8</td>\n",
              "      <td>4</td>\n",
              "      <td>2</td>\n",
              "      <td>Forced air</td>\n",
              "      <td>Yes</td>\n",
              "      <td>Crawl Space/Raised</td>\n",
              "      <td>Masonry</td>\n",
              "      <td>2021</td>\n",
              "    </tr>\n",
              "  </tbody>\n",
              "</table>\n",
              "</div>"
            ],
            "text/plain": [
              "             city state street  ...          foundation  fireplace  soldYear\n",
              "0  Stone Mountain    GA    Dee  ...  Crawl Space/Raised    Masonry      2021\n",
              "\n",
              "[1 rows x 24 columns]"
            ]
          },
          "metadata": {},
          "execution_count": 960
        }
      ],
      "source": [
        "user_data"
      ]
    },
    {
      "cell_type": "code",
      "execution_count": 961,
      "metadata": {
        "id": "QIY0e11tu765"
      },
      "outputs": [],
      "source": [
        "for i, name in enumerate(categorical_cols):\n",
        "  user_data[name] = encodings_database[name][user_data[name].values[0].lower()]"
      ]
    },
    {
      "cell_type": "code",
      "execution_count": 962,
      "metadata": {
        "colab": {
          "base_uri": "https://localhost:8080/",
          "height": 101
        },
        "id": "Js1Xnu_qu766",
        "outputId": "a7114470-57ab-43bb-e46b-6b8369b0d449"
      },
      "outputs": [
        {
          "output_type": "execute_result",
          "data": {
            "text/html": [
              "<div>\n",
              "<style scoped>\n",
              "    .dataframe tbody tr th:only-of-type {\n",
              "        vertical-align: middle;\n",
              "    }\n",
              "\n",
              "    .dataframe tbody tr th {\n",
              "        vertical-align: top;\n",
              "    }\n",
              "\n",
              "    .dataframe thead th {\n",
              "        text-align: right;\n",
              "    }\n",
              "</style>\n",
              "<table border=\"1\" class=\"dataframe\">\n",
              "  <thead>\n",
              "    <tr style=\"text-align: right;\">\n",
              "      <th></th>\n",
              "      <th>city</th>\n",
              "      <th>state</th>\n",
              "      <th>street</th>\n",
              "      <th>streetSuffix</th>\n",
              "      <th>zip</th>\n",
              "      <th>latitude</th>\n",
              "      <th>longitude</th>\n",
              "      <th>landUseDescription</th>\n",
              "      <th>zoningDescription</th>\n",
              "      <th>lotSizeAcres</th>\n",
              "      <th>lotSizeSquareFeet</th>\n",
              "      <th>lotTopography</th>\n",
              "      <th>condition</th>\n",
              "      <th>architecturalStyle</th>\n",
              "      <th>yearBuilt</th>\n",
              "      <th>totalStories</th>\n",
              "      <th>totalRooms</th>\n",
              "      <th>bedrooms</th>\n",
              "      <th>baths</th>\n",
              "      <th>heating</th>\n",
              "      <th>airConditioning</th>\n",
              "      <th>foundation</th>\n",
              "      <th>fireplace</th>\n",
              "      <th>soldYear</th>\n",
              "    </tr>\n",
              "  </thead>\n",
              "  <tbody>\n",
              "    <tr>\n",
              "      <th>0</th>\n",
              "      <td>18</td>\n",
              "      <td>9</td>\n",
              "      <td>2214</td>\n",
              "      <td>14</td>\n",
              "      <td>30087</td>\n",
              "      <td>33.857828</td>\n",
              "      <td>-84.167465</td>\n",
              "      <td>13</td>\n",
              "      <td>43</td>\n",
              "      <td>0.41</td>\n",
              "      <td>17859.6</td>\n",
              "      <td>1</td>\n",
              "      <td>0</td>\n",
              "      <td>5</td>\n",
              "      <td>1975</td>\n",
              "      <td>1</td>\n",
              "      <td>8</td>\n",
              "      <td>4</td>\n",
              "      <td>2</td>\n",
              "      <td>1</td>\n",
              "      <td>1</td>\n",
              "      <td>0</td>\n",
              "      <td>0</td>\n",
              "      <td>2021</td>\n",
              "    </tr>\n",
              "  </tbody>\n",
              "</table>\n",
              "</div>"
            ],
            "text/plain": [
              "   city  state  street  ...  foundation  fireplace  soldYear\n",
              "0    18      9    2214  ...           0          0      2021\n",
              "\n",
              "[1 rows x 24 columns]"
            ]
          },
          "metadata": {},
          "execution_count": 962
        }
      ],
      "source": [
        "user_data"
      ]
    },
    {
      "cell_type": "code",
      "execution_count": 963,
      "metadata": {
        "id": "fyqEpk99iTso"
      },
      "outputs": [],
      "source": [
        "# Loading the MinMaxScalar to normalize the categorical features\n",
        "\n",
        "filename = \"/content/drive/MyDrive/Software Engg Regression Analysis/[LATEST] Manish New Data/minMaxScalar.joblib\"\n",
        "minMaxScalar = load(filename)"
      ]
    },
    {
      "cell_type": "code",
      "execution_count": 964,
      "metadata": {
        "id": "cpKyfm6GinGn"
      },
      "outputs": [],
      "source": [
        "# MINMAX NORMALIZATION:\n",
        "\n",
        "categorical_cols.remove(\"state\")\n",
        "categorical_data = user_data[categorical_cols]\n",
        "\n",
        "user_data[categorical_cols] = minMaxScalar.transform(categorical_data)\n",
        "\n",
        "#Encoding state separately, since we did not have all the 50 states in the data\n",
        "user_data[\"state\"] /= 49"
      ]
    },
    {
      "cell_type": "code",
      "execution_count": 965,
      "metadata": {
        "colab": {
          "base_uri": "https://localhost:8080/",
          "height": 101
        },
        "id": "OdLvt9FGjFag",
        "outputId": "b1234683-00e8-4ae1-e4b1-682e1cf499c4"
      },
      "outputs": [
        {
          "output_type": "execute_result",
          "data": {
            "text/html": [
              "<div>\n",
              "<style scoped>\n",
              "    .dataframe tbody tr th:only-of-type {\n",
              "        vertical-align: middle;\n",
              "    }\n",
              "\n",
              "    .dataframe tbody tr th {\n",
              "        vertical-align: top;\n",
              "    }\n",
              "\n",
              "    .dataframe thead th {\n",
              "        text-align: right;\n",
              "    }\n",
              "</style>\n",
              "<table border=\"1\" class=\"dataframe\">\n",
              "  <thead>\n",
              "    <tr style=\"text-align: right;\">\n",
              "      <th></th>\n",
              "      <th>city</th>\n",
              "      <th>state</th>\n",
              "      <th>street</th>\n",
              "      <th>streetSuffix</th>\n",
              "      <th>zip</th>\n",
              "      <th>latitude</th>\n",
              "      <th>longitude</th>\n",
              "      <th>landUseDescription</th>\n",
              "      <th>zoningDescription</th>\n",
              "      <th>lotSizeAcres</th>\n",
              "      <th>lotSizeSquareFeet</th>\n",
              "      <th>lotTopography</th>\n",
              "      <th>condition</th>\n",
              "      <th>architecturalStyle</th>\n",
              "      <th>yearBuilt</th>\n",
              "      <th>totalStories</th>\n",
              "      <th>totalRooms</th>\n",
              "      <th>bedrooms</th>\n",
              "      <th>baths</th>\n",
              "      <th>heating</th>\n",
              "      <th>airConditioning</th>\n",
              "      <th>foundation</th>\n",
              "      <th>fireplace</th>\n",
              "      <th>soldYear</th>\n",
              "    </tr>\n",
              "  </thead>\n",
              "  <tbody>\n",
              "    <tr>\n",
              "      <th>0</th>\n",
              "      <td>0.9</td>\n",
              "      <td>0.183673</td>\n",
              "      <td>0.241334</td>\n",
              "      <td>0.215385</td>\n",
              "      <td>30087</td>\n",
              "      <td>33.857828</td>\n",
              "      <td>-84.167465</td>\n",
              "      <td>0.8125</td>\n",
              "      <td>0.494253</td>\n",
              "      <td>0.41</td>\n",
              "      <td>17859.6</td>\n",
              "      <td>0.2</td>\n",
              "      <td>0.0</td>\n",
              "      <td>1.0</td>\n",
              "      <td>1975</td>\n",
              "      <td>1</td>\n",
              "      <td>8</td>\n",
              "      <td>4</td>\n",
              "      <td>2</td>\n",
              "      <td>0.25</td>\n",
              "      <td>1.0</td>\n",
              "      <td>0.0</td>\n",
              "      <td>0.0</td>\n",
              "      <td>2021</td>\n",
              "    </tr>\n",
              "  </tbody>\n",
              "</table>\n",
              "</div>"
            ],
            "text/plain": [
              "   city     state    street  ...  foundation  fireplace  soldYear\n",
              "0   0.9  0.183673  0.241334  ...         0.0        0.0      2021\n",
              "\n",
              "[1 rows x 24 columns]"
            ]
          },
          "metadata": {},
          "execution_count": 965
        }
      ],
      "source": [
        "user_data"
      ]
    },
    {
      "cell_type": "code",
      "execution_count": 966,
      "metadata": {
        "id": "jt-vZvLEu767"
      },
      "outputs": [],
      "source": [
        "# Now we have all numerical values but in string format, so we convert all the values to numeric\n",
        "user_data = user_data.apply(pd.to_numeric, errors=\"coerce\")"
      ]
    },
    {
      "cell_type": "code",
      "execution_count": 967,
      "metadata": {
        "id": "CCyWxaftkKOf"
      },
      "outputs": [],
      "source": [
        "# Loading the StandardScalar to normalize the numerical features\n",
        "\n",
        "filename = \"/content/drive/MyDrive/Software Engg Regression Analysis/[LATEST] Manish New Data/standardScalar.joblib\"\n",
        "standardScalar = load(filename)"
      ]
    },
    {
      "cell_type": "code",
      "execution_count": 968,
      "metadata": {
        "id": "zk0PNSBlkXd_"
      },
      "outputs": [],
      "source": [
        "numerical_data = user_data[numerical_cols]\n",
        "\n",
        "user_data[numerical_cols] = standardScalar.transform(numerical_data)"
      ]
    },
    {
      "cell_type": "code",
      "execution_count": 969,
      "metadata": {
        "colab": {
          "base_uri": "https://localhost:8080/"
        },
        "id": "LTQ-SRMCkbe3",
        "outputId": "e6842e1e-8963-4c28-94e7-5ac892458f4f"
      },
      "outputs": [
        {
          "output_type": "execute_result",
          "data": {
            "text/plain": [
              "(1, 24)"
            ]
          },
          "metadata": {},
          "execution_count": 969
        }
      ],
      "source": [
        "user_data.shape"
      ]
    },
    {
      "cell_type": "code",
      "source": [
        "user_data"
      ],
      "metadata": {
        "colab": {
          "base_uri": "https://localhost:8080/",
          "height": 101
        },
        "id": "Pmx7Zt0KxZ_k",
        "outputId": "7458676a-52b6-4fbd-edc8-35e6e2cfbb84"
      },
      "execution_count": 970,
      "outputs": [
        {
          "output_type": "execute_result",
          "data": {
            "text/html": [
              "<div>\n",
              "<style scoped>\n",
              "    .dataframe tbody tr th:only-of-type {\n",
              "        vertical-align: middle;\n",
              "    }\n",
              "\n",
              "    .dataframe tbody tr th {\n",
              "        vertical-align: top;\n",
              "    }\n",
              "\n",
              "    .dataframe thead th {\n",
              "        text-align: right;\n",
              "    }\n",
              "</style>\n",
              "<table border=\"1\" class=\"dataframe\">\n",
              "  <thead>\n",
              "    <tr style=\"text-align: right;\">\n",
              "      <th></th>\n",
              "      <th>city</th>\n",
              "      <th>state</th>\n",
              "      <th>street</th>\n",
              "      <th>streetSuffix</th>\n",
              "      <th>zip</th>\n",
              "      <th>latitude</th>\n",
              "      <th>longitude</th>\n",
              "      <th>landUseDescription</th>\n",
              "      <th>zoningDescription</th>\n",
              "      <th>lotSizeAcres</th>\n",
              "      <th>lotSizeSquareFeet</th>\n",
              "      <th>lotTopography</th>\n",
              "      <th>condition</th>\n",
              "      <th>architecturalStyle</th>\n",
              "      <th>yearBuilt</th>\n",
              "      <th>totalStories</th>\n",
              "      <th>totalRooms</th>\n",
              "      <th>bedrooms</th>\n",
              "      <th>baths</th>\n",
              "      <th>heating</th>\n",
              "      <th>airConditioning</th>\n",
              "      <th>foundation</th>\n",
              "      <th>fireplace</th>\n",
              "      <th>soldYear</th>\n",
              "    </tr>\n",
              "  </thead>\n",
              "  <tbody>\n",
              "    <tr>\n",
              "      <th>0</th>\n",
              "      <td>0.9</td>\n",
              "      <td>0.183673</td>\n",
              "      <td>0.241334</td>\n",
              "      <td>0.215385</td>\n",
              "      <td>-0.179133</td>\n",
              "      <td>0.06974</td>\n",
              "      <td>-0.11446</td>\n",
              "      <td>0.8125</td>\n",
              "      <td>0.494253</td>\n",
              "      <td>-0.051856</td>\n",
              "      <td>-0.051856</td>\n",
              "      <td>0.2</td>\n",
              "      <td>0.0</td>\n",
              "      <td>1.0</td>\n",
              "      <td>-1.429949</td>\n",
              "      <td>-1.10741</td>\n",
              "      <td>0.325799</td>\n",
              "      <td>0.573313</td>\n",
              "      <td>-1.007367</td>\n",
              "      <td>0.25</td>\n",
              "      <td>1.0</td>\n",
              "      <td>0.0</td>\n",
              "      <td>0.0</td>\n",
              "      <td>0.0</td>\n",
              "    </tr>\n",
              "  </tbody>\n",
              "</table>\n",
              "</div>"
            ],
            "text/plain": [
              "   city     state    street  ...  foundation  fireplace  soldYear\n",
              "0   0.9  0.183673  0.241334  ...         0.0        0.0       0.0\n",
              "\n",
              "[1 rows x 24 columns]"
            ]
          },
          "metadata": {},
          "execution_count": 970
        }
      ]
    },
    {
      "cell_type": "code",
      "execution_count": 971,
      "metadata": {
        "colab": {
          "base_uri": "https://localhost:8080/"
        },
        "id": "ayhpAr6UgqCQ",
        "outputId": "7a2c4199-d07c-413c-f476-16e29457eab0"
      },
      "outputs": [
        {
          "output_type": "stream",
          "name": "stdout",
          "text": [
            "Predicted Housing Price: 200529.766\n"
          ]
        }
      ],
      "source": [
        "# Now the new test data is ready to feed into the Random Forest Regression Model\n",
        "# rf_model = load(\"/content/drive/MyDrive/Software Engg Regression Analysis/[LATEST] Manish New Data/final_rf_model.joblib\"\n",
        "rf_model = load(\"/content/drive/MyDrive/Software Engg Regression Analysis/[LATEST] Manish New Data/rf_model_95_86_randomState27.joblib\")\n",
        "\n",
        "pred = rf_model.predict(user_data.values)\n",
        "pred = round(pred[0], 3)\n",
        "print(\"Predicted Housing Price:\", pred)"
      ]
    },
    {
      "cell_type": "code",
      "execution_count": 972,
      "metadata": {
        "id": "n0tKrLRVp8dz",
        "colab": {
          "base_uri": "https://localhost:8080/"
        },
        "outputId": "adfcd919-9c09-45e9-a4a2-a3c515dc57aa"
      },
      "outputs": [
        {
          "output_type": "stream",
          "name": "stdout",
          "text": [
            "House Price per SqFt: 11.228\n"
          ]
        }
      ],
      "source": [
        "# Dividing the predicted housing price by lotSizeSquareFeet\n",
        "\n",
        "predPerSqFt = round((pred/lotSizqSqFt)[0], 3)\n",
        "print(f\"House Price per SqFt: {predPerSqFt}\")"
      ]
    },
    {
      "cell_type": "code",
      "execution_count": 973,
      "metadata": {
        "id": "lMXRKXKlebtj"
      },
      "outputs": [],
      "source": [
        "amortization_table = pd.read_csv(\"/content/drive/MyDrive/Software Engg Regression Analysis/[LATEST] Manish New Data/demo_amortization_table.csv\")"
      ]
    },
    {
      "cell_type": "code",
      "execution_count": 974,
      "metadata": {
        "colab": {
          "base_uri": "https://localhost:8080/",
          "height": 210
        },
        "id": "qF6w9k_YgGSM",
        "outputId": "15a4d34a-f6fe-4b0c-b852-2d1673988c3e"
      },
      "outputs": [
        {
          "output_type": "execute_result",
          "data": {
            "text/html": [
              "<div>\n",
              "<style scoped>\n",
              "    .dataframe tbody tr th:only-of-type {\n",
              "        vertical-align: middle;\n",
              "    }\n",
              "\n",
              "    .dataframe tbody tr th {\n",
              "        vertical-align: top;\n",
              "    }\n",
              "\n",
              "    .dataframe thead th {\n",
              "        text-align: right;\n",
              "    }\n",
              "</style>\n",
              "<table border=\"1\" class=\"dataframe\">\n",
              "  <thead>\n",
              "    <tr style=\"text-align: right;\">\n",
              "      <th></th>\n",
              "      <th>id</th>\n",
              "      <th>Mortgage Starting Date</th>\n",
              "      <th>House Value</th>\n",
              "      <th>Paid In Cash</th>\n",
              "      <th>Principal Loan Amount</th>\n",
              "      <th>Annual Interest Rate</th>\n",
              "      <th>Total Months Elapsed</th>\n",
              "      <th>Loan Period (Years)</th>\n",
              "      <th>Monthly Payment Amount</th>\n",
              "      <th>Total Principal Paid</th>\n",
              "      <th>Total Interest Paid</th>\n",
              "      <th>Remaining Principal</th>\n",
              "    </tr>\n",
              "  </thead>\n",
              "  <tbody>\n",
              "    <tr>\n",
              "      <th>0</th>\n",
              "      <td>108.0</td>\n",
              "      <td>5/13/2011</td>\n",
              "      <td>196100.0</td>\n",
              "      <td>74518.0</td>\n",
              "      <td>$121,582</td>\n",
              "      <td>4%</td>\n",
              "      <td>126.0</td>\n",
              "      <td>30.0</td>\n",
              "      <td>($580.45)</td>\n",
              "      <td>-27374.96705</td>\n",
              "      <td>-45761.86708</td>\n",
              "      <td>94207.03295</td>\n",
              "    </tr>\n",
              "    <tr>\n",
              "      <th>1</th>\n",
              "      <td>113.0</td>\n",
              "      <td>2/4/2014</td>\n",
              "      <td>254700.0</td>\n",
              "      <td>28017.0</td>\n",
              "      <td>$226,683</td>\n",
              "      <td>4%</td>\n",
              "      <td>93.0</td>\n",
              "      <td>30.0</td>\n",
              "      <td>($1,082.22)</td>\n",
              "      <td>-35540.55630</td>\n",
              "      <td>-65105.83992</td>\n",
              "      <td>191142.44370</td>\n",
              "    </tr>\n",
              "    <tr>\n",
              "      <th>2</th>\n",
              "      <td>NaN</td>\n",
              "      <td>NaN</td>\n",
              "      <td>NaN</td>\n",
              "      <td>NaN</td>\n",
              "      <td>NaN</td>\n",
              "      <td>NaN</td>\n",
              "      <td>NaN</td>\n",
              "      <td>NaN</td>\n",
              "      <td>NaN</td>\n",
              "      <td>NaN</td>\n",
              "      <td>NaN</td>\n",
              "      <td>NaN</td>\n",
              "    </tr>\n",
              "    <tr>\n",
              "      <th>3</th>\n",
              "      <td>NaN</td>\n",
              "      <td>NaN</td>\n",
              "      <td>NaN</td>\n",
              "      <td>NaN</td>\n",
              "      <td>NaN</td>\n",
              "      <td>NaN</td>\n",
              "      <td>NaN</td>\n",
              "      <td>NaN</td>\n",
              "      <td>NaN</td>\n",
              "      <td>NaN</td>\n",
              "      <td>NaN</td>\n",
              "      <td>NaN</td>\n",
              "    </tr>\n",
              "  </tbody>\n",
              "</table>\n",
              "</div>"
            ],
            "text/plain": [
              "      id Mortgage Starting Date  ...  Total Interest Paid  Remaining Principal\n",
              "0  108.0              5/13/2011  ...         -45761.86708          94207.03295\n",
              "1  113.0               2/4/2014  ...         -65105.83992         191142.44370\n",
              "2    NaN                    NaN  ...                  NaN                  NaN\n",
              "3    NaN                    NaN  ...                  NaN                  NaN\n",
              "\n",
              "[4 rows x 12 columns]"
            ]
          },
          "metadata": {},
          "execution_count": 974
        }
      ],
      "source": [
        "amortization_table.head()"
      ]
    },
    {
      "cell_type": "code",
      "source": [
        "user_amortization_data = amortization_table.loc[amortization_table[\"id\"] == user_id]\n",
        "user_amortization_data"
      ],
      "metadata": {
        "colab": {
          "base_uri": "https://localhost:8080/",
          "height": 115
        },
        "id": "IJ0CJD_cQB8H",
        "outputId": "b4af744a-8008-4f4f-c0ef-b71f4e60132d"
      },
      "execution_count": 975,
      "outputs": [
        {
          "output_type": "execute_result",
          "data": {
            "text/html": [
              "<div>\n",
              "<style scoped>\n",
              "    .dataframe tbody tr th:only-of-type {\n",
              "        vertical-align: middle;\n",
              "    }\n",
              "\n",
              "    .dataframe tbody tr th {\n",
              "        vertical-align: top;\n",
              "    }\n",
              "\n",
              "    .dataframe thead th {\n",
              "        text-align: right;\n",
              "    }\n",
              "</style>\n",
              "<table border=\"1\" class=\"dataframe\">\n",
              "  <thead>\n",
              "    <tr style=\"text-align: right;\">\n",
              "      <th></th>\n",
              "      <th>id</th>\n",
              "      <th>Mortgage Starting Date</th>\n",
              "      <th>House Value</th>\n",
              "      <th>Paid In Cash</th>\n",
              "      <th>Principal Loan Amount</th>\n",
              "      <th>Annual Interest Rate</th>\n",
              "      <th>Total Months Elapsed</th>\n",
              "      <th>Loan Period (Years)</th>\n",
              "      <th>Monthly Payment Amount</th>\n",
              "      <th>Total Principal Paid</th>\n",
              "      <th>Total Interest Paid</th>\n",
              "      <th>Remaining Principal</th>\n",
              "    </tr>\n",
              "  </thead>\n",
              "  <tbody>\n",
              "    <tr>\n",
              "      <th>0</th>\n",
              "      <td>108.0</td>\n",
              "      <td>5/13/2011</td>\n",
              "      <td>196100.0</td>\n",
              "      <td>74518.0</td>\n",
              "      <td>$121,582</td>\n",
              "      <td>4%</td>\n",
              "      <td>126.0</td>\n",
              "      <td>30.0</td>\n",
              "      <td>($580.45)</td>\n",
              "      <td>-27374.96705</td>\n",
              "      <td>-45761.86708</td>\n",
              "      <td>94207.03295</td>\n",
              "    </tr>\n",
              "  </tbody>\n",
              "</table>\n",
              "</div>"
            ],
            "text/plain": [
              "      id Mortgage Starting Date  ...  Total Interest Paid  Remaining Principal\n",
              "0  108.0              5/13/2011  ...         -45761.86708          94207.03295\n",
              "\n",
              "[1 rows x 12 columns]"
            ]
          },
          "metadata": {},
          "execution_count": 975
        }
      ]
    },
    {
      "cell_type": "code",
      "execution_count": 976,
      "metadata": {
        "id": "zYZnLLsrmyvo"
      },
      "outputs": [],
      "source": [
        "user_amortization_data[\"Predicted House Price\"] = pred"
      ]
    },
    {
      "cell_type": "code",
      "execution_count": 977,
      "metadata": {
        "colab": {
          "base_uri": "https://localhost:8080/",
          "height": 115
        },
        "id": "IzJgFhhlm8uo",
        "outputId": "5c17ebba-e29f-4105-d189-bfbe3aee6ebc"
      },
      "outputs": [
        {
          "output_type": "execute_result",
          "data": {
            "text/html": [
              "<div>\n",
              "<style scoped>\n",
              "    .dataframe tbody tr th:only-of-type {\n",
              "        vertical-align: middle;\n",
              "    }\n",
              "\n",
              "    .dataframe tbody tr th {\n",
              "        vertical-align: top;\n",
              "    }\n",
              "\n",
              "    .dataframe thead th {\n",
              "        text-align: right;\n",
              "    }\n",
              "</style>\n",
              "<table border=\"1\" class=\"dataframe\">\n",
              "  <thead>\n",
              "    <tr style=\"text-align: right;\">\n",
              "      <th></th>\n",
              "      <th>id</th>\n",
              "      <th>Mortgage Starting Date</th>\n",
              "      <th>House Value</th>\n",
              "      <th>Paid In Cash</th>\n",
              "      <th>Principal Loan Amount</th>\n",
              "      <th>Annual Interest Rate</th>\n",
              "      <th>Total Months Elapsed</th>\n",
              "      <th>Loan Period (Years)</th>\n",
              "      <th>Monthly Payment Amount</th>\n",
              "      <th>Total Principal Paid</th>\n",
              "      <th>Total Interest Paid</th>\n",
              "      <th>Remaining Principal</th>\n",
              "      <th>Predicted House Price</th>\n",
              "    </tr>\n",
              "  </thead>\n",
              "  <tbody>\n",
              "    <tr>\n",
              "      <th>0</th>\n",
              "      <td>108.0</td>\n",
              "      <td>5/13/2011</td>\n",
              "      <td>196100.0</td>\n",
              "      <td>74518.0</td>\n",
              "      <td>$121,582</td>\n",
              "      <td>4%</td>\n",
              "      <td>126.0</td>\n",
              "      <td>30.0</td>\n",
              "      <td>($580.45)</td>\n",
              "      <td>-27374.96705</td>\n",
              "      <td>-45761.86708</td>\n",
              "      <td>94207.03295</td>\n",
              "      <td>200529.766</td>\n",
              "    </tr>\n",
              "  </tbody>\n",
              "</table>\n",
              "</div>"
            ],
            "text/plain": [
              "      id Mortgage Starting Date  ...  Remaining Principal  Predicted House Price\n",
              "0  108.0              5/13/2011  ...          94207.03295             200529.766\n",
              "\n",
              "[1 rows x 13 columns]"
            ]
          },
          "metadata": {},
          "execution_count": 977
        }
      ],
      "source": [
        "user_amortization_data.head()"
      ]
    },
    {
      "cell_type": "code",
      "execution_count": 978,
      "metadata": {
        "id": "9wRnYkkUrCMZ"
      },
      "outputs": [],
      "source": [
        "user_amortization_data[\"Predicted Square Feet Price\"] = predPerSqFt"
      ]
    },
    {
      "cell_type": "code",
      "execution_count": 979,
      "metadata": {
        "id": "CveOb9Som9yp"
      },
      "outputs": [],
      "source": [
        "user_amortization_data[\"Equity Value\"] = user_amortization_data[\"Predicted House Price\"] - user_amortization_data[\"Remaining Principal\"]"
      ]
    },
    {
      "cell_type": "code",
      "execution_count": 980,
      "metadata": {
        "colab": {
          "base_uri": "https://localhost:8080/",
          "height": 153
        },
        "id": "QL8KJoDfnLIH",
        "outputId": "81602159-a450-4f24-93d9-935a16f1071c"
      },
      "outputs": [
        {
          "output_type": "execute_result",
          "data": {
            "text/html": [
              "<div>\n",
              "<style scoped>\n",
              "    .dataframe tbody tr th:only-of-type {\n",
              "        vertical-align: middle;\n",
              "    }\n",
              "\n",
              "    .dataframe tbody tr th {\n",
              "        vertical-align: top;\n",
              "    }\n",
              "\n",
              "    .dataframe thead th {\n",
              "        text-align: right;\n",
              "    }\n",
              "</style>\n",
              "<table border=\"1\" class=\"dataframe\">\n",
              "  <thead>\n",
              "    <tr style=\"text-align: right;\">\n",
              "      <th></th>\n",
              "      <th>id</th>\n",
              "      <th>Mortgage Starting Date</th>\n",
              "      <th>House Value</th>\n",
              "      <th>Paid In Cash</th>\n",
              "      <th>Principal Loan Amount</th>\n",
              "      <th>Annual Interest Rate</th>\n",
              "      <th>Total Months Elapsed</th>\n",
              "      <th>Loan Period (Years)</th>\n",
              "      <th>Monthly Payment Amount</th>\n",
              "      <th>Total Principal Paid</th>\n",
              "      <th>Total Interest Paid</th>\n",
              "      <th>Remaining Principal</th>\n",
              "      <th>Predicted House Price</th>\n",
              "      <th>Predicted Square Feet Price</th>\n",
              "      <th>Equity Value</th>\n",
              "    </tr>\n",
              "  </thead>\n",
              "  <tbody>\n",
              "    <tr>\n",
              "      <th>0</th>\n",
              "      <td>108.0</td>\n",
              "      <td>5/13/2011</td>\n",
              "      <td>196100.0</td>\n",
              "      <td>74518.0</td>\n",
              "      <td>$121,582</td>\n",
              "      <td>4%</td>\n",
              "      <td>126.0</td>\n",
              "      <td>30.0</td>\n",
              "      <td>($580.45)</td>\n",
              "      <td>-27374.96705</td>\n",
              "      <td>-45761.86708</td>\n",
              "      <td>94207.03295</td>\n",
              "      <td>200529.766</td>\n",
              "      <td>11.228</td>\n",
              "      <td>106322.73305</td>\n",
              "    </tr>\n",
              "  </tbody>\n",
              "</table>\n",
              "</div>"
            ],
            "text/plain": [
              "      id Mortgage Starting Date  ...  Predicted Square Feet Price  Equity Value\n",
              "0  108.0              5/13/2011  ...                       11.228  106322.73305\n",
              "\n",
              "[1 rows x 15 columns]"
            ]
          },
          "metadata": {},
          "execution_count": 980
        }
      ],
      "source": [
        "user_amortization_data"
      ]
    },
    {
      "cell_type": "code",
      "source": [
        "!pip install cryptography"
      ],
      "metadata": {
        "colab": {
          "base_uri": "https://localhost:8080/"
        },
        "id": "Xjhy5eVlSn_O",
        "outputId": "1d6e31ef-572c-44d5-e958-e2a27016a759"
      },
      "execution_count": 981,
      "outputs": [
        {
          "output_type": "stream",
          "name": "stdout",
          "text": [
            "Requirement already satisfied: cryptography in /usr/local/lib/python3.7/dist-packages (36.0.0)\n",
            "Requirement already satisfied: cffi>=1.12 in /usr/local/lib/python3.7/dist-packages (from cryptography) (1.15.0)\n",
            "Requirement already satisfied: pycparser in /usr/local/lib/python3.7/dist-packages (from cffi>=1.12->cryptography) (2.21)\n"
          ]
        }
      ]
    },
    {
      "cell_type": "code",
      "source": [
        "# Encrypting the data to get the cipher text using Fernet Encryption\n",
        "\n",
        "from cryptography.fernet import Fernet\n",
        "\n",
        "# Message to encrypt\n",
        "id = str(int(user_amortization_data[\"id\"]))\n",
        "house_price = str(float(user_amortization_data[\"Predicted House Price\"]))\n",
        "house_price_per_sqft = str(float(user_amortization_data[\"Predicted Square Feet Price\"]))\n",
        "equity_value = str(round(float(user_amortization_data[\"Equity Value\"]), 3))\n",
        "\n",
        "# Generating the Key\n",
        "key = Fernet.generate_key()\n",
        "fernet = Fernet(key)\n",
        "\n",
        "print(f\"Encryption Key: {key}\\n\")\n",
        "\n",
        "# Encrpyting the messages\n",
        "enc_id = fernet.encrypt(id.encode())\n",
        "enc_house_price = fernet.encrypt(house_price.encode())\n",
        "enc_equity_value = fernet.encrypt(equity_value.encode())\n",
        "enc_house_price_per_sqft = fernet.encrypt(house_price_per_sqft.encode())\n",
        "\n",
        "print(\"User ID: \", id)\n",
        "print(f\"Encrypted User ID: {enc_id}\\n\")\n",
        "\n",
        "print(\"Predicted House Price: \", house_price)\n",
        "print(f\"Encrypted House Price: {enc_house_price}\\n\")\n",
        "\n",
        "print(\"Predicted House Price Per Sqft: \", house_price_per_sqft)\n",
        "print(f\"Encrypted House Price Per Sqft:  {enc_house_price_per_sqft}\\n\")\n",
        "\n",
        "print(\"Predicted Equity Value: \", equity_value)\n",
        "print(f\"Encrypted Equity Value: {enc_equity_value}\\n\")"
      ],
      "metadata": {
        "colab": {
          "base_uri": "https://localhost:8080/"
        },
        "id": "RbDpnOEPRYc3",
        "outputId": "122391b9-cb58-48ee-c248-9a1b6dced100"
      },
      "execution_count": 982,
      "outputs": [
        {
          "output_type": "stream",
          "name": "stdout",
          "text": [
            "Encryption Key: b'dvvYw10XikryZ7lFhkec9M5G8DPJlPxXhvl3gBAoT6g='\n",
            "\n",
            "User ID:  108\n",
            "Encrypted User ID: b'gAAAAABhsq3oMsah0aHeNL45dHXx-LRsqJumxIQ-JOSWWwe6hKPSwnK5B2_mEtPXeRlqjgyirMis_pwvIzdguyb8FqJQv3rRLg=='\n",
            "\n",
            "Predicted House Price:  200529.766\n",
            "Encrypted House Price: b'gAAAAABhsq3oOUzU6NwUqSlj2PS3TZBeo9D5m8z0QtvhT7rCZBMbNUUl37BqFCB1HVyeshoSWJAhlGlCJZWPH6uF9L_XTGt_uQ=='\n",
            "\n",
            "Predicted House Price Per Sqft:  11.228\n",
            "Encrypted House Price Per Sqft:  b'gAAAAABhsq3oIFGEtPDgNkqicel_CKCaOr-GkQOMNxt63o3b0xaK9vrNGFmzwbWqM5TtYsrnFJ1kNKTevJL1w3PRe4QbmGt2Ig=='\n",
            "\n",
            "Predicted Equity Value:  106322.733\n",
            "Encrypted Equity Value: b'gAAAAABhsq3oijXnXZRznQ-NlptbLG-i_7rM-J4GgeRQd8g7_l0cy-uUyGIlltfQRJAs_qaQJfCZiYCWhSSKUpOThVvxdHS2Vw=='\n",
            "\n"
          ]
        }
      ]
    },
    {
      "cell_type": "code",
      "source": [
        "print(f\"User {user_id} belongs to the zip {zip}, and the average price for that zip is {zip_average_price[zip]}\")"
      ],
      "metadata": {
        "colab": {
          "base_uri": "https://localhost:8080/"
        },
        "id": "Phr4J9xf9wbu",
        "outputId": "17741ad0-9d8b-4770-9f98-f5c4de0b6c27"
      },
      "execution_count": 983,
      "outputs": [
        {
          "output_type": "stream",
          "name": "stdout",
          "text": [
            "User 108 belongs to the zip 30087, and the average price for that zip is 190259.9042\n"
          ]
        }
      ]
    },
    {
      "cell_type": "code",
      "source": [
        "# Decrypting the messages\n",
        "dec_id = fernet.decrypt(enc_id).decode()\n",
        "dec_house_price = fernet.decrypt(enc_house_price).decode()\n",
        "dec_equity_value = fernet.decrypt(enc_equity_value).decode()\n",
        "dec_house_price_per_sqft = fernet.decrypt(enc_house_price_per_sqft).decode()\n",
        "\n",
        "print(f\"Decrypted User ID: {dec_id}\\n\")\n",
        "print(\"Decrypted House Price: \", dec_house_price)\n",
        "print(\"Decrypted House Price Per Sqft: \", dec_house_price_per_sqft)\n",
        "print(\"Decrypted Equity Value: \", dec_equity_value)\n"
      ],
      "metadata": {
        "colab": {
          "base_uri": "https://localhost:8080/"
        },
        "id": "JlsVYDQ8967t",
        "outputId": "2071bf50-75b3-466a-ef29-8a42760b27ca"
      },
      "execution_count": 984,
      "outputs": [
        {
          "output_type": "stream",
          "name": "stdout",
          "text": [
            "Decrypted User ID: 108\n",
            "\n",
            "Decrypted House Price:  200529.766\n",
            "Decrypted House Price Per Sqft:  11.228\n",
            "Decrypted Equity Value:  106322.733\n"
          ]
        }
      ]
    }
  ],
  "metadata": {
    "colab": {
      "collapsed_sections": [],
      "name": "Step 8 Testing_User_Data.ipynb",
      "provenance": []
    },
    "kernelspec": {
      "display_name": "Python 3",
      "language": "python",
      "name": "python3"
    },
    "language_info": {
      "codemirror_mode": {
        "name": "ipython",
        "version": 3
      },
      "file_extension": ".py",
      "mimetype": "text/x-python",
      "name": "python",
      "nbconvert_exporter": "python",
      "pygments_lexer": "ipython3",
      "version": "3.8.5"
    }
  },
  "nbformat": 4,
  "nbformat_minor": 0
}